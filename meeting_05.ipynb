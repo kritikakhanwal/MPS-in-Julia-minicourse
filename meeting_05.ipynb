{
 "cells": [
  {
   "cell_type": "markdown",
   "metadata": {},
   "source": [
    "## Homework 1 solution\n",
    "\n",
    "Let's use the following convention for numbering legs:\n",
    "```\n",
    " 1--A--3\n",
    "    |\n",
    "    2\n",
    "```"
   ]
  },
  {
   "cell_type": "code",
   "execution_count": 1,
   "metadata": {
    "collapsed": true
   },
   "outputs": [],
   "source": [
    "using TensorOperations\n",
    "using LinearMaps"
   ]
  },
  {
   "cell_type": "code",
   "execution_count": 2,
   "metadata": {},
   "outputs": [
    {
     "data": {
      "text/plain": [
       "rand_UMPS"
      ]
     },
     "execution_count": 2,
     "metadata": {},
     "output_type": "execute_result"
    }
   ],
   "source": [
    "\"\"\"\n",
    "    rand_UMPS(d, D; keep_it_real=true)\n",
    "\n",
    "Return a random three-valent tensor A, that defines a uniform MPS (UMPS).\n",
    "The bond dimension of the physical leg should be d, and the bond dimension\n",
    "of the two \"virtual\" legs (the horizontal ones) should be D.\n",
    "keep_it_real is keyword argument, for whether the matrix should be real or\n",
    "complex.\n",
    "\n",
    "This means you can call\n",
    "`rand_UMPS(2, 9)`\n",
    "or\n",
    "`rand_UMPS(2, 9; keep_it_real=true)`\n",
    "and they both give a you real A, but you can also call\n",
    "`rand_UMPS(2, 9; keep_it_real=false)`\n",
    "to get a complex A.\n",
    "\"\"\"\n",
    "function rand_UMPS(d, D; keep_it_real=true)\n",
    "    shp = (D, d, D)\n",
    "    if keep_it_real\n",
    "        A = randn(shp)\n",
    "    else\n",
    "        A_real = randn(shp)\n",
    "        A_imag = randn(shp)\n",
    "        A = complex.(A_real, A_imag) / sqrt(2)\n",
    "    end\n",
    "    return A\n",
    "end"
   ]
  },
  {
   "cell_type": "code",
   "execution_count": 3,
   "metadata": {},
   "outputs": [
    {
     "data": {
      "text/plain": [
       "tm"
      ]
     },
     "execution_count": 3,
     "metadata": {},
     "output_type": "execute_result"
    }
   ],
   "source": [
    "\"\"\"\n",
    "    tm(A)\n",
    "\n",
    "Return the transfer matrix of A:\n",
    " --A---\n",
    "   |  \n",
    " --A*--\n",
    "\"\"\"\n",
    "function tm(A)\n",
    "    @tensor T[i1,i2,j1,j2] := A[i1,p,j1]*conj(A)[i2,p,j2]\n",
    "end"
   ]
  },
  {
   "cell_type": "code",
   "execution_count": 4,
   "metadata": {},
   "outputs": [
    {
     "data": {
      "text/plain": [
       "tm_eigs_dense"
      ]
     },
     "execution_count": 4,
     "metadata": {},
     "output_type": "execute_result"
    }
   ],
   "source": [
    "function eig_and_trunc(T, nev; by=identity, rev=false)\n",
    "    S, U = eig(T)\n",
    "    perm = sortperm(S; by=by, rev=rev)\n",
    "    S = S[perm]\n",
    "    U = U[:, perm]\n",
    "    S = S[1:nev]\n",
    "    U = U[:, 1:nev]\n",
    "    return S, U\n",
    "end\n",
    "\n",
    "\"\"\"\n",
    "    tm_eigs(A, dirn, nev)\n",
    "\n",
    "Return some of the eigenvalues and vectors of the transfer matrix of A.\n",
    "dirn should be \"L\", \"R\" or \"BOTH\", and determines which eigenvectors to return.\n",
    "nev is the number of eigenpairs to return (starting with the eigenvalues with\n",
    "largest magnitude).\n",
    "\"\"\"\n",
    "function tm_eigs_dense(A, dirn, nev)\n",
    "    T = tm(A)\n",
    "    D = size(T, 1)\n",
    "    T = reshape(T, (D^2, D^2))\n",
    "    nev = min(nev, D^2)\n",
    "    \n",
    "    result = ()\n",
    "    if dirn == \"R\" || dirn == \"BOTH\"\n",
    "        SR, UR = eig_and_trunc(T, nev; by=abs, rev=true)\n",
    "        UR = [reshape(UR[:,i], (D, D)) for i in 1:nev]\n",
    "        result = tuple(result..., SR, UR)\n",
    "    end\n",
    "    if dirn == \"L\" || dirn == \"BOTH\"\n",
    "        SL, UL = eig_and_trunc(T', nev; by=abs, rev=true)\n",
    "        UL = [reshape(UL[:,i], (D, D)) for i in 1:nev]\n",
    "        result = tuple(result..., SL, UL)\n",
    "    end\n",
    "    return result\n",
    "end"
   ]
  },
  {
   "cell_type": "code",
   "execution_count": 5,
   "metadata": {},
   "outputs": [
    {
     "data": {
      "text/plain": [
       "tm_r"
      ]
     },
     "execution_count": 5,
     "metadata": {},
     "output_type": "execute_result"
    }
   ],
   "source": [
    "\"\"\"\n",
    "    tm_l(A, x)\n",
    "\n",
    "Return y, where\n",
    "/------   /------A--\n",
    "|       = |      |  \n",
    "\\- y* -   \\- x* -A*-\n",
    "\"\"\"\n",
    "function tm_l(A, x)\n",
    "    @tensor y[i, j] := (x[a, b] * A[b, p, j]) * conj(A[a, p, i])\n",
    "    return y\n",
    "end\n",
    "\n",
    "\n",
    "\"\"\"\n",
    "    tm_r(A, x)\n",
    "\n",
    "Return y, where\n",
    "-- y -\\   --A-- x -\\\n",
    "      | =   |      |\n",
    "------/   --A*-----/\n",
    "\"\"\"\n",
    "function tm_r(A, x)\n",
    "    @tensor y[i, j] := A[i, p, a] * (conj(A[j, p, b]) * x[a, b])\n",
    "    return y\n",
    "end\n"
   ]
  },
  {
   "cell_type": "code",
   "execution_count": 6,
   "metadata": {},
   "outputs": [
    {
     "data": {
      "text/plain": [
       "tm_eigs_sparse (generic function with 1 method)"
      ]
     },
     "execution_count": 6,
     "metadata": {},
     "output_type": "execute_result"
    }
   ],
   "source": [
    "function tm_eigs_sparse(A, dirn, nev)\n",
    "    if dirn == \"BOTH\"\n",
    "        SR, UR = tm_eigs_sparse(A, \"R\", nev)\n",
    "        SL, UL = tm_eigs_sparse(A, \"L\", nev)\n",
    "        return SR, UR, SL, UL\n",
    "    else\n",
    "        D = size(A, 1)\n",
    "        x = zeros(eltype(A), (D, D))\n",
    "        if dirn == \"L\"\n",
    "            f = v -> vec(tm_l(A, copy!(x, v)))\n",
    "        else\n",
    "            f = v -> vec(tm_r(A, copy!(x, v)))\n",
    "        end\n",
    "\n",
    "        fmap = LinearMap{eltype(A)}(f, D^2)\n",
    "        S, U, nconv, niter, nmult, resid = eigs(fmap, nev=nev, which=:LM, ritzvec=true)\n",
    "        U = [reshape(U[:,i], (D, D)) for i in 1:size(U, 2)]\n",
    "\n",
    "        return S, U\n",
    "    end\n",
    "end"
   ]
  },
  {
   "cell_type": "code",
   "execution_count": 7,
   "metadata": {},
   "outputs": [
    {
     "data": {
      "text/plain": [
       "tm_eigs (generic function with 1 method)"
      ]
     },
     "execution_count": 7,
     "metadata": {},
     "output_type": "execute_result"
    }
   ],
   "source": [
    "function tm_eigs(A, dirn, nev; max_dense_D=10)\n",
    "    D = size(A, 1)\n",
    "    if D <= max_dense_D || nev >= D^2\n",
    "        return tm_eigs_dense(A, dirn, nev)\n",
    "    else\n",
    "        return tm_eigs_sparse(A, dirn, nev)\n",
    "    end\n",
    "end"
   ]
  },
  {
   "cell_type": "code",
   "execution_count": 8,
   "metadata": {},
   "outputs": [
    {
     "data": {
      "text/plain": [
       "normalize!"
      ]
     },
     "execution_count": 8,
     "metadata": {},
     "output_type": "execute_result"
    }
   ],
   "source": [
    "\"\"\"\n",
    "    normalize!(A)\n",
    "\n",
    "Normalize the UMPS defined by A, and return the dominant left and right\n",
    "eigenvectors l and r of its transfer matrix, normalized so that l'*r = 1.\n",
    "\"\"\"\n",
    "function normalize!(A)\n",
    "    SR, UR, SL, UL = tm_eigs(A, \"BOTH\", 1)\n",
    "    S1 = SR[1]\n",
    "    A ./= sqrt(S1)\n",
    "    \n",
    "    l = UL[1]\n",
    "    r = UR[1]  \n",
    "    #We need this to be 1\n",
    "    n = vec(l)'*vec(r)\n",
    "    abs_n = abs(n)\n",
    "    phase_n = abs_n/n\n",
    "    sfac = 1.0/sqrt(abs_n)\n",
    "    l .*= sfac/phase_n\n",
    "    r .*= sfac\n",
    "    return l, r\n",
    "end"
   ]
  },
  {
   "cell_type": "markdown",
   "metadata": {},
   "source": [
    "## Homework 2 solution"
   ]
  },
  {
   "cell_type": "code",
   "execution_count": 9,
   "metadata": {},
   "outputs": [
    {
     "data": {
      "text/plain": [
       "tm_r_op"
      ]
     },
     "execution_count": 9,
     "metadata": {},
     "output_type": "execute_result"
    }
   ],
   "source": [
    "\"\"\"\n",
    "    tm_l_op(A, O, x)\n",
    "\n",
    "Return y, where\n",
    "/------   /------A--\n",
    "|         |      |  \n",
    "|       = |      O  \n",
    "|         |      |  \n",
    "\\- y* -   \\- x* -A*-\n",
    "\"\"\"\n",
    "function tm_l_op(A, O, x)\n",
    "    @tensor y[i, j] := (x[a, b] * A[b, p2, j]) * (conj(A[a, p1, i]) * conj(O[p1, p2]))\n",
    "    return y\n",
    "end\n",
    "\n",
    "\n",
    "\"\"\"\n",
    "    tm_r_op(A, O, x)\n",
    "\n",
    "Return y, where\n",
    "-- y -\\   --A-- x -\\\n",
    "      |     |      |\n",
    "      | =   O      |\n",
    "      |     |      |\n",
    "------/   --A*-----/\n",
    "\"\"\"\n",
    "function tm_r_op(A, O, x)\n",
    "    @tensor y[i, j] := (A[i, p1, a] * O[p1, p2]) * (conj(A[j, p2, b]) * x[a, b])\n",
    "    return y\n",
    "end\n"
   ]
  },
  {
   "cell_type": "code",
   "execution_count": 10,
   "metadata": {},
   "outputs": [
    {
     "data": {
      "text/plain": [
       "expect_local"
      ]
     },
     "execution_count": 10,
     "metadata": {},
     "output_type": "execute_result"
    }
   ],
   "source": [
    "\"\"\"\n",
    "    expect_local(A, O, l, r)\n",
    "\n",
    "Return the expectation value of the one-site operator O for the UMPS state\n",
    "defined by the tensor A.\n",
    "\"\"\"\n",
    "function expect_local(A, O, l, r)\n",
    "    l = tm_l_op(A, O, l)\n",
    "    expectation = vec(l)'*vec(r)\n",
    "    return expectation\n",
    "end"
   ]
  },
  {
   "cell_type": "code",
   "execution_count": 11,
   "metadata": {},
   "outputs": [
    {
     "data": {
      "text/plain": [
       "correlator_twopoint"
      ]
     },
     "execution_count": 11,
     "metadata": {},
     "output_type": "execute_result"
    }
   ],
   "source": [
    "\"\"\"\n",
    "    correlator_twopoint(A, O1, O2, m, l, r)\n",
    "\n",
    "Return the (connected) two-point correlator of operators O1 and O2 for the\n",
    "state UMPS(A), when O1 and O2 are i sites apart, where i ranges from 1 to m. In\n",
    "other words, return <O1_0 O2_i> - <O1> <O2>, for all i = 1,...,m, where the\n",
    "expectation values are with respect to the state |UMPS(A)>.\n",
    "\"\"\"\n",
    "function correlator_twopoint(A, O1, O2, m, l, r)\n",
    "    local_O1 = expect_local(A, O1, l, r)\n",
    "    local_O2 = expect_local(A, O2, l, r)\n",
    "    disconnected = local_O1 * local_O2\n",
    "    \n",
    "    l = tm_l_op(A, O1, l)\n",
    "    r = tm_r_op(A, O2, r)\n",
    "    \n",
    "    result = zeros(eltype(A), m)\n",
    "    result[1] = vec(l)'*vec(r) - disconnected\n",
    "    for i in 1:m\n",
    "        r = tm_r(A, r)\n",
    "        result[i] = vec(l)'*vec(r) - disconnected\n",
    "    end\n",
    "    return result\n",
    "end"
   ]
  },
  {
   "cell_type": "code",
   "execution_count": 12,
   "metadata": {},
   "outputs": [
    {
     "data": {
      "text/plain": [
       "correlation_length"
      ]
     },
     "execution_count": 12,
     "metadata": {},
     "output_type": "execute_result"
    }
   ],
   "source": [
    "\"\"\"\n",
    "    correlation_length(A)\n",
    "\n",
    "Return the correlation length ξ of the UMPS defined by A. ξ = - 1/ln(|lambda[2]|),\n",
    "where lambda[2] is the eigenvalue of the MPS transfer matrix with second largest\n",
    "magnitude. (We assume here that UMPS(A) is normalized.)\n",
    "\"\"\"\n",
    "function correlation_length(A)\n",
    "    S, U = tm_eigs(A, \"L\", 2)\n",
    "    s2 = S[2]\n",
    "    ξ = -1/log(abs(s2))\n",
    "    return ξ\n",
    "end"
   ]
  },
  {
   "cell_type": "markdown",
   "metadata": {
    "collapsed": true
   },
   "source": [
    "# But I don't care about random MPSes!"
   ]
  },
  {
   "cell_type": "markdown",
   "metadata": {},
   "source": [
    "Now that you know how to compute correlation functions for MPS states, we should start thinking about how do we get a useful MPS state in the first place. So far all our states have been defined by tensors $A$ with random elements.\n",
    "\n",
    "Some fun little analytical examples exist, such as how to represent GHZ or W states as MPSes. You should google them up. The real question is though, given an arbitrary local Hamiltonian, can we find an MPS for the ground state. We know that for gapped Hamiltonians (i.e. most Hamiltonians) correlations in the ground state decay exponentially and entanglement is limited, so there's hope that the answer would be \"yes we can\".\n",
    "\n",
    "You can think about this problem in a few different ways. One is to ask, what's the lowest energy state we can find on the manifold of MPS states. The question is then a matter of optimizing for minimal expectation value $\\langle \\psi | H | \\psi \\rangle$ under the constraint that the state $|\\psi \\rangle$ is an MPS. Another way to approach this would be writing down some expression for the exact ground state (an expression we obviously can't just go an evaluate, otherwise there would be no problem), and then try to massage that expression into an MPS.\n",
    "\n",
    "Various algorithms for implementing these different approaches in different situations (finite-size, infinite-size, translation invariant or not, what kind of boundary conditions) exist. Some examples are the Density Matrix Renormalization Group (DMRG), Time-Dependent Variational Principle (TDVP) and Time-Evolving Block Decimation (TEBD). We'll implement an infinite-lattice version of TEBD. Why TEBD? Because it's simple, and because it you can also use it to do time-evolution of MPS states. (I maintain that the choice to pick TEBD is independent of the fact that Guifre invented it.)\n",
    "\n",
    "Implementing iTEBD will be the rest of this minicourse. However, we'll only really get to that next time. First, we need to talk a bit about gauge freedom in MPS and how to fix this freedom, since TEBD will be making use of a specific gauge."
   ]
  },
  {
   "cell_type": "markdown",
   "metadata": {},
   "source": [
    "## Gauge freedom and canonical forms\n",
    "In any tensor network, I can always take any contracted leg, and insert on that leg a pair of invertibale matrices $g g^{-1} = \\mathbb{1}$. This doesn't affect the value the network contracts to in anyway: I've just changed the basis in which I perform one of the sums (traces).\n",
    "\n",
    "This means that an MPS representation of a state is not unique. I can insert any $g g^{-1}$ on any of the virtual legs of the MPS, and the state stays the same. Obviously, I would like to stay within the framework of translation invariant MPSes, so I allow only for gauge transformations (as these changes of basis are called) of the form\n",
    "```\n",
    "--A-- -> --gi--A--g--\n",
    "  |            |\n",
    "```\n",
    "where by `gi` I mean the inverse of $g$.\n",
    "\n",
    "Since we have some freedom in picking $A$, we should probably try to make use of it somehow, while fixing the freedom. How? Well, we could try to impose some nice properties on $A$, if such a property can be achieved by a gauge transformation. And it turns out there's a really useful property that we can impose, which goes as follows.\n",
    "\n",
    "First, we have to complicate our setup slightly. Previously our how MPS was defined by $A$. Now, let's think of an MPS that is instead written as\n",
    "```\n",
    "... --λ--Γ--λ--Γ--λ--Γ--λ-- ...\n",
    "         |     |     |\n",
    "```\n",
    "Here $\\Gamma$ is some tensor, and $\\lambda$ is a diagonal matrix. Obviously we could just absorb $\\lambda$ into $\\Gamma$ and a get single tensor $A$. The point is, by using the gauge freedom, we can choose $\\Gamma$ and $\\lambda$ in such a way, that *$\\lambda$ always has on its diagonal the Schmidt coefficients of partitioning the state into two parts at $\\lambda$*. What are Schmidt coefficients? https://en.wikipedia.org/wiki/Schmidt_decomposition\n",
    "\n",
    "Another way of stating the same condition is to say that the left dominant eigenvector of\n",
    "```\n",
    "--λ--Γ--\n",
    "     |\n",
    "--λ--Γ--\n",
    "```\n",
    "and the right dominant eigenvector of\n",
    "```\n",
    "--Γ--λ--\n",
    "  |\n",
    "--Γ--λ--\n",
    "```\n",
    "are both the identity matrix.\n",
    "\n",
    "Choosing our gauge so that this property holds, turns out to be quite handy. You'll see next time how it's used in the TEBD algorithm, but you can probably already imagine that it's kinda nice that on each virtual legs you have these Schmidt coefficients $\\lambda$, that immediately tell you everything you would want to know about the entanglement between the two sides of the state separated by this leg. The bond dimension is also obviously the Schmidt rank, which gives us a very concrete, physical characterization of what high bond dimension and low bond dimension mean.\n",
    "\n",
    "So, given $A$, how do we find a gauge transformation such that the above property holds? I'm getting tired of typing, so just go read Section II of https://arxiv.org/pdf/0711.3960.pdf, that will explain it all. Then, it's time to define your homework."
   ]
  },
  {
   "cell_type": "markdown",
   "metadata": {},
   "source": [
    "## Homework 3\n",
    "#### -1)\n",
    "Make sure that, for the expectation values and correlation functions,<br>\n",
    "a) Your expectation values for Hermitian operators are real.<br>\n",
    "b) Your correlation functions decay like they should (make a plot).<br>\n",
    "c) You can generate two-point correlators with $D=100$ for distances $1, \\dots, 100$ or so in a few seconds.<br>\n",
    "Feel free to make use of my code above, as long as you understand what's going on.\n",
    "\n",
    "#### 0)\n",
    "Read Section II of https://arxiv.org/pdf/0711.3960.pdf. Note that there they start from some $\\Gamma$ and $\\lambda$, that are not the canonical form, and try to turn them into $\\Gamma'$ and $\\lambda'$ that would be in the canonical form. We, on the other hand, start from just $A$. You can easily translate to their language by setting their $\\Gamma$ to your $A$, and their $\\lambda$ to just the identity matrix.\n",
    "\n",
    "#### 1)\n",
    "As explained in above reference, the form of MPS transfer matrix $T$, i.e. the symmetry it has because of how it consists of $A$ and $A^\\ast$, guarantees that the dominant eigenvectors $l$ and $r$ are Hermitian and positive semi-definite. However, as we discussed in the last meeting, when we numerically ask for the eigenvectors, they come with an arbitrary phase. Last time we modified `normalize!` so that it partially fixes this phase (and also the norm of $l$ and $r$), imposing `vec(l)'*vec(r) == 1`. Your first job is to further modify `normalize!` so that it fully fixes the phases, so that the `l` and `r` it returns are Hermitian and positive semi-definite, in addition to having the property that `vec(l)'*vec(r) == 1`.\n",
    "\n",
    "How do you do that? Well, you should definitely start by getting the `normalize!` function from above, and only make small modifications to that. Since we know that $r$ is actually $a \\cdot \\tilde{r}$, where $\\tilde{r}$ is Hermitian and pos. semi-def. and $a$ is a scalar, we can just take the trace $\\mathrm{Tr} r = a \\mathrm{Tr} \\tilde{r}$, and we know that $\\mathrm{Tr} \\tilde{r}$ is something real and positive. Any part of $\\mathrm{Tr} r$ that is not real and positive, is $a$, and you divide $r$ by $a$ to get $\\tilde{r}$. And similarly for $l$."
   ]
  },
  {
   "cell_type": "code",
   "execution_count": 13,
   "metadata": {},
   "outputs": [
    {
     "name": "stderr",
     "output_type": "stream",
     "text": [
      "\u001b[1m\u001b[33mWARNING: \u001b[39m\u001b[22m\u001b[33mreplacing docs for 'normalize! :: Tuple{Any}' in module 'Main'.\u001b[39m\n"
     ]
    },
    {
     "data": {
      "text/plain": [
       "normalize!"
      ]
     },
     "execution_count": 13,
     "metadata": {},
     "output_type": "execute_result"
    }
   ],
   "source": [
    "\"\"\"\n",
    "    normalize!(A)\n",
    "\n",
    "Normalize the UMPS defined by A, and return the dominant left and right\n",
    "eigenvectors l and r of its transfer matrix, normalized so that they are\n",
    "both Hermitian and positive semi-definite (when thought of as matrices),\n",
    "and l'*r = 1.\n",
    "\"\"\"\n",
    "function normalize!(A)\n",
    "    SR, UR, SL, UL = tm_eigs(A, \"BOTH\", 1)\n",
    "    S1 = SR[1]\n",
    "    A ./= sqrt(S1)\n",
    "    \n",
    "    l = UL[1]\n",
    "    r = UR[1]  \n",
    "    # We want both l and r to be Hermitian and pos. semi-def.\n",
    "    # We know they are that, up to a phase.\n",
    "    # We can find this phase, and divide it away, because it is also the\n",
    "    # phase of the trace of l (respectively r).\n",
    "    r_tr = trace(r)\n",
    "    phase_r = r_tr/abs(r_tr)\n",
    "    r ./= phase_r\n",
    "    l_tr = trace(l)\n",
    "    phase_l = l_tr/abs(l_tr)\n",
    "    l ./= phase_l\n",
    "    # Finally divide them by a real scalar that makes\n",
    "    # their inner product be 1.\n",
    "    n = vec(l)'*vec(r)\n",
    "    abs_n = abs(n)\n",
    "    phase_n = n/abs_n\n",
    "    (phase_n ≉ 1) && warn(\"In normalize! phase_n = \", phase_n, \" ≉ 1\")\n",
    "    sfac = sqrt(abs_n)\n",
    "    l ./= sfac\n",
    "    r ./= sfac\n",
    "    return l, r\n",
    "end"
   ]
  },
  {
   "cell_type": "markdown",
   "metadata": {},
   "source": [
    "#### 2)\n",
    "Now that we can trust our $l$ and $r$ to be Hermitian and $\\geq 0$, we can go ahead and implement a function that takes in $A$, $l$ and $r$, and outputs $\\Gamma$ and $\\lambda$, that define the same MPS, but now in canonical form."
   ]
  },
  {
   "cell_type": "code",
   "execution_count": 24,
   "metadata": {},
   "outputs": [
    {
     "name": "stderr",
     "output_type": "stream",
     "text": [
      "\u001b[1m\u001b[33mWARNING: \u001b[39m\u001b[22m\u001b[33mreplacing docs for 'canonical_form :: Tuple{Any,Any,Any}' in module 'Main'.\u001b[39m\n"
     ]
    },
    {
     "data": {
      "text/plain": [
       "canonical_form"
      ]
     },
     "execution_count": 24,
     "metadata": {},
     "output_type": "execute_result"
    }
   ],
   "source": [
    "\"\"\"\n",
    "    canonical_form(A, l, r)\n",
    "\n",
    "Return a three-valent tensor Γ and a vector λ, that define the canonical\n",
    "of the UMPS defined by A. l and r should be the normalized dominant\n",
    "left and right eigenvectors of A.\n",
    "\"\"\"\n",
    "function canonical_form(A, l, r)\n",
    "    l_H = 0.5*(l + l')\n",
    "    r_H = 0.5*(r + r')\n",
    "    (l_H ≉ l) && warn(\"In canonical_form, l is not Hermitian: \", l)\n",
    "    (r_H ≉ r) && warn(\"In canonical_form, r is not Hermitian: \", r)\n",
    "    evl, Ul = eig(Hermitian(l_H))\n",
    "    evr, Ur = eig(Hermitian(r_H))\n",
    "    X = Ur * Diagonal(sqrt.(complex.(evr)))\n",
    "    YT = Diagonal(sqrt.(complex.(evl))) * Ul'\n",
    "    U, λ, V = svd(YT*X)\n",
    "    Xi = Diagonal(sqrt.(complex.(1./evr))) * Ur'\n",
    "    YTi = Ul * Diagonal(sqrt.(complex.(1 ./ evl)))\n",
    "    @tensor Γ[x,i,y] := (V'[x,a] * Xi[a,b]) * A[b,i,c] * (YTi[c,d] * U[d,y])\n",
    "    return Γ, λ\n",
    "end"
   ]
  },
  {
   "cell_type": "markdown",
   "metadata": {},
   "source": [
    "#### 3)\n",
    "Prove to yourself that<br>\n",
    "a)<br>\n",
    "the way you've chosen to transform the MPS, going form $A$ to $(\\Gamma, \\lambda)$, is actually a gauge transformation. In other words, prove that they both define the same state.\n",
    "\n",
    "b)<br>\n",
    "that the MPS defined $(\\Gamma, \\lambda)$ is actually in canonical form, i.e., that the left dominant eigenvector of\n",
    "```\n",
    "--λ--Γ--\n",
    "     |\n",
    "--λ--Γ--\n",
    "```\n",
    "and the right dominant eigenvector of\n",
    "```\n",
    "--Γ--λ--\n",
    "  |\n",
    "--Γ--λ--\n",
    "```\n",
    "are both the identity matrix. Do this both numerically and analytically."
   ]
  },
  {
   "cell_type": "code",
   "execution_count": 18,
   "metadata": {},
   "outputs": [
    {
     "name": "stdout",
     "output_type": "stream",
     "text": [
      "true\n",
      "true\n",
      "true\n",
      "true\n",
      "true\n",
      "2.6478124784463845e-15\n",
      "3.355021370262196e-15\n",
      "true\n",
      "true\n"
     ]
    }
   ],
   "source": [
    "let\n",
    "    d = 2\n",
    "    D = 20\n",
    "    A = rand_UMPS(d, D; keep_it_real=false)\n",
    "    \n",
    "    # Test the new normalization function.\n",
    "    l, r = normalize!(A)\n",
    "    SR, UR, SL, UL = tm_eigs(A, \"BOTH\", 1)\n",
    "    # The MPS is normalized.\n",
    "    println(SR[1] ≈ 1.0)\n",
    "    println(SL[1] ≈ 1.0)\n",
    "    # l and r are really eigenvectors, and have their inner product be 1.\n",
    "    println(l ≈ tm_l(A, l))\n",
    "    println(r ≈ tm_r(A, r))\n",
    "    println(vec(l)'*vec(r) ≈ 1.0)\n",
    "    # l and r are really Hermitian.\n",
    "    println(vecnorm(l - l'))\n",
    "    println(vecnorm(r - r'))\n",
    "    # l and r are really pos. semi-def.\n",
    "    evl = eig(l)[1]\n",
    "    evr = eig(r)[1]\n",
    "    allposl = all(abs(imag(i)) < 1e-14 && real(i) >= 0 for i in evl)\n",
    "    allposr = all(abs(imag(i)) < 1e-14 && real(i) >= 0 for i in evr)\n",
    "    println(allposl)\n",
    "    println(allposr)\n",
    "end"
   ]
  },
  {
   "cell_type": "code",
   "execution_count": 23,
   "metadata": {},
   "outputs": [
    {
     "name": "stdout",
     "output_type": "stream",
     "text": [
      "vecnorm(should_be_unity_l - eye(D, D)) = 1.9894087737535425e-14\n",
      "vecnorm(should_be_unity_r - eye(D, D)) = 2.3205209933034125e-14\n",
      "true\n",
      "true\n"
     ]
    }
   ],
   "source": [
    "let\n",
    "    d = 2\n",
    "    D = 10\n",
    "    A = rand_UMPS(d, D; keep_it_real=false)\n",
    "    \n",
    "    l, r = normalize!(A)\n",
    "    Γ, λ = canonical_form(A, l, r)\n",
    "    λm = diagm(λ)\n",
    "    \n",
    "    # Check that identity really is the dominant eigenvector as it should.\n",
    "    @tensor should_be_unity_l[x,y] := (λm[a,b] * Γ[b,i,x]) * (conj(λm)[a,c] * conj(Γ)[c,i,y])\n",
    "    @tensor should_be_unity_r[x,y] := (Γ[x,i,b] * λm[b,a]) * (conj(Γ)[y,i,c] * conj(λm)[c,a])\n",
    "    @show vecnorm(should_be_unity_l - eye(D,D))\n",
    "    @show vecnorm(should_be_unity_r - eye(D,D))\n",
    "    \n",
    "    # Check that we get the same two-point correlators for the original A,\n",
    "    # and for a couple of different ways of contracting together λ and Γ.\n",
    "    O1 = randn(d, d)\n",
    "    O2 = randn(d, d)\n",
    "    O1 = (O1 + O1')/2\n",
    "    O2 = (O2 + O2')/2\n",
    "    \n",
    "    m = 3\n",
    "    # The original A.\n",
    "    corrsA = correlator_twopoint(A, O1, O2, m, l, r)\n",
    "    # Contract λ into Γ from the right.\n",
    "    @tensor A2[x,i,y] := Γ[x,i,a] * λm[a,y]\n",
    "    l2, r2 = normalize!(A2)\n",
    "    corrsA2 = correlator_twopoint(A2, O1, O2, m, l2, r2)\n",
    "    println(all(corrsA .≈ corrsA2))\n",
    "    # Contract λ into Γ from the left.\n",
    "    @tensor A3[x,i,y] := λm[x,a] * Γ[a,i,y]\n",
    "    l3, r3 = normalize!(A3)\n",
    "    corrsA3 = correlator_twopoint(A3, O1, O2, m, l3, r3)\n",
    "    println(all(corrsA .≈ corrsA3))\n",
    "end"
   ]
  },
  {
   "cell_type": "markdown",
   "metadata": {},
   "source": [
    "## iTEBD"
   ]
  },
  {
   "cell_type": "markdown",
   "metadata": {},
   "source": [
    "Finally, we have arrived at a point where we have everything we need to implement iTEBD, and use it to find the ground state for a given Hamiltonian. We'll first go through the Suzuki-Trotter decomposition of the imaginary time-development operator, see how that leads to an algorithm (iTEBD) for finding an MPS for the ground state, and then finally see why we should keep our MPS in the canonical form while applying this algorithm.\n",
    "\n",
    "Given a Hamiltonian $H$, here's one way to define the ground state:\n",
    "$$ |E_0\\rangle \\sim e^{-\\beta H} | \\psi \\rangle, \\quad \\beta >> 1. $$\n",
    "Here $\\sim$ means $=$ up to normalization. $| \\psi \\rangle$ can be any state, as long as it's not orthogonal to $|E_0 \\rangle$ (just pick one at random). If $\\beta$ is large enough, $e^{\\beta H}$ becomes proportional to the projector to $| E_0 \\rangle$, and the above equation holds.\n",
    "\n",
    "Of course, $e^{- \\beta H}$ is a matrix exponentially big in the system size. Instead of trying to evaluate it, what we'll do is decompose it into a circuit of local gates. This is called the Suzuki-Trotter decomposition.\n",
    "\n",
    "For this, we'll need to assume $H$ is a sum over local terms. Let's assume it consists of two-site terms:\n",
    "$$ H = \\sum_i h_{i,i+1}. $$\n",
    "Then we can write \n",
    "$$ H = \\sum_{i \\text{ odd}} h_{i,i+1} + \\sum_{i \\text{ even}} h_{i,i+1} = H_{\\text{odd}} + H_{\\text{even}}. $$\n",
    "The useful point about this is that all the terms in $H_{\\text{odd}}$ operate on different sites, and thus commute with each other, and similarly for $H_{\\text{even}}$. Next, introduce a small parameter $\\tau$, and use the Baker–Campbell–Hausdorff formula as follows:\n",
    "$$ e^{-\\beta H} = \\big[ e^{-\\tau H} \\big]^{\\frac{\\beta}{\\tau}}\n",
    "= \\big[ e^{-\\tau H_{\\text{odd}} \\; -\\tau H_{\\text{even}}} \\big]^{\\frac{\\beta}{\\tau}}\n",
    "= \\big[ e^{-\\tau H_{\\text{odd}}} \\; e^{-\\tau  H_{\\text{even}}} \\; e^{-\\tau^2 (\\text{commutators of $H_{\\text{odd}}$ and $H_{\\text{even}}$)}} \\big]^{\\frac{\\beta}{\\tau}}.$$\n",
    "Making $\\tau$ small enough so that anything $O(\\tau^2)$ can be ignored, makes this\n",
    "$$ \\big[ \\prod_{i \\text{ odd}} e^{-\\tau h_{i, i+1}} \\; \\prod_{i \\text{ even}} e^{-\\tau h_{i, i+1}} \\big]^{\\frac{\\beta}{\\tau}}.$$\n",
    "Diagrammatically we can write this as\n",
    "\n",
    "<img src=\"fig/trotter.svg\">\n",
    "\n",
    "Based on this, we can formulate the basic idea of the iTEBD algorithm (note that the i in iTEBD stands for infinite systems, but so far everything we've done works the same way for finite systems): Take the expression $e^{-\\beta H} | \\psi \\rangle$. Decompose $e^{-\\beta H}$ in to circuit using the above Suzuki-Trotter decomposition, with some choice of the parameter $\\tau$ that is small. Take the initial state $| \\psi \\rangle$ to be an MPS. The expression for the ground state then looks like\n",
    "\n",
    "<img src=\"fig/trotter_gs.svg\">\n",
    "\n",
    "With these steps, we've gotten rid of all the exponentially large objects in $e^{-\\beta H} | \\psi \\rangle$: The evolution operator is described by local gates, and the state is defined by local MPS tensors. We can then absorb the layers of the circuit into the MPS, layer by layer, contracting only local things at a time. If we assume translation invariance this can all be done at the thermodynamic limit, i.e., with an infinite system. By \"absorbing\" a layer I mean this:\n",
    "\n",
    "<img src=\"fig/trotter_absorb.svg\">\n",
    "\n",
    "At the last step the four-valent tensor has been split into two MPS matrices. This can be done by considering it as a matrix from the two left-most legs to the two right-most legs, and performing and a singular value decomposition (SVD).\n",
    "\n",
    "With this method we can keep absorbing layers of the circuit $e^{-\\beta H}$ into our MPS, effectively increasing $\\beta$, until the state doesn't change significantly any more, i.e., until the procedure converges. At the end, our MPS should be the ground state of the Hamiltonian, subject to the caveat that since our $\\tau$ is small, and not exactly zero, and our $\\beta$ is large, and not exactly infinite, we only find the ground state approximately (the error coming from ignoring the $\\tau^2$ terms is called the Trotter error).\n",
    "\n",
    "Seems great! So why don't we get coding? Well, there's one problem here. Every time we use an SVD to split\n",
    "\n",
    "<img src=\"fig/trotter_split.svg\">\n",
    "\n",
    "we are SVDing a $dD \\times dD$ matrix. This means there are $dD$ singular values, meaning the bond dimension of our MPS after this procedure will be $dD$ (whereas a moment before it was just $D$). So our bond dimension will grow during this procedure, and exponentially too! This is not good.\n",
    "\n",
    "However, we never claimed we wanted the exact ground state. What we wanted was a low bond dimension MPS that approximates the ground state. So somehow we should reduce the bond dimension back to what it was, while not changing the state our MPS describes too much (or as little as possible). We should probably take our MPS tensors, that now have some indices ranging over $dD$ values, and throw out some of the elements (like throwing out some columns of a matrix) so that all the dimensions are at most $D$. But which ones do we throw out?\n",
    "\n",
    "Turns out, you should always throw out the parts that correspond to the smallest Schmidt values. This is the same result as the fact that the optimal low-rank approximation to matrix is given by its truncated SVD (see Low rank approximation in https://en.wikipedia.org/wiki/Singular-value_decomposition#Applications_of_the_SVD), since the Schmidt decomposition is just an SVD in disguise. Thus we should be performing this whole iTEBD procedure in the canonical form, so that on each leg we have the Schmidt value corresponding to that bipartition of the state. Then every time we perform one of the SVDs that increases the bond dimension, we can go back to the canonical form and remove from the neighbouring tensors the parts that correspond to the smallest Schmidt values (which has the same effect as setting those values to zero).\n",
    "\n",
    "Thus a naive summary of the iTEBD algorithm would be as follows:\n",
    "1. Absorb a layer of the circuit for $e^{-\\beta H}$ into your MPS.\n",
    "2. Use SVDs to transform the network back into an MPS, but now with a larger bond dimension.\n",
    "3. Gauge transform this network into the canonical form.\n",
    "4. Throw out the smallest Schmidt values on some of the legs, to reduce the bond dimension back to $D$.\n",
    "5. Go to 1., unless your state has already converged, i.e., isn't changing any more, in which case we are done.\n",
    "\n",
    "Note that every second time we go through this process, we should absorb a layer of $e^{-\\tau H_{\\text{odd}}}$ and every second time a layer of $e^{-\\tau H_{\\text{even}}}$.\n",
    "\n",
    "I call the above summary \"naive\", because I've ignored some details. For instance, the canonical form of your MPS will now have translation symmetry only by two sites, which means you'll have to keep to tensors $\\Gamma_A$ and $\\Gamma_B$ and corresponding two vectors of Schmidt values $\\lambda_A$ and $\\lambda_B$. It also turns out it's not important to be canonicalizing your MPS at every single step: If you start with an MPS in canonical form, you can perform the absorption, SVD and truncation all with recanonicalizing in between, since your MPS will stay close enough to being canonical. You can even repeat this for a few iterations before having to canonicalize again. These kinds of details you should check up on your own from the literature. I mainly recommend<br>\n",
    "https://arxiv.org/pdf/cond-mat/0605597.pdf<br>\n",
    "for understanding the iTEBD algorithm, and Section II of<br>\n",
    "https://arxiv.org/pdf/0711.3960.pdf<br>\n",
    "for how to deal with the canonical form (including the one with two-site translation symmetry).\n",
    "Other resources exist, which you can try if you want to, especially given that the first paper above is quite terse. There's even a wikipedia article, https://en.wikipedia.org/wiki/Time-evolving_block_decimation, although I must admit I haven't read it.\n",
    "\n",
    "Your homework for next time is to go and implement this! You should start by reading https://arxiv.org/pdf/cond-mat/0605597.pdf, and then try putting all of it into code. Don't worry if you don't get it all done by the next meeting. What I want to see is a serious attempt to get as far as you can (including writing some code!). Once you hit a roadblock and don't know what to do anymore, you should try to understand what exactly it is you don't understand, and then come to the next meeting with questions. Next time we'll go through what you got done and clarify what needs to be clarified. We'll hopefully also talk a bit about things like performance, how to measure convergence, etc.\n",
    "\n",
    "I've written below some templates that you can use as a basis of your own code. They also include some hints as to how to go about implementing things."
   ]
  },
  {
   "cell_type": "code",
   "execution_count": 31,
   "metadata": {},
   "outputs": [
    {
     "data": {
      "text/plain": [
       "itebd_optimize (generic function with 1 method)"
      ]
     },
     "execution_count": 31,
     "metadata": {},
     "output_type": "execute_result"
    }
   ],
   "source": [
    "# U should be the four-valent tensor e^(-\\tau h).\n",
    "# D is the bond dimension to be used.\n",
    "# You probably want to add some other arguments for things like\n",
    "# how exactly to decide when convergence has been reached.\n",
    "function itebd_optimize(U, D)\n",
    "    d = size(U, 1)\n",
    "    ΓA, λA, ΓB, λB = itebd_random_initial(d, D)\n",
    "    # Here there should be a loop, that applies one step of iTEBD,\n",
    "    # i.e., absorbs U into ΓA, λA, ΓB, λB, and splits with an SVD\n",
    "    # to get back to an MPS defined by some other ΓA2, λA2, ΓB2, λB2,\n",
    "    # and truncates the SVD back to bond dimension D.\n",
    "    # Your ΓA2, λA2, ΓB2, λB2 will not be exactly in the canonical form\n",
    "    # any more after all this, so you should probably recanonicalize.\n",
    "    #\n",
    "    # Finally, you should check whether doing all this changed your MPS\n",
    "    # significantly: If not, the iTEBD procedure has converged, and we can\n",
    "    # quit and return. Convergence can be checked in many ways, but one\n",
    "    # good one is to compare the Schmidt values λA2, λB2 to the previous\n",
    "    # Schmidt values λA, λB, and see if they've changed a lot.\n",
    "    return ΓA, λA, ΓB, λB\n",
    "end"
   ]
  },
  {
   "cell_type": "code",
   "execution_count": 30,
   "metadata": {},
   "outputs": [
    {
     "data": {
      "text/plain": [
       "itebd_step (generic function with 1 method)"
      ]
     },
     "execution_count": 30,
     "metadata": {},
     "output_type": "execute_result"
    }
   ],
   "source": [
    "function itebd_step(ΓA, λA, ΓB, λB, U)\n",
    "    # This is the heart of the algorithm: Absorb, split, truncate.\n",
    "    # See Figure 3 of https://arxiv.org/pdf/cond-mat/0605597.pdf\n",
    "    # of what should go in here. Remember that you should do the same\n",
    "    # thing twice, first U operating of odd pairs of sites and then on\n",
    "    # even pairs of sites.\n",
    "end"
   ]
  },
  {
   "cell_type": "code",
   "execution_count": 29,
   "metadata": {},
   "outputs": [
    {
     "data": {
      "text/plain": [
       "itebd_random_initial (generic function with 1 method)"
      ]
     },
     "execution_count": 29,
     "metadata": {},
     "output_type": "execute_result"
    }
   ],
   "source": [
    "function itebd_random_initial(d, D)\n",
    "    # Generate a random initial guess for the MPS. It should have\n",
    "    # translation symmetry by two sites, i.e., it should consist of\n",
    "    # tensors ΓA, λA, ΓB, λB, and be in the canonical form.\n",
    "end"
   ]
  },
  {
   "cell_type": "code",
   "execution_count": 28,
   "metadata": {},
   "outputs": [
    {
     "data": {
      "text/plain": [
       "truncate_svd"
      ]
     },
     "execution_count": 28,
     "metadata": {},
     "output_type": "execute_result"
    }
   ],
   "source": [
    "# A handy function for truncating SVDs. You'll need this in implementing itebd_step.\n",
    "\"\"\"\n",
    "    truncate_svd(U, S, V, D)\n",
    "\n",
    "Given an SVD of some matrix M as M = U*diagm(S)*V', truncate this\n",
    "SVD, keeping only the D largest singular values.\n",
    "\"\"\"\n",
    "function truncate_svd(U, S, V, D)\n",
    "    U = U[:, 1:D]\n",
    "    S = S[1:D]\n",
    "    V = V[:, 1:D]\n",
    "    return U, S, V\n",
    "end"
   ]
  },
  {
   "cell_type": "code",
   "execution_count": 27,
   "metadata": {},
   "outputs": [
    {
     "data": {
      "text/plain": [
       "double_canonicalize (generic function with 1 method)"
      ]
     },
     "execution_count": 27,
     "metadata": {},
     "output_type": "execute_result"
    }
   ],
   "source": [
    "function double_canonicalize(ΓA, λA, ΓB, λB)\n",
    "    # Take in an MPS defined by ΓA, λA, ΓB, λB, and do a gauge transformation to\n",
    "    # put it in a canonical form. See the end of Section II of\n",
    "    # https://arxiv.org/pdf/0711.3960.pdf for how to do this.\n",
    "end"
   ]
  },
  {
   "cell_type": "markdown",
   "metadata": {},
   "source": [
    "## Let's test this algorithm of ours!"
   ]
  },
  {
   "cell_type": "code",
   "execution_count": 32,
   "metadata": {},
   "outputs": [
    {
     "data": {
      "text/plain": [
       "build_ising_ham (generic function with 2 methods)"
      ]
     },
     "execution_count": 32,
     "metadata": {},
     "output_type": "execute_result"
    }
   ],
   "source": [
    "function build_ising_ham(h=1.0)\n",
    "    X = [0 1; 1 0]\n",
    "    Z = [1 0; 0 -1]\n",
    "    I2 = eye(2)\n",
    "    XX = kron(X, X)\n",
    "    ZI = kron(Z, I2)\n",
    "    IZ = kron(I2, Z)\n",
    "    H = -(XX + h/2*(ZI+IZ))\n",
    "    return H\n",
    "end"
   ]
  },
  {
   "cell_type": "code",
   "execution_count": 43,
   "metadata": {},
   "outputs": [
    {
     "name": "stdout",
     "output_type": "stream",
     "text": [
      "In iTEBD, eps = 1.863e+00, counter = 1, energy = -1.255681618864e+00, off by 1.379e-02\n",
      "In iTEBD, eps = 1.446e-01, counter = 2, energy = -1.267309492347e+00, off by 4.657e-03\n",
      "In iTEBD, eps = 4.229e-02, counter = 3, energy = -1.270053100200e+00, off by 2.503e-03\n",
      "In iTEBD, eps = 3.387e-02, counter = 4, energy = -1.271302506296e+00, off by 1.521e-03\n",
      "In iTEBD, eps = 2.773e-02, counter = 5, energy = -1.271953216456e+00, off by 1.010e-03\n",
      "In iTEBD, eps = 2.311e-02, counter = 6, energy = -1.272328045972e+00, off by 7.159e-04\n",
      "In iTEBD, eps = 1.971e-02, counter = 7, energy = -1.272561340333e+00, off by 5.327e-04\n",
      "In iTEBD, eps = 1.710e-02, counter = 8, energy = -1.272715532954e+00, off by 4.116e-04\n",
      "In iTEBD, eps = 1.506e-02, counter = 9, energy = -1.272822393042e+00, off by 3.276e-04\n",
      "In iTEBD, eps = 1.343e-02, counter = 10, energy = -1.272899329676e+00, off by 2.672e-04\n",
      "In iTEBD, eps = 1.210e-02, counter = 11, energy = -1.272956479819e+00, off by 2.223e-04\n",
      "In iTEBD, eps = 1.100e-02, counter = 12, energy = -1.273000050030e+00, off by 1.881e-04\n",
      "In iTEBD, eps = 1.007e-02, counter = 13, energy = -1.273034003638e+00, off by 1.614e-04\n",
      "In iTEBD, eps = 9.278e-03, counter = 14, energy = -1.273060963379e+00, off by 1.403e-04\n",
      "In iTEBD, eps = 8.598e-03, counter = 15, energy = -1.273082718725e+00, off by 1.232e-04\n",
      "In iTEBD, eps = 8.007e-03, counter = 16, energy = -1.273100523369e+00, off by 1.092e-04\n",
      "In iTEBD, eps = 7.489e-03, counter = 17, energy = -1.273115276190e+00, off by 9.760e-05\n",
      "In iTEBD, eps = 7.031e-03, counter = 18, energy = -1.273127634931e+00, off by 8.789e-05\n",
      "In iTEBD, eps = 6.625e-03, counter = 19, energy = -1.273138089657e+00, off by 7.968e-05\n",
      "In iTEBD, eps = 6.261e-03, counter = 20, energy = -1.273147011439e+00, off by 7.268e-05\n",
      "In iTEBD, eps = 5.933e-03, counter = 21, energy = -1.273154685342e+00, off by 6.665e-05\n",
      "In iTEBD, eps = 5.637e-03, counter = 22, energy = -1.273161333241e+00, off by 6.143e-05\n",
      "In iTEBD, eps = 5.368e-03, counter = 23, energy = -1.273167129878e+00, off by 5.687e-05\n",
      "In iTEBD, eps = 5.123e-03, counter = 24, energy = -1.273172214379e+00, off by 5.288e-05\n",
      "In iTEBD, eps = 4.898e-03, counter = 25, energy = -1.273176698603e+00, off by 4.936e-05\n",
      "In iTEBD, eps = 4.692e-03, counter = 26, energy = -1.273180673306e+00, off by 4.624e-05\n",
      "In iTEBD, eps = 4.502e-03, counter = 27, energy = -1.273184212740e+00, off by 4.346e-05\n",
      "In iTEBD, eps = 4.326e-03, counter = 28, energy = -1.273187378121e+00, off by 4.097e-05\n",
      "In iTEBD, eps = 4.163e-03, counter = 29, energy = -1.273190220283e+00, off by 3.874e-05\n",
      "In iTEBD, eps = 4.011e-03, counter = 30, energy = -1.273192781716e+00, off by 3.673e-05\n",
      "In iTEBD, eps = 3.870e-03, counter = 31, energy = -1.273195098159e+00, off by 3.491e-05\n",
      "In iTEBD, eps = 3.738e-03, counter = 32, energy = -1.273197199843e+00, off by 3.326e-05\n",
      "In iTEBD, eps = 3.614e-03, counter = 33, energy = -1.273199112482e+00, off by 3.176e-05\n",
      "In iTEBD, eps = 3.498e-03, counter = 34, energy = -1.273200858054e+00, off by 3.038e-05\n",
      "In iTEBD, eps = 3.389e-03, counter = 35, energy = -1.273202455439e+00, off by 2.913e-05\n",
      "In iTEBD, eps = 3.287e-03, counter = 36, energy = -1.273203920923e+00, off by 2.798e-05\n",
      "In iTEBD, eps = 3.190e-03, counter = 37, energy = -1.273205268618e+00, off by 2.692e-05\n",
      "In iTEBD, eps = 3.099e-03, counter = 38, energy = -1.273206510800e+00, off by 2.594e-05\n",
      "In iTEBD, eps = 3.012e-03, counter = 39, energy = -1.273207658186e+00, off by 2.504e-05\n",
      "In iTEBD, eps = 2.930e-03, counter = 40, energy = -1.273208720167e+00, off by 2.421e-05\n",
      "In iTEBD, eps = 2.853e-03, counter = 41, energy = -1.273209705003e+00, off by 2.344e-05\n",
      "In iTEBD, eps = 2.779e-03, counter = 42, energy = -1.273210619976e+00, off by 2.272e-05\n",
      "In iTEBD, eps = 2.709e-03, counter = 43, energy = -1.273211471533e+00, off by 2.205e-05\n",
      "In iTEBD, eps = 2.642e-03, counter = 44, energy = -1.273212265391e+00, off by 2.143e-05\n",
      "In iTEBD, eps = 2.578e-03, counter = 45, energy = -1.273213006639e+00, off by 2.084e-05\n",
      "In iTEBD, eps = 2.517e-03, counter = 46, energy = -1.273213699819e+00, off by 2.030e-05\n",
      "In iTEBD, eps = 2.459e-03, counter = 47, energy = -1.273214348992e+00, off by 1.979e-05\n",
      "In iTEBD, eps = 2.404e-03, counter = 48, energy = -1.273214957799e+00, off by 1.931e-05\n",
      "In iTEBD, eps = 2.351e-03, counter = 49, energy = -1.273215529514e+00, off by 1.886e-05\n",
      "In iTEBD, eps = 2.300e-03, counter = 50, energy = -1.273216067083e+00, off by 1.844e-05\n",
      "114.734984 seconds (2.72 M allocations: 28.859 GiB, 2.53% gc time)\n"
     ]
    },
    {
     "data": {
      "text/plain": [
       "(Complex{Float64}[-0.944434-2.40795e-12im -0.373705-2.34097e-12im; 0.174414+0.0692808im -0.650334-0.258326im; … ; -3.58175e-5+9.56548e-5im -4.80892e-5-4.74559e-5im; -2.56068e-5-5.11531e-7im 5.42919e-5+4.88512e-6im]\n",
       "\n",
       "Complex{Float64}[0.18343-7.62295e-12im -0.695067+1.87727e-11im; -2.42888-0.9648im 1.21576+0.482925im; … ; 0.00083375+0.000408465im 0.00138506-0.000467533im; -0.000233485-0.000176437im 8.58347e-5-0.000192472im]\n",
       "\n",
       "Complex{Float64}[-0.246986+1.52566e-11im 0.545309-1.83567e-11im; -1.78995-0.711005im 0.43749+0.17378im; … ; -0.00441753-0.00253672im -0.00571466+0.00872578im; 0.00678015-0.00381446im 0.00234685+0.000280382im]\n",
       "\n",
       "...\n",
       "\n",
       "Complex{Float64}[7.14371e-5+3.19402e-5im -1.82364e-5-1.28023e-5im; -0.000323343-0.000327746im -0.000817066-0.000809968im; … ; 8.69253e7-7.67621e7im 5.68044e7+2.58622e7im; 1.53577e7-1.04811e7im 4.789e7-1.66212e7im]\n",
       "\n",
       "Complex{Float64}[1.99134e-5-1.4998e-5im -1.50992e-5+1.67924e-5im; 6.25346e-5-0.000161775im -0.000216057-2.52747e-5im; … ; 2.42598e8+4.98808e7im -1.24263e8-6.104e7im; -5.40551e7+1.47426e7im -2.37925e7+9.8875e6im]\n",
       "\n",
       "Complex{Float64}[5.42994e-5-2.05869e-7im -6.65414e-6+1.79034e-5im; -0.000243538-0.000448598im -0.000659943-0.000541884im; … ; -5.94174e7-1.19348e7im 3.83354e7+4.1287e7im; -2.59151e8+5.13088e8im -9.41615e7+2.85872e8im], [0.969252, 0.241188, 0.0467401, 0.0116308, 0.00738027, 0.0018365, 0.000998771, 0.000355898, 0.000248533, 0.00011819  …  4.54648e-10, 3.98799e-10, 3.78268e-10, 3.45514e-10, 3.02953e-10, 2.8502e-10, 2.46267e-10, 1.68973e-10, 1.57602e-10, 6.75923e-11], Complex{Float64}[-0.944434+0.0im -0.373705-1.49248e-12im; 0.18343+0.0im -0.695067-9.5152e-12im; … ; 1.31936e-5+0.0im -1.64971e-5-1.05709e-6im; 4.25596e-5+0.0im -1.17009e-5-6.63588e-6im]\n",
       "\n",
       "Complex{Float64}[0.174414-0.0692808im -0.650334+0.258326im; -2.42888+0.9648im 1.21576-0.482925im; … ; 0.000114291+2.9653e-5im -6.26882e-5+5.59591e-5im; -0.000182073+0.000206319im -0.000542067+0.00032419im]\n",
       "\n",
       "Complex{Float64}[-0.23696+0.0733057im 0.520446-0.161005im; -1.90422+0.589087im 0.478009-0.147877im; … ; -0.00135241+0.00249058im -8.53265e-5+0.000611473im; 0.0047051-0.00192629im 0.00870189-0.0024403im]\n",
       "\n",
       "...\n",
       "\n",
       "Complex{Float64}[-0.000274414-1.16284e-5im 0.000140617+4.76893e-5im; 0.000453081-0.000594738im 0.0034015-0.000398997im; … ; -1.87917e7-2.96887e7im 8.82772e6+1.72533e6im; -4.35495e7-2.3411e7im -1.69139e7-3.40261e7im]\n",
       "\n",
       "Complex{Float64}[-0.000111453+4.29226e-5im 3.02177e-8+6.86246e-7im; 0.00138808-0.000534519im 0.00230712-0.00067843im; … ; 8.12869e7-9.96966e7im -6.40076e7+7.46681e7im; -3.85353e7+3.8122e7im 4.45827e6-1.94373e7im]\n",
       "\n",
       "Complex{Float64}[-2.43673e-6+0.000125147im 0.000240156-0.000104057im; -0.0030109+0.00133173im -0.00175093-0.000717718im; … ; -1.70928e7+2.94239e6im -4.59811e6-9.02178e6im; -2.93148e7-6.38578e7im -1.08899e7-3.886e7im], [0.968787, 0.242894, 0.0474548, 0.0118978, 0.00751376, 0.00188385, 0.00101269, 0.000368052, 0.000253901, 0.000119245  …  9.39111e-10, 9.34211e-10, 9.28455e-10, 9.24678e-10, 8.98325e-10, 8.64604e-10, 8.32221e-10, 8.1902e-10, 7.72954e-10, 6.5987e-10])"
      ]
     },
     "execution_count": 43,
     "metadata": {},
     "output_type": "execute_result"
    }
   ],
   "source": [
    "let\n",
    "    # Here's a piece that you can use as a basis for testing your iTEBD.\n",
    "    # You should probably implement function that measures the per site ground\n",
    "    # state energy (very much like your previous expect_local, but now for an\n",
    "#)\n",
    "    τ = 1e-2\n",
    "    D = 50\n",
    "    h = build_ising_ham()\n",
    "    U = expm(-τ*h)\n",
    "    U = reshape(U, (2,2,2,2))\n",
    "    h = reshape(h, (2,2,2,2))\n",
    "    ΓA, λA, ΓB, λB = itebd_optimize(U, D)\n",
    "end"
   ]
  },
  {
   "cell_type": "code",
   "execution_count": 118,
   "metadata": {
    "collapsed": true
   },
   "outputs": [],
   "source": [
    "# τ = 1e-2, D = 70\n",
    "# In iTEBD, eps = 2.824e-04, counter = 467, energy = -1.272827043163e+00, off-by 3.240e-04\n",
    "# τ = 1e-2, D = 100\n",
    "# In iTEBD, eps = 1.863e-04, counter = 500, energy = -1.273042308731e+00, off by 1.549e-04"
   ]
  },
  {
   "cell_type": "code",
   "execution_count": 38,
   "metadata": {
    "collapsed": true
   },
   "outputs": [],
   "source": [
    "# In iTEBD, eps = 1.019e-02, counter = 50, energy = -1.154290569054e+00, off by 9.342e-02\n",
    "# 55.273693 seconds (1.53 M allocations: 9.625 GiB, 3.11% gc time)\n",
    "\n",
    "# After vectorizing canonicalize_double:\n",
    "# In iTEBD, eps = 1.993e-02, counter = 50, energy = -1.165382092223e+00, off by 8.471e-02\n",
    "# 64.933059 seconds (2.02 M allocations: 10.980 GiB, 3.35% gc time)\n",
    "\n",
    "# After further making multiplications in-place in canonicalize_double\n",
    "# In iTEBD, eps = 2.905e-02, counter = 50, energy = -1.227661648993e+00, off by 3.580e-02\n",
    "# 29.377446 seconds (4.06 M allocations: 10.809 GiB, 5.31% gc time)\n",
    "\n",
    "# After vectorizing and making things happen in place in itebd_halfstep:\n",
    "# In iTEBD, eps = 9.356e-03, counter = 50, energy = -1.245828616447e+00, off by 2.153e-02\n",
    "# 31.969622 seconds (5.32 M allocations: 12.147 GiB, 6.14% gc time)"
   ]
  },
  {
   "cell_type": "code",
   "execution_count": null,
   "metadata": {
    "collapsed": true
   },
   "outputs": [],
   "source": []
  }
 ],
 "metadata": {
  "kernelspec": {
   "display_name": "Julia 0.6.0",
   "language": "julia",
   "name": "julia-0.6"
  },
  "language_info": {
   "file_extension": ".jl",
   "mimetype": "application/julia",
   "name": "julia",
   "version": "0.6.0"
  }
 },
 "nbformat": 4,
 "nbformat_minor": 2
}
