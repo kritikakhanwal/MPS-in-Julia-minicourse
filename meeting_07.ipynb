{
 "cells": [
  {
   "cell_type": "markdown",
   "metadata": {},
   "source": [
    "## Homework 1 solution\n",
    "\n",
    "Let's use the following convention for numbering legs:\n",
    "```\n",
    " 1--A--3\n",
    "    |\n",
    "    2\n",
    "```"
   ]
  },
  {
   "cell_type": "code",
   "execution_count": 1,
   "metadata": {
    "collapsed": true
   },
   "outputs": [],
   "source": [
    "using TensorOperations\n",
    "using LinearMaps"
   ]
  },
  {
   "cell_type": "code",
   "execution_count": 2,
   "metadata": {},
   "outputs": [
    {
     "data": {
      "text/plain": [
       "rand_UMPS"
      ]
     },
     "execution_count": 2,
     "metadata": {},
     "output_type": "execute_result"
    }
   ],
   "source": [
    "\"\"\"\n",
    "    rand_UMPS(d, D; keep_it_real=true)\n",
    "\n",
    "Return a random three-valent tensor A, that defines a uniform MPS (UMPS).\n",
    "The bond dimension of the physical leg should be d, and the bond dimension\n",
    "of the two \"virtual\" legs (the horizontal ones) should be D.\n",
    "keep_it_real is keyword argument, for whether the matrix should be real or\n",
    "complex.\n",
    "\n",
    "This means you can call\n",
    "`rand_UMPS(2, 9)`\n",
    "or\n",
    "`rand_UMPS(2, 9; keep_it_real=true)`\n",
    "and they both give a you real A, but you can also call\n",
    "`rand_UMPS(2, 9; keep_it_real=false)`\n",
    "to get a complex A.\n",
    "\"\"\"\n",
    "function rand_UMPS(d, D; keep_it_real=true)\n",
    "    shp = (D, d, D)\n",
    "    if keep_it_real\n",
    "        A = randn(shp)\n",
    "    else\n",
    "        A_real = randn(shp)\n",
    "        A_imag = randn(shp)\n",
    "        A = complex.(A_real, A_imag) / sqrt(2)\n",
    "    end\n",
    "    return A\n",
    "end"
   ]
  },
  {
   "cell_type": "code",
   "execution_count": 3,
   "metadata": {},
   "outputs": [
    {
     "data": {
      "text/plain": [
       "tm"
      ]
     },
     "execution_count": 3,
     "metadata": {},
     "output_type": "execute_result"
    }
   ],
   "source": [
    "\"\"\"\n",
    "    tm(A)\n",
    "\n",
    "Return the transfer matrix of A:\n",
    " --A---\n",
    "   |  \n",
    " --A*--\n",
    "\"\"\"\n",
    "function tm(A)\n",
    "    @tensor T[i1,i2,j1,j2] := A[i1,p,j1]*conj(A)[i2,p,j2]\n",
    "end"
   ]
  },
  {
   "cell_type": "code",
   "execution_count": 4,
   "metadata": {},
   "outputs": [
    {
     "data": {
      "text/plain": [
       "tm_eigs_dense"
      ]
     },
     "execution_count": 4,
     "metadata": {},
     "output_type": "execute_result"
    }
   ],
   "source": [
    "function eig_and_trunc(T, nev; by=identity, rev=false)\n",
    "    S, U = eig(T)\n",
    "    perm = sortperm(S; by=by, rev=rev)\n",
    "    S = S[perm]\n",
    "    U = U[:, perm]\n",
    "    S = S[1:nev]\n",
    "    U = U[:, 1:nev]\n",
    "    return S, U\n",
    "end\n",
    "\n",
    "\"\"\"\n",
    "    tm_eigs(A, dirn, nev)\n",
    "\n",
    "Return some of the eigenvalues and vectors of the transfer matrix of A.\n",
    "dirn should be \"L\", \"R\" or \"BOTH\", and determines which eigenvectors to return.\n",
    "nev is the number of eigenpairs to return (starting with the eigenvalues with\n",
    "largest magnitude).\n",
    "\"\"\"\n",
    "function tm_eigs_dense(A, dirn, nev)\n",
    "    T = tm(A)\n",
    "    D = size(T, 1)\n",
    "    T = reshape(T, (D^2, D^2))\n",
    "    nev = min(nev, D^2)\n",
    "    \n",
    "    result = ()\n",
    "    if dirn == \"R\" || dirn == \"BOTH\"\n",
    "        SR, UR = eig_and_trunc(T, nev; by=abs, rev=true)\n",
    "        UR = [reshape(UR[:,i], (D, D)) for i in 1:nev]\n",
    "        result = tuple(result..., SR, UR)\n",
    "    end\n",
    "    if dirn == \"L\" || dirn == \"BOTH\"\n",
    "        SL, UL = eig_and_trunc(T', nev; by=abs, rev=true)\n",
    "        UL = [reshape(UL[:,i], (D, D)) for i in 1:nev]\n",
    "        result = tuple(result..., SL, UL)\n",
    "    end\n",
    "    return result\n",
    "end"
   ]
  },
  {
   "cell_type": "code",
   "execution_count": 5,
   "metadata": {},
   "outputs": [
    {
     "data": {
      "text/plain": [
       "tm_r"
      ]
     },
     "execution_count": 5,
     "metadata": {},
     "output_type": "execute_result"
    }
   ],
   "source": [
    "\"\"\"\n",
    "    tm_l(A, x)\n",
    "\n",
    "Return y, where\n",
    "/------   /------A--\n",
    "|       = |      |  \n",
    "\\- y* -   \\- x* -A*-\n",
    "\"\"\"\n",
    "function tm_l(A, x)\n",
    "    @tensor y[i, j] := (x[a, b] * A[b, p, j]) * conj(A[a, p, i])\n",
    "    return y\n",
    "end\n",
    "\n",
    "\n",
    "\"\"\"\n",
    "    tm_r(A, x)\n",
    "\n",
    "Return y, where\n",
    "-- y -\\   --A-- x -\\\n",
    "      | =   |      |\n",
    "------/   --A*-----/\n",
    "\"\"\"\n",
    "function tm_r(A, x)\n",
    "    @tensor y[i, j] := A[i, p, a] * (conj(A[j, p, b]) * x[a, b])\n",
    "    return y\n",
    "end\n"
   ]
  },
  {
   "cell_type": "code",
   "execution_count": 6,
   "metadata": {},
   "outputs": [
    {
     "data": {
      "text/plain": [
       "tm_eigs_sparse (generic function with 1 method)"
      ]
     },
     "execution_count": 6,
     "metadata": {},
     "output_type": "execute_result"
    }
   ],
   "source": [
    "function tm_eigs_sparse(A, dirn, nev)\n",
    "    if dirn == \"BOTH\"\n",
    "        SR, UR = tm_eigs_sparse(A, \"R\", nev)\n",
    "        SL, UL = tm_eigs_sparse(A, \"L\", nev)\n",
    "        return SR, UR, SL, UL\n",
    "    else\n",
    "        D = size(A, 1)\n",
    "        x = zeros(eltype(A), (D, D))\n",
    "        if dirn == \"L\"\n",
    "            f = v -> vec(tm_l(A, copy!(x, v)))\n",
    "        else\n",
    "            f = v -> vec(tm_r(A, copy!(x, v)))\n",
    "        end\n",
    "\n",
    "        fmap = LinearMap{eltype(A)}(f, D^2)\n",
    "        S, U, nconv, niter, nmult, resid = eigs(fmap, nev=nev, which=:LM, ritzvec=true)\n",
    "        U = [reshape(U[:,i], (D, D)) for i in 1:size(U, 2)]\n",
    "\n",
    "        return S, U\n",
    "    end\n",
    "end"
   ]
  },
  {
   "cell_type": "code",
   "execution_count": 7,
   "metadata": {},
   "outputs": [
    {
     "data": {
      "text/plain": [
       "tm_eigs (generic function with 1 method)"
      ]
     },
     "execution_count": 7,
     "metadata": {},
     "output_type": "execute_result"
    }
   ],
   "source": [
    "function tm_eigs(A, dirn, nev; max_dense_D=10)\n",
    "    D = size(A, 1)\n",
    "    if D <= max_dense_D || nev >= D^2\n",
    "        return tm_eigs_dense(A, dirn, nev)\n",
    "    else\n",
    "        return tm_eigs_sparse(A, dirn, nev)\n",
    "    end\n",
    "end"
   ]
  },
  {
   "cell_type": "code",
   "execution_count": 8,
   "metadata": {},
   "outputs": [
    {
     "data": {
      "text/plain": [
       "normalize!"
      ]
     },
     "execution_count": 8,
     "metadata": {},
     "output_type": "execute_result"
    }
   ],
   "source": [
    "\"\"\"\n",
    "    normalize!(A)\n",
    "\n",
    "Normalize the UMPS defined by A, and return the dominant left and right\n",
    "eigenvectors l and r of its transfer matrix, normalized so that l'*r = 1.\n",
    "\"\"\"\n",
    "function normalize!(A)\n",
    "    SR, UR, SL, UL = tm_eigs(A, \"BOTH\", 1)\n",
    "    S1 = SR[1]\n",
    "    A ./= sqrt(S1)\n",
    "    \n",
    "    l = UL[1]\n",
    "    r = UR[1]  \n",
    "    #We need this to be 1\n",
    "    n = vec(l)'*vec(r)\n",
    "    abs_n = abs(n)\n",
    "    phase_n = abs_n/n\n",
    "    sfac = 1.0/sqrt(abs_n)\n",
    "    l .*= sfac/phase_n\n",
    "    r .*= sfac\n",
    "    return l, r\n",
    "end"
   ]
  },
  {
   "cell_type": "markdown",
   "metadata": {},
   "source": [
    "## Homework 2 solution"
   ]
  },
  {
   "cell_type": "code",
   "execution_count": 9,
   "metadata": {},
   "outputs": [
    {
     "data": {
      "text/plain": [
       "tm_r_op"
      ]
     },
     "execution_count": 9,
     "metadata": {},
     "output_type": "execute_result"
    }
   ],
   "source": [
    "\"\"\"\n",
    "    tm_l_op(A, O, x)\n",
    "\n",
    "Return y, where\n",
    "/------   /------A--\n",
    "|         |      |  \n",
    "|       = |      O  \n",
    "|         |      |  \n",
    "\\- y* -   \\- x* -A*-\n",
    "\"\"\"\n",
    "function tm_l_op(A, O, x)\n",
    "    @tensor y[i, j] := (x[a, b] * A[b, p2, j]) * (conj(A[a, p1, i]) * conj(O[p1, p2]))\n",
    "    return y\n",
    "end\n",
    "\n",
    "\n",
    "\"\"\"\n",
    "    tm_r_op(A, O, x)\n",
    "\n",
    "Return y, where\n",
    "-- y -\\   --A-- x -\\\n",
    "      |     |      |\n",
    "      | =   O      |\n",
    "      |     |      |\n",
    "------/   --A*-----/\n",
    "\"\"\"\n",
    "function tm_r_op(A, O, x)\n",
    "    @tensor y[i, j] := (A[i, p1, a] * O[p1, p2]) * (conj(A[j, p2, b]) * x[a, b])\n",
    "    return y\n",
    "end\n"
   ]
  },
  {
   "cell_type": "code",
   "execution_count": 10,
   "metadata": {},
   "outputs": [
    {
     "data": {
      "text/plain": [
       "expect_local"
      ]
     },
     "execution_count": 10,
     "metadata": {},
     "output_type": "execute_result"
    }
   ],
   "source": [
    "\"\"\"\n",
    "    expect_local(A, O, l, r)\n",
    "\n",
    "Return the expectation value of the one-site operator O for the UMPS state\n",
    "defined by the tensor A.\n",
    "\"\"\"\n",
    "function expect_local(A, O, l, r)\n",
    "    l = tm_l_op(A, O, l)\n",
    "    expectation = vec(l)'*vec(r)\n",
    "    return expectation\n",
    "end"
   ]
  },
  {
   "cell_type": "code",
   "execution_count": 11,
   "metadata": {},
   "outputs": [
    {
     "data": {
      "text/plain": [
       "correlator_twopoint"
      ]
     },
     "execution_count": 11,
     "metadata": {},
     "output_type": "execute_result"
    }
   ],
   "source": [
    "\"\"\"\n",
    "    correlator_twopoint(A, O1, O2, m, l, r)\n",
    "\n",
    "Return the (connected) two-point correlator of operators O1 and O2 for the\n",
    "state UMPS(A), when O1 and O2 are i sites apart, where i ranges from 1 to m. In\n",
    "other words, return <O1_0 O2_i> - <O1> <O2>, for all i = 1,...,m, where the\n",
    "expectation values are with respect to the state |UMPS(A)>.\n",
    "\"\"\"\n",
    "function correlator_twopoint(A, O1, O2, m, l, r)\n",
    "    local_O1 = expect_local(A, O1, l, r)\n",
    "    local_O2 = expect_local(A, O2, l, r)\n",
    "    disconnected = local_O1 * local_O2\n",
    "    \n",
    "    l = tm_l_op(A, O1, l)\n",
    "    r = tm_r_op(A, O2, r)\n",
    "    \n",
    "    result = zeros(eltype(A), m)\n",
    "    result[1] = vec(l)'*vec(r) - disconnected\n",
    "    for i in 1:m\n",
    "        r = tm_r(A, r)\n",
    "        result[i] = vec(l)'*vec(r) - disconnected\n",
    "    end\n",
    "    return result\n",
    "end"
   ]
  },
  {
   "cell_type": "code",
   "execution_count": 12,
   "metadata": {},
   "outputs": [
    {
     "data": {
      "text/plain": [
       "correlation_length"
      ]
     },
     "execution_count": 12,
     "metadata": {},
     "output_type": "execute_result"
    }
   ],
   "source": [
    "\"\"\"\n",
    "    correlation_length(A)\n",
    "\n",
    "Return the correlation length ξ of the UMPS defined by A. ξ = - 1/ln(|lambda[2]|),\n",
    "where lambda[2] is the eigenvalue of the MPS transfer matrix with second largest\n",
    "magnitude. (We assume here that UMPS(A) is normalized.)\n",
    "\"\"\"\n",
    "function correlation_length(A)\n",
    "    S, U = tm_eigs(A, \"L\", 2)\n",
    "    s2 = S[2]\n",
    "    ξ = -1/log(abs(s2))\n",
    "    return ξ\n",
    "end"
   ]
  },
  {
   "cell_type": "markdown",
   "metadata": {
    "collapsed": true
   },
   "source": [
    "# But I don't care about random MPSes!"
   ]
  },
  {
   "cell_type": "markdown",
   "metadata": {},
   "source": [
    "Now that you know how to compute correlation functions for MPS states, we should start thinking about how do we get a useful MPS state in the first place. So far all our states have been defined by tensors $A$ with random elements.\n",
    "\n",
    "Some fun little analytical examples exist, such as how to represent GHZ or W states as MPSes. You should google them up. The real question is though, given an arbitrary local Hamiltonian, can we find an MPS for the ground state. We know that for gapped Hamiltonians (i.e. most Hamiltonians) correlations in the ground state decay exponentially and entanglement is limited, so there's hope that the answer would be \"yes we can\".\n",
    "\n",
    "You can think about this problem in a few different ways. One is to ask, what's the lowest energy state we can find on the manifold of MPS states. The question is then a matter of optimizing for minimal expectation value $\\langle \\psi | H | \\psi \\rangle$ under the constraint that the state $|\\psi \\rangle$ is an MPS. Another way to approach this would be writing down some expression for the exact ground state (an expression we obviously can't just go an evaluate, otherwise there would be no problem), and then try to massage that expression into an MPS.\n",
    "\n",
    "Various algorithms for implementing these different approaches in different situations (finite-size, infinite-size, translation invariant or not, what kind of boundary conditions) exist. Some examples are the Density Matrix Renormalization Group (DMRG), Time-Dependent Variational Principle (TDVP) and Time-Evolving Block Decimation (TEBD). We'll implement an infinite-lattice version of TEBD. Why TEBD? Because it's simple, and because it you can also use it to do time-evolution of MPS states. (I maintain that the choice to pick TEBD is independent of the fact that Guifre invented it.)\n",
    "\n",
    "Implementing iTEBD will be the rest of this minicourse. However, we'll only really get to that next time. First, we need to talk a bit about gauge freedom in MPS and how to fix this freedom, since TEBD will be making use of a specific gauge."
   ]
  },
  {
   "cell_type": "markdown",
   "metadata": {},
   "source": [
    "## Gauge freedom and canonical forms\n",
    "In any tensor network, I can always take any contracted leg, and insert on that leg a pair of invertibale matrices $g g^{-1} = \\mathbb{1}$. This doesn't affect the value the network contracts to in anyway: I've just changed the basis in which I perform one of the sums (traces).\n",
    "\n",
    "This means that an MPS representation of a state is not unique. I can insert any $g g^{-1}$ on any of the virtual legs of the MPS, and the state stays the same. Obviously, I would like to stay within the framework of translation invariant MPSes, so I allow only for gauge transformations (as these changes of basis are called) of the form\n",
    "```\n",
    "--A-- -> --gi--A--g--\n",
    "  |            |\n",
    "```\n",
    "where by `gi` I mean the inverse of $g$.\n",
    "\n",
    "Since we have some freedom in picking $A$, we should probably try to make use of it somehow, while fixing the freedom. How? Well, we could try to impose some nice properties on $A$, if such a property can be achieved by a gauge transformation. And it turns out there's a really useful property that we can impose, which goes as follows.\n",
    "\n",
    "First, we have to complicate our setup slightly. Previously our how MPS was defined by $A$. Now, let's think of an MPS that is instead written as\n",
    "```\n",
    "... --λ--Γ--λ--Γ--λ--Γ--λ-- ...\n",
    "         |     |     |\n",
    "```\n",
    "Here $\\Gamma$ is some tensor, and $\\lambda$ is a diagonal matrix. Obviously we could just absorb $\\lambda$ into $\\Gamma$ and a get single tensor $A$. The point is, by using the gauge freedom, we can choose $\\Gamma$ and $\\lambda$ in such a way, that *$\\lambda$ always has on its diagonal the Schmidt coefficients of partitioning the state into two parts at $\\lambda$*. What are Schmidt coefficients? https://en.wikipedia.org/wiki/Schmidt_decomposition\n",
    "\n",
    "Another way of stating the same condition is to say that the left dominant eigenvector of\n",
    "```\n",
    "--λ--Γ--\n",
    "     |\n",
    "--λ--Γ--\n",
    "```\n",
    "and the right dominant eigenvector of\n",
    "```\n",
    "--Γ--λ--\n",
    "  |\n",
    "--Γ--λ--\n",
    "```\n",
    "are both the identity matrix.\n",
    "\n",
    "Choosing our gauge so that this property holds, turns out to be quite handy. You'll see next time how it's used in the TEBD algorithm, but you can probably already imagine that it's kinda nice that on each virtual legs you have these Schmidt coefficients $\\lambda$, that immediately tell you everything you would want to know about the entanglement between the two sides of the state separated by this leg. The bond dimension is also obviously the Schmidt rank, which gives us a very concrete, physical characterization of what high bond dimension and low bond dimension mean.\n",
    "\n",
    "So, given $A$, how do we find a gauge transformation such that the above property holds? I'm getting tired of typing, so just go read Section II of https://arxiv.org/pdf/0711.3960.pdf, that will explain it all. Then, it's time to define your homework."
   ]
  },
  {
   "cell_type": "markdown",
   "metadata": {},
   "source": [
    "## Homework 3\n",
    "#### -1)\n",
    "Make sure that, for the expectation values and correlation functions,<br>\n",
    "a) Your expectation values for Hermitian operators are real.<br>\n",
    "b) Your correlation functions decay like they should (make a plot).<br>\n",
    "c) You can generate two-point correlators with $D=100$ for distances $1, \\dots, 100$ or so in a few seconds.<br>\n",
    "Feel free to make use of my code above, as long as you understand what's going on.\n",
    "\n",
    "#### 0)\n",
    "Read Section II of https://arxiv.org/pdf/0711.3960.pdf. Note that there they start from some $\\Gamma$ and $\\lambda$, that are not the canonical form, and try to turn them into $\\Gamma'$ and $\\lambda'$ that would be in the canonical form. We, on the other hand, start from just $A$. You can easily translate to their language by setting their $\\Gamma$ to your $A$, and their $\\lambda$ to just the identity matrix.\n",
    "\n",
    "#### 1)\n",
    "As explained in above reference, the form of MPS transfer matrix $T$, i.e. the symmetry it has because of how it consists of $A$ and $A^\\ast$, guarantees that the dominant eigenvectors $l$ and $r$ are Hermitian and positive semi-definite. However, as we discussed in the last meeting, when we numerically ask for the eigenvectors, they come with an arbitrary phase. Last time we modified `normalize!` so that it partially fixes this phase (and also the norm of $l$ and $r$), imposing `vec(l)'*vec(r) == 1`. Your first job is to further modify `normalize!` so that it fully fixes the phases, so that the `l` and `r` it returns are Hermitian and positive semi-definite, in addition to having the property that `vec(l)'*vec(r) == 1`.\n",
    "\n",
    "How do you do that? Well, you should definitely start by getting the `normalize!` function from above, and only make small modifications to that. Since we know that $r$ is actually $a \\cdot \\tilde{r}$, where $\\tilde{r}$ is Hermitian and pos. semi-def. and $a$ is a scalar, we can just take the trace $\\mathrm{Tr} r = a \\mathrm{Tr} \\tilde{r}$, and we know that $\\mathrm{Tr} \\tilde{r}$ is something real and positive. Any part of $\\mathrm{Tr} r$ that is not real and positive, is $a$, and you divide $r$ by $a$ to get $\\tilde{r}$. And similarly for $l$."
   ]
  },
  {
   "cell_type": "code",
   "execution_count": 13,
   "metadata": {},
   "outputs": [
    {
     "name": "stderr",
     "output_type": "stream",
     "text": [
      "\u001b[1m\u001b[33mWARNING: \u001b[39m\u001b[22m\u001b[33mreplacing docs for 'normalize! :: Tuple{Any}' in module 'Main'.\u001b[39m\n"
     ]
    },
    {
     "data": {
      "text/plain": [
       "normalize!"
      ]
     },
     "execution_count": 13,
     "metadata": {},
     "output_type": "execute_result"
    }
   ],
   "source": [
    "\"\"\"\n",
    "    normalize!(A)\n",
    "\n",
    "Normalize the UMPS defined by A, and return the dominant left and right\n",
    "eigenvectors l and r of its transfer matrix, normalized so that they are\n",
    "both Hermitian and positive semi-definite (when thought of as matrices),\n",
    "and l'*r = 1.\n",
    "\"\"\"\n",
    "function normalize!(A)\n",
    "    SR, UR, SL, UL = tm_eigs(A, \"BOTH\", 1)\n",
    "    S1 = SR[1]\n",
    "    A ./= sqrt(S1)\n",
    "    \n",
    "    l = UL[1]\n",
    "    r = UR[1]  \n",
    "    # We want both l and r to be Hermitian and pos. semi-def.\n",
    "    # We know they are that, up to a phase.\n",
    "    # We can find this phase, and divide it away, because it is also the\n",
    "    # phase of the trace of l (respectively r).\n",
    "    r_tr = trace(r)\n",
    "    phase_r = r_tr/abs(r_tr)\n",
    "    r ./= phase_r\n",
    "    l_tr = trace(l)\n",
    "    phase_l = l_tr/abs(l_tr)\n",
    "    l ./= phase_l\n",
    "    # Finally divide them by a real scalar that makes\n",
    "    # their inner product be 1.\n",
    "    n = vec(l)'*vec(r)\n",
    "    abs_n = abs(n)\n",
    "    phase_n = n/abs_n\n",
    "    (phase_n ≉ 1) && warn(\"In normalize! phase_n = \", phase_n, \" ≉ 1\")\n",
    "    sfac = sqrt(abs_n)\n",
    "    l ./= sfac\n",
    "    r ./= sfac\n",
    "    return l, r\n",
    "end"
   ]
  },
  {
   "cell_type": "markdown",
   "metadata": {},
   "source": [
    "#### 2)\n",
    "Now that we can trust our $l$ and $r$ to be Hermitian and $\\geq 0$, we can go ahead and implement a function that takes in $A$, $l$ and $r$, and outputs $\\Gamma$ and $\\lambda$, that define the same MPS, but now in canonical form."
   ]
  },
  {
   "cell_type": "code",
   "execution_count": 14,
   "metadata": {},
   "outputs": [
    {
     "data": {
      "text/plain": [
       "canonical_form"
      ]
     },
     "execution_count": 14,
     "metadata": {},
     "output_type": "execute_result"
    }
   ],
   "source": [
    "\"\"\"\n",
    "    canonical_form(A, l, r)\n",
    "\n",
    "Return a three-valent tensor Γ and a vector λ, that define the canonical\n",
    "of the UMPS defined by A. l and r should be the normalized dominant\n",
    "left and right eigenvectors of A.\n",
    "\"\"\"\n",
    "function canonical_form(A, l, r)\n",
    "    l_H = 0.5*(l + l')\n",
    "    r_H = 0.5*(r + r')\n",
    "    (l_H ≉ l) && warn(\"In canonical_form, l is not Hermitian: \", vecnorm(l_H - l))\n",
    "    (r_H ≉ r) && warn(\"In canonical_form, r is not Hermitian: \", vecnorm(r_H - r))\n",
    "    evl, Ul = eig(Hermitian(l_H))\n",
    "    evr, Ur = eig(Hermitian(r_H))\n",
    "    X = Ur * Diagonal(sqrt.(complex.(evr)))\n",
    "    YT = Diagonal(sqrt.(complex.(evl))) * Ul'\n",
    "    U, λ, V = svd(YT*X)\n",
    "    Xi = Diagonal(sqrt.(complex.(1./evr))) * Ur'\n",
    "    YTi = Ul * Diagonal(sqrt.(complex.(1 ./ evl)))\n",
    "    @tensor Γ[x,i,y] := (V'[x,a] * Xi[a,b]) * A[b,i,c] * (YTi[c,d] * U[d,y])\n",
    "    return Γ, λ\n",
    "end"
   ]
  },
  {
   "cell_type": "markdown",
   "metadata": {},
   "source": [
    "#### 3)\n",
    "Prove to yourself that<br>\n",
    "a)<br>\n",
    "the way you've chosen to transform the MPS, going form $A$ to $(\\Gamma, \\lambda)$, is actually a gauge transformation. In other words, prove that they both define the same state.\n",
    "\n",
    "b)<br>\n",
    "that the MPS defined $(\\Gamma, \\lambda)$ is actually in canonical form, i.e., that the left dominant eigenvector of\n",
    "```\n",
    "--λ--Γ--\n",
    "     |\n",
    "--λ--Γ--\n",
    "```\n",
    "and the right dominant eigenvector of\n",
    "```\n",
    "--Γ--λ--\n",
    "  |\n",
    "--Γ--λ--\n",
    "```\n",
    "are both the identity matrix. Do this both numerically and analytically."
   ]
  },
  {
   "cell_type": "markdown",
   "metadata": {},
   "source": [
    "## iTEBD"
   ]
  },
  {
   "cell_type": "markdown",
   "metadata": {},
   "source": [
    "Finally, we have arrived at a point where we have everything we need to implement iTEBD, and use it to find the ground state for a given Hamiltonian. We'll first go through the Suzuki-Trotter decomposition of the imaginary time-development operator, see how that leads to an algorithm (iTEBD) for finding an MPS for the ground state, and then finally see why we should keep our MPS in the canonical form while applying this algorithm.\n",
    "\n",
    "Given a Hamiltonian $H$, here's one way to define the ground state:\n",
    "$$ |E_0\\rangle \\sim e^{-\\beta H} | \\psi \\rangle, \\quad \\beta >> 1. $$\n",
    "Here $\\sim$ means $=$ up to normalization. $| \\psi \\rangle$ can be any state, as long as it's not orthogonal to $|E_0 \\rangle$ (just pick one at random). If $\\beta$ is large enough, $e^{\\beta H}$ becomes proportional to the projector to $| E_0 \\rangle$, and the above equation holds.\n",
    "\n",
    "Of course, $e^{- \\beta H}$ is a matrix exponentially big in the system size. Instead of trying to evaluate it, what we'll do is decompose it into a circuit of local gates. This is called the Suzuki-Trotter decomposition.\n",
    "\n",
    "For this, we'll need to assume $H$ is a sum over local terms. Let's assume it consists of two-site terms:\n",
    "$$ H = \\sum_i h_{i,i+1}. $$\n",
    "Then we can write \n",
    "$$ H = \\sum_{i \\text{ odd}} h_{i,i+1} + \\sum_{i \\text{ even}} h_{i,i+1} = H_{\\text{odd}} + H_{\\text{even}}. $$\n",
    "The useful point about this is that all the terms in $H_{\\text{odd}}$ operate on different sites, and thus commute with each other, and similarly for $H_{\\text{even}}$. Next, introduce a small parameter $\\tau$, and use the Baker–Campbell–Hausdorff formula as follows:\n",
    "$$ e^{-\\beta H} = \\big[ e^{-\\tau H} \\big]^{\\frac{\\beta}{\\tau}}\n",
    "= \\big[ e^{-\\tau H_{\\text{odd}} \\; -\\tau H_{\\text{even}}} \\big]^{\\frac{\\beta}{\\tau}}\n",
    "= \\big[ e^{-\\tau H_{\\text{odd}}} \\; e^{-\\tau  H_{\\text{even}}} \\; e^{-\\tau^2 (\\text{commutators of $H_{\\text{odd}}$ and $H_{\\text{even}}$)}} \\big]^{\\frac{\\beta}{\\tau}}.$$\n",
    "Making $\\tau$ small enough so that anything $O(\\tau^2)$ can be ignored, makes this\n",
    "$$ \\big[ \\prod_{i \\text{ odd}} e^{-\\tau h_{i, i+1}} \\; \\prod_{i \\text{ even}} e^{-\\tau h_{i, i+1}} \\big]^{\\frac{\\beta}{\\tau}}.$$\n",
    "Diagrammatically we can write this as\n",
    "\n",
    "<img src=\"fig/trotter.svg\">\n",
    "\n",
    "Based on this, we can formulate the basic idea of the iTEBD algorithm (note that the i in iTEBD stands for infinite systems, but so far everything we've done works the same way for finite systems): Take the expression $e^{-\\beta H} | \\psi \\rangle$. Decompose $e^{-\\beta H}$ in to circuit using the above Suzuki-Trotter decomposition, with some choice of the parameter $\\tau$ that is small. Take the initial state $| \\psi \\rangle$ to be an MPS. The expression for the ground state then looks like\n",
    "\n",
    "<img src=\"fig/trotter_gs.svg\">\n",
    "\n",
    "With these steps, we've gotten rid of all the exponentially large objects in $e^{-\\beta H} | \\psi \\rangle$: The evolution operator is described by local gates, and the state is defined by local MPS tensors. We can then absorb the layers of the circuit into the MPS, layer by layer, contracting only local things at a time. If we assume translation invariance this can all be done at the thermodynamic limit, i.e., with an infinite system. By \"absorbing\" a layer I mean this:\n",
    "\n",
    "<img src=\"fig/trotter_absorb.svg\">\n",
    "\n",
    "At the last step the four-valent tensor has been split into two MPS matrices. This can be done by considering it as a matrix from the two left-most legs to the two right-most legs, and performing and a singular value decomposition (SVD).\n",
    "\n",
    "With this method we can keep absorbing layers of the circuit $e^{-\\beta H}$ into our MPS, effectively increasing $\\beta$, until the state doesn't change significantly any more, i.e., until the procedure converges. At the end, our MPS should be the ground state of the Hamiltonian, subject to the caveat that since our $\\tau$ is small, and not exactly zero, and our $\\beta$ is large, and not exactly infinite, we only find the ground state approximately (the error coming from ignoring the $\\tau^2$ terms is called the Trotter error).\n",
    "\n",
    "Seems great! So why don't we get coding? Well, there's one problem here. Every time we use an SVD to split\n",
    "\n",
    "<img src=\"fig/trotter_split.svg\">\n",
    "\n",
    "we are SVDing a $dD \\times dD$ matrix. This means there are $dD$ singular values, meaning the bond dimension of our MPS after this procedure will be $dD$ (whereas a moment before it was just $D$). So our bond dimension will grow during this procedure, and exponentially too! This is not good.\n",
    "\n",
    "However, we never claimed we wanted the exact ground state. What we wanted was a low bond dimension MPS that approximates the ground state. So somehow we should reduce the bond dimension back to what it was, while not changing the state our MPS describes too much (or as little as possible). We should probably take our MPS tensors, that now have some indices ranging over $dD$ values, and throw out some of the elements (like throwing out some columns of a matrix) so that all the dimensions are at most $D$. But which ones do we throw out?\n",
    "\n",
    "Turns out, you should always throw out the parts that correspond to the smallest Schmidt values. This is the same result as the fact that the optimal low-rank approximation to matrix is given by its truncated SVD (see Low rank approximation in https://en.wikipedia.org/wiki/Singular-value_decomposition#Applications_of_the_SVD), since the Schmidt decomposition is just an SVD in disguise. Thus we should be performing this whole iTEBD procedure in the canonical form, so that on each leg we have the Schmidt value corresponding to that bipartition of the state. Then every time we perform one of the SVDs that increases the bond dimension, we can go back to the canonical form and remove from the neighbouring tensors the parts that correspond to the smallest Schmidt values (which has the same effect as setting those values to zero).\n",
    "\n",
    "Thus a naive summary of the iTEBD algorithm would be as follows:\n",
    "1. Absorb a layer of the circuit for $e^{-\\beta H}$ into your MPS.\n",
    "2. Use SVDs to transform the network back into an MPS, but now with a larger bond dimension.\n",
    "3. Gauge transform this network into the canonical form.\n",
    "4. Throw out the smallest Schmidt values on some of the legs, to reduce the bond dimension back to $D$.\n",
    "5. Go to 1., unless your state has already converged, i.e., isn't changing any more, in which case we are done.\n",
    "\n",
    "Note that every second time we go through this process, we should absorb a layer of $e^{-\\tau H_{\\text{odd}}}$ and every second time a layer of $e^{-\\tau H_{\\text{even}}}$.\n",
    "\n",
    "I call the above summary \"naive\", because I've ignored some details. For instance, the canonical form of your MPS will now have translation symmetry only by two sites, which means you'll have to keep to tensors $\\Gamma_A$ and $\\Gamma_B$ and corresponding two vectors of Schmidt values $\\lambda_A$ and $\\lambda_B$. It also turns out it's not important to be canonicalizing your MPS at every single step: If you start with an MPS in canonical form, you can perform the absorption, SVD and truncation all with recanonicalizing in between, since your MPS will stay close enough to being canonical. You can even repeat this for a few iterations before having to canonicalize again. These kinds of details you should check up on your own from the literature. I mainly recommend<br>\n",
    "https://arxiv.org/pdf/cond-mat/0605597.pdf<br>\n",
    "for understanding the iTEBD algorithm, and Section II of<br>\n",
    "https://arxiv.org/pdf/0711.3960.pdf<br>\n",
    "for how to deal with the canonical form (including the one with two-site translation symmetry).\n",
    "Other resources exist, which you can try if you want to, especially given that the first paper above is quite terse. There's even a wikipedia article, https://en.wikipedia.org/wiki/Time-evolving_block_decimation, although I must admit I haven't read it.\n",
    "\n",
    "Your homework for next time is to go and implement this! You should start by reading https://arxiv.org/pdf/cond-mat/0605597.pdf, and then try putting all of it into code. Don't worry if you don't get it all done by the next meeting. What I want to see is a serious attempt to get as far as you can (including writing some code!). Once you hit a roadblock and don't know what to do anymore, you should try to understand what exactly it is you don't understand, and then come to the next meeting with questions. Next time we'll go through what you got done and clarify what needs to be clarified. We'll hopefully also talk a bit about things like performance, how to measure convergence, etc.\n",
    "\n",
    "I've written below some templates that you can use as a basis of your own code. They also include some hints as to how to go about implementing things."
   ]
  },
  {
   "cell_type": "code",
   "execution_count": 15,
   "metadata": {},
   "outputs": [
    {
     "data": {
      "text/plain": [
       "truncate_svd"
      ]
     },
     "execution_count": 15,
     "metadata": {},
     "output_type": "execute_result"
    }
   ],
   "source": [
    "\"\"\"\n",
    "    truncate_svd(U, S, V, D)\n",
    "\n",
    "Given an SVD of some matrix M as M = U*diagm(S)*V', truncate this\n",
    "SVD, keeping only the D largest singular values.\n",
    "\"\"\"\n",
    "function truncate_svd(U, S, V, D)\n",
    "    U = U[:, 1:D]\n",
    "    S = S[1:D]\n",
    "    V = V[:, 1:D]\n",
    "    return U, S, V\n",
    "end"
   ]
  },
  {
   "cell_type": "code",
   "execution_count": 16,
   "metadata": {},
   "outputs": [
    {
     "data": {
      "text/plain": [
       "double_canonicalize (generic function with 1 method)"
      ]
     },
     "execution_count": 16,
     "metadata": {},
     "output_type": "execute_result"
    }
   ],
   "source": [
    "\"\"\"\n",
    "    double_canonicalize(ΓA, λA, ΓB, λB)\n",
    "\n",
    "Given ΓA, λA, ΓB, λB that define an infinite MPS with two-site\n",
    "translation symmetry (the Γs are the tensors and the λs are the\n",
    "vectors of diagonal weights on the virtual legs), return an MPS\n",
    "defined by ΓA', λA', ΓB', λB', that represents the same state,\n",
    "but has been gauge transformed into the canonical form.\n",
    "See Figure 4 of https://arxiv.org/pdf/0711.3960.pdf.\n",
    "\"\"\"\n",
    "function double_canonicalize(ΓA, λA, ΓB, λB)\n",
    "    # Note that we don't quite follow Figure 4 of\n",
    "    # https://arxiv.org/pdf/0711.3960.pdf: In order\n",
    "    # to make maximal use of the old code we have\n",
    "    # above, we build a tensor C, that includes both\n",
    "    # Γ and λ of part (i) and (ii) in Figure 4.\n",
    "    D, d = size(ΓA, 1, 2)\n",
    "    # The next two lines are equivalent to\n",
    "    # @tensor A[x,i,y] := ΓA[x,i,a] * diagm(λA)[a,y]\n",
    "    # @tensor B[x,i,y] := ΓB[x,i,a] * diagm(λB)[a,y]\n",
    "    A = ΓA .* reshape(λA, (1,1,D))\n",
    "    B = ΓB .* reshape(λB, (1,1,D))\n",
    "    @tensor C[x,i,j,y] := A[x,i,a] * B[a,j,y]\n",
    "    C = reshape(C, (D, d*d, D))\n",
    "    l, r = normalize!(C)\n",
    "    Γ, λB = canonical_form(C, l, r)\n",
    "    # The next line is equivalent to\n",
    "    # @tensor Γ[x,i,y] := diagm(λB)[x,a] * Γ[a,i,b] * diagm(λB)[b,y]\n",
    "    Γ .*= reshape(λB, (D,1,1)) .* reshape(λB, (1,1,D))\n",
    "    Γ = reshape(Γ, (D*d, d*D))\n",
    "    ΓA, λA, ΓB = svd(Γ)\n",
    "    ΓA, λA, ΓB = truncate_svd(ΓA, λA, ΓB, D)  # This always causes effectively zero error!\n",
    "    ΓA = reshape(ΓA, (D, d, D))\n",
    "    ΓB = reshape(ΓB', (D, d, D))\n",
    "    λBinv = 1. ./ λB\n",
    "    # The next two lines are equivalent to\n",
    "    # @tensor ΓA[x,i,y] := diagm(λBinv)[x,a] * ΓA[a,i,y]\n",
    "    # @tensor ΓB[x,i,y] := ΓB[x,i,a] * diagm(λBinv)[a,y]\n",
    "    ΓA .*= reshape(λBinv, (D,1,1))\n",
    "    ΓB .*= reshape(λBinv, (1,1,D))\n",
    "    return ΓA, λA, ΓB, λB\n",
    "end"
   ]
  },
  {
   "cell_type": "code",
   "execution_count": 17,
   "metadata": {},
   "outputs": [
    {
     "data": {
      "text/plain": [
       "itebd_halfstep (generic function with 1 method)"
      ]
     },
     "execution_count": 17,
     "metadata": {},
     "output_type": "execute_result"
    }
   ],
   "source": [
    "\"\"\"\n",
    "    itebd_halfstep(ΓA, λA, ΓB, λB, U, pars)\n",
    "\n",
    "Absorb a two-site gate U (not necessarily unitary) into an\n",
    "MPS defined by ΓA, λA, ΓB, λB, and split the result back\n",
    "into and MPS of the same form, returning ΓA', λA', ΓB', λB'.\n",
    "The bond dimension of the MPS is truncated to pars[\"D\"],\n",
    "where pars is a dictionary.\n",
    "\n",
    "This is called a \"half-step\" because we only absorb a U\n",
    "operating on every second pair of neighbouring sites.\n",
    "\"\"\"\n",
    "function itebd_halfstep(ΓA, λA, ΓB, λB, U, pars)\n",
    "    D, d = size(ΓA, 1, 2)\n",
    "    # The next four lines are equivalent to\n",
    "    # @tensor lump[x,i,j,y] := (((((diagm(λB)[x,a] * ΓA[a,m,b]) * diagm(λA)[b,c]) * ΓB[c,n,d]) * diagm(λB)[d,y]) * U[m,n,i,j])\n",
    "    A = ΓA .* reshape(λB, (D,1,1))\n",
    "    B = ΓB .* reshape(λB, (1,1,D))\n",
    "    A .*= reshape(λA, (1,1,D))\n",
    "    @tensor lump[x,i,j,y] := (A[x,m,a] * B[a,n,y]) * U[m,n,i,j]\n",
    "    lump = reshape(lump, (D*d, d*D))\n",
    "    ΓA, λA, ΓB = svd(lump)\n",
    "    ΓA, λA, ΓB = truncate_svd(ΓA, λA, ΓB, pars[\"D\"])\n",
    "    ΓA = reshape(ΓA, (D, d, D))\n",
    "    ΓB = reshape(ΓB', (D, d, D))\n",
    "    λBinv = 1 ./ λB\n",
    "    ΓA .*= reshape(λBinv, (D,1,1))  # Equivalent to @tensor ΓA[x,i,y] := λBinv[x,a] * ΓA[a,i,y]\n",
    "    ΓB .*= reshape(λBinv, (1,1,D))  # Equivalent to @tensor ΓB[x,i,y] := ΓB[x,i,a] * λBinv[a,y]\n",
    "    return ΓA, λA, ΓB, λB\n",
    "end"
   ]
  },
  {
   "cell_type": "code",
   "execution_count": 18,
   "metadata": {},
   "outputs": [
    {
     "data": {
      "text/plain": [
       "itebd_step (generic function with 1 method)"
      ]
     },
     "execution_count": 18,
     "metadata": {},
     "output_type": "execute_result"
    }
   ],
   "source": [
    "\"\"\"\n",
    "    itebd_step(ΓA, λA, ΓB, λB, U, pars)\n",
    "\n",
    "Apply a step of iTEBD into an MPS represented by\n",
    "ΓA, λA, ΓB, λB, with U being the two-site gate that\n",
    "defines a layer of (imaginary) time-evolution.\n",
    "Return a new MPS, ΓA', λA', ΓB', λB'.\n",
    "See https://arxiv.org/pdf/cond-mat/0605597.pdf,\n",
    "especially Figure 3. pars is a dictionary of parameters,\n",
    "that most notably should include the bond dimension\n",
    "pars[\"D\"] to which the MPS should be truncated.\n",
    "\"\"\"\n",
    "function itebd_step(ΓA, λA, ΓB, λB, U, pars)\n",
    "    ΓA, λA, ΓB, λB = itebd_halfstep(ΓA, λA, ΓB, λB, U, pars)\n",
    "    ΓB, λB, ΓA, λA = itebd_halfstep(ΓB, λB, ΓA, λA, U, pars)\n",
    "    return ΓA, λA, ΓB, λB\n",
    "end"
   ]
  },
  {
   "cell_type": "code",
   "execution_count": 19,
   "metadata": {},
   "outputs": [
    {
     "data": {
      "text/plain": [
       "itebd_random_initial (generic function with 1 method)"
      ]
     },
     "execution_count": 19,
     "metadata": {},
     "output_type": "execute_result"
    }
   ],
   "source": [
    "\"\"\"\n",
    "    itebd_random_initial(d, D)\n",
    "\n",
    "Return ΓA, λA, ΓB, λB that define an MPS with two-site\n",
    "translation invariance in the canonical form, with the\n",
    "tensor chosen randomly.\n",
    "\"\"\"\n",
    "function itebd_random_initial(d, D)\n",
    "    Γ = randn(D, d, D)\n",
    "    λ = randn(D)\n",
    "    ΓA, λA, ΓB, λB = double_canonicalize(Γ, λ, Γ, λ)\n",
    "    return ΓA, λA, ΓB, λB\n",
    "end"
   ]
  },
  {
   "cell_type": "code",
   "execution_count": 20,
   "metadata": {},
   "outputs": [
    {
     "data": {
      "text/plain": [
       "trotter_gate (generic function with 1 method)"
      ]
     },
     "execution_count": 20,
     "metadata": {},
     "output_type": "execute_result"
    }
   ],
   "source": [
    "\"\"\"\n",
    "    trotter_gate(h, τ)\n",
    "\n",
    "Given a two-site gate h (a 4-valent tensor),\n",
    "return the gate U = e^(-τ h).\n",
    "\"\"\"\n",
    "function trotter_gate(h, τ)\n",
    "    d = size(h, 1)\n",
    "    h = reshape(h, (d*d, d*d))\n",
    "    U = expm(-τ*h)\n",
    "    U = reshape(U, (d,d,d,d))\n",
    "    return U\n",
    "end"
   ]
  },
  {
   "cell_type": "code",
   "execution_count": 21,
   "metadata": {},
   "outputs": [
    {
     "data": {
      "text/plain": [
       "itebd_optimize (generic function with 1 method)"
      ]
     },
     "execution_count": 21,
     "metadata": {},
     "output_type": "execute_result"
    }
   ],
   "source": [
    "\"\"\"\n",
    "    itebd_optimize(h, pars; evalfunc=nothing)\n",
    "\n",
    "Apply the iTEBD algorithm to find the ground state of the Hamiltonian\n",
    "defined by the local Hamiltonian term h. h is assumed to operate on\n",
    "nearest-neighbours only, and translation invariance is assumed. Return\n",
    "ΓA, λA, ΓB, λB that define an MPS with two-site translation invariance,\n",
    "which is guaranteed to be in the canonical form. This MPS approximates\n",
    "the ground state.\n",
    "See https://arxiv.org/pdf/cond-mat/0605597.pdf.\n",
    "\n",
    "pars is a dictionary, where each key-value pair is some parameter\n",
    "that the algorithm takes. The parameters that should be provided are\n",
    "\"τ_min and τ_step\":\n",
    "    Every time convergence has been reached, the Trotter\n",
    "    parameter τ is multiplied by τ_step and the optimization\n",
    "    is restarted, until τ falls below τ_min. τ initially starts\n",
    "    from 0.1.\n",
    "\"D\":\n",
    "    The bond dimension of the MPS.\n",
    "\"max_iters\":\n",
    "    The maximum number of iTEBD iterations that is done before moving\n",
    "    on to the next value of τ.\n",
    "\"convergence_eps\":\n",
    "    A threshold for convergence. If the relative difference in the\n",
    "    vectors of Schmidt values before and after the latest iTEBD\n",
    "    iteration falls below convergence_eps, we move on to the next value\n",
    "    of τ.\n",
    "\"inner_iters\":\n",
    "    At every iTEBD iteration, several layers of e^(-τ h) are absorbed\n",
    "    into the MPS before recanonicalizing and checking for convergence.\n",
    "    inner_iters specifies how many. Note that the total number of layers\n",
    "    absorbed during the optimization for a given τ may reach\n",
    "    inner_iters * max_iters.\n",
    "\n",
    "evalfunc is an optional function, that should take as arguments\n",
    "ΓA, λA, ΓB, λB that define the (canonical-form) MPS, and return a string.\n",
    "This string is then printed after every iTEBD step, in addition to other\n",
    "information such as the measure of convergence and the current iteration\n",
    "count. Can be used, for instance, for printing the energy at every\n",
    "iteration.\n",
    "\"\"\"\n",
    "function itebd_optimize(h, pars; evalfunc=nothing)\n",
    "    d = size(h, 1)\n",
    "    ΓA, λA, ΓB, λB = itebd_random_initial(d, pars[\"D\"])\n",
    "    τ = 0.1\n",
    "    while τ > pars[\"τ_min\"]\n",
    "        @printf(\"In iTEBD, evolving with τ = %.3e.\\n\", τ)\n",
    "        eps = Inf\n",
    "        counter = 0\n",
    "        U = trotter_gate(h, τ)\n",
    "        while eps > pars[\"convergence_eps\"] && counter < pars[\"max_iters\"]\n",
    "            counter += 1\n",
    "            old_λA, old_λB = λA, λB\n",
    "            \n",
    "            # TODO Create some fancy criterion that determines when we need\n",
    "            # to recanonicalize.\n",
    "            for i in 1:pars[\"inner_iters\"]\n",
    "                ΓA, λA, ΓB, λB = itebd_step(ΓA, λA, ΓB, λB, U, pars)\n",
    "            end\n",
    "            ΓA, λA, ΓB, λB = double_canonicalize(ΓA, λA, ΓB, λB)\n",
    "            eps = vecnorm(old_λA - λA)/vecnorm(λA) + vecnorm(old_λB - λB)/vecnorm(λB)\n",
    "\n",
    "            @printf(\"In iTEBD, eps = %.3e, counter = %i\", eps, counter)\n",
    "            if evalfunc != nothing\n",
    "                evstr = evalfunc(ΓA, λA, ΓB, λB)\n",
    "                print(evstr)\n",
    "            end\n",
    "            println()\n",
    "        end\n",
    "        τ *= pars[\"τ_step\"]\n",
    "    end\n",
    "    return ΓA, λA, ΓB, λB\n",
    "end"
   ]
  },
  {
   "cell_type": "markdown",
   "metadata": {},
   "source": [
    "## Let's test this algorithm of ours!"
   ]
  },
  {
   "cell_type": "code",
   "execution_count": 22,
   "metadata": {},
   "outputs": [
    {
     "name": "stdout",
     "output_type": "stream",
     "text": [
      "vecnorm(should_be_id_Ar - eye(D, D)) = 1.229649566009348e-13\n",
      "vecnorm(should_be_id_Br - eye(D, D)) = 2.6230634703692124e-15\n",
      "vecnorm(should_be_id_Al - eye(D, D)) = 2.6016548539436232e-15\n",
      "vecnorm(should_be_id_Bl - eye(D, D)) = 1.4620886826446653e-13\n"
     ]
    },
    {
     "data": {
      "text/plain": [
       "1.4620886826446653e-13"
      ]
     },
     "execution_count": 22,
     "metadata": {},
     "output_type": "execute_result"
    }
   ],
   "source": [
    "let\n",
    "    # A bunch of checks that confirm that double_canonicalize works.\n",
    "    D = 10\n",
    "    d = 2\n",
    "    ΓA, ΓB = randn(D, d, D), randn(D, d, D)\n",
    "    λA, λB = randn(D), randn(D)\n",
    "    ΓA, λA, ΓB, λB = double_canonicalize(ΓA, λA, ΓB, λB)\n",
    "    @tensor should_be_id_Ar[x,y] := ΓA[x,i,a] * ((diagm(λA)[a,b] * conj(diagm(λA))[b,c]) * conj(ΓA)[y,i,c])\n",
    "    @tensor should_be_id_Br[x,y] := ΓB[x,i,a] * ((diagm(λB)[a,b] * conj(diagm(λB))[b,c]) * conj(ΓB)[y,i,c])\n",
    "    @tensor should_be_id_Al[x,y] := ΓA[a,i,x] * ((diagm(λB)[a,b] * conj(diagm(λB))[b,c]) * conj(ΓA)[c,i,y])\n",
    "    @tensor should_be_id_Bl[x,y] := ΓB[a,i,x] * ((diagm(λA)[a,b] * conj(diagm(λA))[b,c]) * conj(ΓB)[c,i,y])\n",
    "    @show vecnorm(should_be_id_Ar - eye(D,D))\n",
    "    @show vecnorm(should_be_id_Br - eye(D,D))\n",
    "    @show vecnorm(should_be_id_Al - eye(D,D))\n",
    "    @show vecnorm(should_be_id_Bl - eye(D,D))\n",
    "end"
   ]
  },
  {
   "cell_type": "code",
   "execution_count": 23,
   "metadata": {},
   "outputs": [
    {
     "data": {
      "text/plain": [
       "build_ising_ham (generic function with 2 methods)"
      ]
     },
     "execution_count": 23,
     "metadata": {},
     "output_type": "execute_result"
    }
   ],
   "source": [
    "function build_ising_ham(h=1.0)\n",
    "    X = [0 1; 1 0]\n",
    "    Z = [1 0; 0 -1]\n",
    "    I2 = eye(2)\n",
    "    XX = kron(X, X)\n",
    "    ZI = kron(Z, I2)\n",
    "    IZ = kron(I2, Z)\n",
    "    H = -(XX + h/2*(ZI+IZ))\n",
    "    return H\n",
    "end"
   ]
  },
  {
   "cell_type": "code",
   "execution_count": 24,
   "metadata": {},
   "outputs": [
    {
     "data": {
      "text/plain": [
       "expect_twositelocal_dcan (generic function with 1 method)"
      ]
     },
     "execution_count": 24,
     "metadata": {},
     "output_type": "execute_result"
    }
   ],
   "source": [
    "# Functions for evaluating the ground state energy per site\n",
    "# (or the expectation of any other two-site operator.)\n",
    "# dcan stands for \"double canonical\", meaning the canonical\n",
    "# form with two-site translation symmetry.\n",
    "\n",
    "function expect_twositelocal_dcan_AB(ΓA, λA, ΓB, λB, O)\n",
    "    D = size(ΓA, 1)\n",
    "    A = reshape(λB, (D,1,1)) .* ΓA .* reshape(λA, (1,1,D))\n",
    "    B = ΓB .* reshape(λB, (1,1,D))\n",
    "    @tensor AB[x,i,j,y] := A[x,i,a] * B[a,j,y]\n",
    "    @tensor expectAB[] := AB[a,i,j,b] * O[i,j,m,n] * conj(AB)[a,m,n,b]\n",
    "    return expectAB[1]\n",
    "end\n",
    "\n",
    "function expect_twositelocal_dcan(ΓA, λA, ΓB, λB, O)\n",
    "    expectAB = expect_twositelocal_dcan_AB(ΓA, λA, ΓB, λB, O)\n",
    "    expectBA = expect_twositelocal_dcan_AB(ΓB, λB, ΓA, λA, O)\n",
    "    expectation = (expectAB + expectBA) / 2.\n",
    "    return expectation\n",
    "end"
   ]
  },
  {
   "cell_type": "code",
   "execution_count": null,
   "metadata": {},
   "outputs": [
    {
     "name": "stdout",
     "output_type": "stream",
     "text": [
      "In iTEBD, evolving with τ = 1.000e-01.\n"
     ]
    },
    {
     "name": "stderr",
     "output_type": "stream",
     "text": [
      "\u001b[1m\u001b[33mWARNING: \u001b[39m\u001b[22m\u001b[33mIn canonical_form, l is not Hermitian: 6.473702043414488e-8\u001b[39m\n",
      "\u001b[1m\u001b[33mWARNING: \u001b[39m\u001b[22m\u001b[33mIn canonical_form, r is not Hermitian: 3.256994448382337e-7\u001b[39m\n"
     ]
    },
    {
     "name": "stdout",
     "output_type": "stream",
     "text": [
      "In iTEBD, eps = 1.385e+00, counter = 1, energy = -1.271997418744e+00, off by 9.756e-04\n",
      "In iTEBD, eps = 1.609e-01, counter = 2, energy = -1.271676403449e+00, off by 1.228e-03\n"
     ]
    },
    {
     "name": "stderr",
     "output_type": "stream",
     "text": [
      "\u001b[1m\u001b[33mWARNING: \u001b[39m\u001b[22m\u001b[33mIn normalize! phase_n = 0.9999975203798529 - 0.002226933799078811im ≉ 1\u001b[39m\n",
      "\u001b[1m\u001b[33mWARNING: \u001b[39m\u001b[22m\u001b[33mIn canonical_form, l is not Hermitian: 0.06209287584203495\u001b[39m\n",
      "\u001b[1m\u001b[33mWARNING: \u001b[39m\u001b[22m\u001b[33mIn canonical_form, r is not Hermitian: 0.0180806817186095\u001b[39m\n"
     ]
    },
    {
     "name": "stdout",
     "output_type": "stream",
     "text": [
      "In iTEBD, eps = 1.043e+00, counter = 3, energy = -1.272170687794e+00, off by 8.395e-04\n"
     ]
    },
    {
     "name": "stderr",
     "output_type": "stream",
     "text": [
      "\u001b[1m\u001b[33mWARNING: \u001b[39m\u001b[22m\u001b[33mIn normalize! phase_n = 0.9999726130826877 - 0.007400884040510406im ≉ 1\u001b[39m\n",
      "\u001b[1m\u001b[33mWARNING: \u001b[39m\u001b[22m\u001b[33mIn canonical_form, l is not Hermitian: 0.009091332570459987\u001b[39m\n",
      "\u001b[1m\u001b[33mWARNING: \u001b[39m\u001b[22m\u001b[33mIn canonical_form, r is not Hermitian: 0.009859715277862757\u001b[39m\n"
     ]
    },
    {
     "name": "stdout",
     "output_type": "stream",
     "text": [
      "In iTEBD, eps = 3.007e-02, counter = 4, energy = -1.272181754981e+00, off by 8.308e-04\n"
     ]
    },
    {
     "name": "stderr",
     "output_type": "stream",
     "text": [
      "\u001b[1m\u001b[33mWARNING: \u001b[39m\u001b[22m\u001b[33mIn normalize! phase_n = 0.9999999999999091 + 4.2662716213085593e-7im ≉ 1\u001b[39m\n",
      "\u001b[1m\u001b[33mWARNING: \u001b[39m\u001b[22m\u001b[33mIn canonical_form, l is not Hermitian: 5.983484366682459e-7\u001b[39m\n",
      "\u001b[1m\u001b[33mWARNING: \u001b[39m\u001b[22m\u001b[33mIn canonical_form, r is not Hermitian: 2.2036668894276943e-6\u001b[39m\n"
     ]
    },
    {
     "name": "stdout",
     "output_type": "stream",
     "text": [
      "In iTEBD, eps = 2.419e-02, counter = 5, energy = -1.272185601360e+00, off by 8.278e-04\n",
      "In iTEBD, eps = 2.027e-02, counter = 6, energy = -1.272186687495e+00, off by 8.269e-04\n",
      "In iTEBD, eps = 1.747e-02, counter = 7, energy = -1.272186621121e+00, off by 8.270e-04\n",
      "In iTEBD, eps = 1.538e-02, counter = 8, energy = -1.272186054921e+00, off by 8.274e-04\n",
      "In iTEBD, eps = 1.377e-02, counter = 9, energy = -1.272185278647e+00, off by 8.280e-04\n",
      "In iTEBD, eps = 1.248e-02, counter = 10, energy = -1.272184428350e+00, off by 8.287e-04\n",
      "In iTEBD, eps = 1.142e-02, counter = 11, energy = -1.272183569898e+00, off by 8.294e-04\n",
      "In iTEBD, eps = 1.055e-02, counter = 12, energy = -1.272182735042e+00, off by 8.300e-04\n",
      "In iTEBD, eps = 9.818e-03, counter = 13, energy = -1.272181938410e+00, off by 8.306e-04\n",
      "In iTEBD, eps = 9.190e-03, counter = 14, energy = -1.272181185791e+00, off by 8.312e-04\n",
      "In iTEBD, eps = 8.649e-03, counter = 15, energy = -1.272180478384e+00, off by 8.318e-04\n",
      "In iTEBD, eps = 8.176e-03, counter = 16, energy = -1.272179815037e+00, off by 8.323e-04\n",
      "In iTEBD, eps = 7.761e-03, counter = 17, energy = -1.272179193448e+00, off by 8.328e-04\n",
      "In iTEBD, eps = 7.394e-03, counter = 18, energy = -1.272178610828e+00, off by 8.333e-04\n",
      "In iTEBD, eps = 7.066e-03, counter = 19, energy = -1.272178064250e+00, off by 8.337e-04\n",
      "In iTEBD, eps = 6.772e-03, counter = 20, energy = -1.272177550845e+00, off by 8.341e-04\n",
      "In iTEBD, eps = 6.507e-03, counter = 21, energy = -1.272177067891e+00, off by 8.345e-04\n",
      "In iTEBD, eps = 6.267e-03, counter = 22, energy = -1.272176612864e+00, off by 8.348e-04\n",
      "In iTEBD, eps = 6.048e-03, counter = 23, energy = -1.272176183447e+00, off by 8.352e-04\n",
      "In iTEBD, eps = 5.848e-03, counter = 24, energy = -1.272175777531e+00, off by 8.355e-04\n",
      "In iTEBD, eps = 5.665e-03, counter = 25, energy = -1.272175393204e+00, off by 8.358e-04\n",
      "In iTEBD, eps = 5.497e-03, counter = 26, energy = -1.272175028737e+00, off by 8.361e-04\n",
      "In iTEBD, eps = 5.341e-03, counter = 27, energy = -1.272174682567e+00, off by 8.363e-04\n",
      "In iTEBD, eps = 5.197e-03, counter = 28, energy = -1.272174353282e+00, off by 8.366e-04\n",
      "In iTEBD, eps = 5.063e-03, counter = 29, energy = -1.272174039605e+00, off by 8.368e-04\n",
      "In iTEBD, eps = 4.938e-03, counter = 30, energy = -1.272173740383e+00, off by 8.371e-04\n",
      "In iTEBD, eps = 4.822e-03, counter = 31, energy = -1.272173454570e+00, off by 8.373e-04\n",
      "In iTEBD, eps = 4.713e-03, counter = 32, energy = -1.272173181217e+00, off by 8.375e-04\n",
      "In iTEBD, eps = 4.611e-03, counter = 33, energy = -1.272172919463e+00, off by 8.377e-04\n",
      "In iTEBD, eps = 4.515e-03, counter = 34, energy = -1.272172668524e+00, off by 8.379e-04\n",
      "In iTEBD, eps = 4.424e-03, counter = 35, energy = -1.272172427687e+00, off by 8.381e-04\n",
      "In iTEBD, eps = 4.339e-03, counter = 36, energy = -1.272172196298e+00, off by 8.383e-04\n",
      "In iTEBD, eps = 4.259e-03, counter = 37, energy = -1.272171973763e+00, off by 8.385e-04\n",
      "In iTEBD, eps = 4.183e-03, counter = 38, energy = -1.272171759535e+00, off by 8.386e-04\n",
      "In iTEBD, eps = 4.111e-03, counter = 39, energy = -1.272171553114e+00, off by 8.388e-04\n",
      "In iTEBD, eps = 4.043e-03, counter = 40, energy = -1.272171354039e+00, off by 8.390e-04\n",
      "In iTEBD, eps = 3.978e-03, counter = 41, energy = -1.272171161887e+00, off by 8.391e-04\n",
      "In iTEBD, eps = 3.916e-03, counter = 42, energy = -1.272170976267e+00, off by 8.393e-04\n",
      "In iTEBD, eps = 3.857e-03, counter = 43, energy = -1.272170796819e+00, off by 8.394e-04\n",
      "In iTEBD, eps = 3.800e-03, counter = 44, energy = -1.272170623211e+00, off by 8.395e-04\n",
      "In iTEBD, eps = 3.747e-03, counter = 45, energy = -1.272170455132e+00, off by 8.397e-04\n",
      "In iTEBD, eps = 3.695e-03, counter = 46, energy = -1.272170292298e+00, off by 8.398e-04\n",
      "In iTEBD, eps = 3.646e-03, counter = 47, energy = -1.272170134443e+00, off by 8.399e-04\n",
      "In iTEBD, eps = 3.598e-03, counter = 48, energy = -1.272169981320e+00, off by 8.400e-04\n",
      "In iTEBD, eps = 3.553e-03, counter = 49, energy = -1.272169832699e+00, off by 8.401e-04\n",
      "In iTEBD, eps = 3.509e-03, counter = 50, energy = -1.272169688366e+00, off by 8.403e-04\n",
      "In iTEBD, eps = 3.467e-03, counter = 51, energy = -1.272169548121e+00, off by 8.404e-04\n",
      "In iTEBD, eps = 3.427e-03, counter = 52, energy = -1.272169411778e+00, off by 8.405e-04\n",
      "In iTEBD, eps = 3.388e-03, counter = 53, energy = -1.272169279161e+00, off by 8.406e-04\n",
      "In iTEBD, eps = 3.350e-03, counter = 54, energy = -1.272169150107e+00, off by 8.407e-04\n",
      "In iTEBD, eps = 3.313e-03, counter = 55, energy = -1.272169024463e+00, off by 8.408e-04\n",
      "In iTEBD, eps = 3.278e-03, counter = 56, energy = -1.272168902085e+00, off by 8.409e-04\n",
      "In iTEBD, eps = 3.244e-03, counter = 57, energy = -1.272168782837e+00, off by 8.410e-04\n",
      "In iTEBD, eps = 3.211e-03, counter = 58, energy = -1.272168666593e+00, off by 8.411e-04\n",
      "In iTEBD, eps = 3.179e-03, counter = 59, energy = -1.272168553232e+00, off by 8.412e-04\n",
      "In iTEBD, eps = 3.147e-03, counter = 60, energy = -1.272168442643e+00, off by 8.412e-04\n",
      "In iTEBD, eps = 3.117e-03, counter = 61, energy = -1.272168334718e+00, off by 8.413e-04\n",
      "In iTEBD, eps = 3.087e-03, counter = 62, energy = -1.272168229358e+00, off by 8.414e-04\n",
      "In iTEBD, eps = 3.059e-03, counter = 63, energy = -1.272168126468e+00, off by 8.415e-04\n",
      "In iTEBD, eps = 3.030e-03, counter = 64, energy = -1.272168025957e+00, off by 8.416e-04\n",
      "In iTEBD, eps = 3.003e-03, counter = 65, energy = -1.272167927741e+00, off by 8.416e-04\n",
      "In iTEBD, eps = 2.976e-03, counter = 66, energy = -1.272167831741e+00, off by 8.417e-04\n",
      "In iTEBD, eps = 2.950e-03, counter = 67, energy = -1.272167737879e+00, off by 8.418e-04\n",
      "In iTEBD, eps = 2.924e-03, counter = 68, energy = -1.272167646083e+00, off by 8.419e-04\n",
      "In iTEBD, eps = 2.899e-03, counter = 69, energy = -1.272167556285e+00, off by 8.419e-04\n",
      "In iTEBD, eps = 2.875e-03, counter = 70, energy = -1.272167468419e+00, off by 8.420e-04\n",
      "In iTEBD, eps = 2.851e-03, counter = 71, energy = -1.272167382425e+00, off by 8.421e-04\n",
      "In iTEBD, eps = 2.827e-03, counter = 72, energy = -1.272167298242e+00, off by 8.421e-04\n",
      "In iTEBD, eps = 2.804e-03, counter = 73, energy = -1.272167215814e+00, off by 8.422e-04\n",
      "In iTEBD, eps = 2.781e-03, counter = 74, energy = -1.272167135089e+00, off by 8.423e-04\n",
      "In iTEBD, eps = 2.758e-03, counter = 75, energy = -1.272167056015e+00, off by 8.423e-04\n",
      "In iTEBD, eps = 2.736e-03, counter = 76, energy = -1.272166978543e+00, off by 8.424e-04\n",
      "In iTEBD, eps = 2.715e-03, counter = 77, energy = -1.272166902627e+00, off by 8.425e-04\n",
      "In iTEBD, eps = 2.693e-03, counter = 78, energy = -1.272166828223e+00, off by 8.425e-04\n",
      "In iTEBD, eps = 2.672e-03, counter = 79, energy = -1.272166755287e+00, off by 8.426e-04\n",
      "In iTEBD, eps = 2.651e-03, counter = 80, energy = -1.272166683781e+00, off by 8.426e-04\n",
      "In iTEBD, eps = 2.630e-03, counter = 81, energy = -1.272166613664e+00, off by 8.427e-04\n",
      "In iTEBD, eps = 2.610e-03, counter = 82, energy = -1.272166544900e+00, off by 8.427e-04\n",
      "In iTEBD, eps = 2.590e-03, counter = 83, energy = -1.272166477453e+00, off by 8.428e-04\n",
      "In iTEBD, eps = 2.570e-03, counter = 84, energy = -1.272166411289e+00, off by 8.428e-04\n",
      "In iTEBD, eps = 2.550e-03, counter = 85, energy = -1.272166346374e+00, off by 8.429e-04\n",
      "In iTEBD, eps = 2.530e-03, counter = 86, energy = -1.272166282677e+00, off by 8.429e-04\n",
      "In iTEBD, eps = 2.511e-03, counter = 87, energy = -1.272166220169e+00, off by 8.430e-04\n",
      "In iTEBD, eps = 2.492e-03, counter = 88, energy = -1.272166158821e+00, off by 8.430e-04\n",
      "In iTEBD, eps = 2.472e-03, counter = 89, energy = -1.272166098603e+00, off by 8.431e-04\n",
      "In iTEBD, eps = 2.453e-03, counter = 90, energy = -1.272166039489e+00, off by 8.431e-04\n",
      "In iTEBD, eps = 2.435e-03, counter = 91, energy = -1.272165981454e+00, off by 8.432e-04\n",
      "In iTEBD, eps = 2.416e-03, counter = 92, energy = -1.272165924471e+00, off by 8.432e-04\n",
      "In iTEBD, eps = 2.397e-03, counter = 93, energy = -1.272165868519e+00, off by 8.433e-04\n",
      "In iTEBD, eps = 2.379e-03, counter = 94, energy = -1.272165813572e+00, off by 8.433e-04\n",
      "In iTEBD, eps = 2.360e-03, counter = 95, energy = -1.272165759609e+00, off by 8.433e-04\n",
      "In iTEBD, eps = 2.342e-03, counter = 96, energy = -1.272165706609e+00, off by 8.434e-04\n",
      "In iTEBD, eps = 2.324e-03, counter = 97, energy = -1.272165654549e+00, off by 8.434e-04\n",
      "In iTEBD, eps = 2.306e-03, counter = 98, energy = -1.272165603410e+00, off by 8.435e-04\n"
     ]
    },
    {
     "name": "stdout",
     "output_type": "stream",
     "text": [
      "In iTEBD, eps = 2.288e-03, counter = 99, energy = -1.272165553173e+00, off by 8.435e-04\n",
      "In iTEBD, eps = 2.269e-03, counter = 100, energy = -1.272165503819e+00, off by 8.435e-04\n",
      "In iTEBD, eps = 2.252e-03, counter = 101, energy = -1.272165455328e+00, off by 8.436e-04\n",
      "In iTEBD, eps = 2.234e-03, counter = 102, energy = -1.272165407685e+00, off by 8.436e-04\n",
      "In iTEBD, eps = 2.216e-03, counter = 103, energy = -1.272165360871e+00, off by 8.437e-04\n",
      "In iTEBD, eps = 2.198e-03, counter = 104, energy = -1.272165314871e+00, off by 8.437e-04\n",
      "In iTEBD, eps = 2.180e-03, counter = 105, energy = -1.272165269667e+00, off by 8.437e-04\n",
      "In iTEBD, eps = 2.163e-03, counter = 106, energy = -1.272165225244e+00, off by 8.438e-04\n",
      "In iTEBD, eps = 2.145e-03, counter = 107, energy = -1.272165181588e+00, off by 8.438e-04\n",
      "In iTEBD, eps = 2.127e-03, counter = 108, energy = -1.272165138683e+00, off by 8.438e-04\n",
      "In iTEBD, eps = 2.110e-03, counter = 109, energy = -1.272165096515e+00, off by 8.439e-04\n",
      "In iTEBD, eps = 2.092e-03, counter = 110, energy = -1.272165055070e+00, off by 8.439e-04\n",
      "In iTEBD, eps = 2.075e-03, counter = 111, energy = -1.272165014335e+00, off by 8.439e-04\n",
      "In iTEBD, eps = 2.057e-03, counter = 112, energy = -1.272164974296e+00, off by 8.440e-04\n",
      "In iTEBD, eps = 2.040e-03, counter = 113, energy = -1.272164934941e+00, off by 8.440e-04\n",
      "In iTEBD, eps = 2.022e-03, counter = 114, energy = -1.272164896258e+00, off by 8.440e-04\n",
      "In iTEBD, eps = 2.005e-03, counter = 115, energy = -1.272164858233e+00, off by 8.441e-04\n",
      "In iTEBD, eps = 1.988e-03, counter = 116, energy = -1.272164820855e+00, off by 8.441e-04\n",
      "In iTEBD, eps = 1.970e-03, counter = 117, energy = -1.272164784114e+00, off by 8.441e-04\n",
      "In iTEBD, eps = 1.953e-03, counter = 118, energy = -1.272164747996e+00, off by 8.441e-04\n",
      "In iTEBD, eps = 1.936e-03, counter = 119, energy = -1.272164712492e+00, off by 8.442e-04\n",
      "In iTEBD, eps = 1.918e-03, counter = 120, energy = -1.272164677591e+00, off by 8.442e-04\n",
      "In iTEBD, eps = 1.901e-03, counter = 121, energy = -1.272164643282e+00, off by 8.442e-04\n",
      "In iTEBD, eps = 1.884e-03, counter = 122, energy = -1.272164609555e+00, off by 8.443e-04\n",
      "In iTEBD, eps = 1.867e-03, counter = 123, energy = -1.272164576401e+00, off by 8.443e-04\n",
      "In iTEBD, eps = 1.850e-03, counter = 124, energy = -1.272164543808e+00, off by 8.443e-04\n",
      "In iTEBD, eps = 1.832e-03, counter = 125, energy = -1.272164511768e+00, off by 8.443e-04\n",
      "In iTEBD, eps = 1.815e-03, counter = 126, energy = -1.272164480272e+00, off by 8.444e-04\n",
      "In iTEBD, eps = 1.798e-03, counter = 127, energy = -1.272164449309e+00, off by 8.444e-04\n",
      "In iTEBD, eps = 1.781e-03, counter = 128, energy = -1.272164418873e+00, off by 8.444e-04\n",
      "In iTEBD, eps = 1.764e-03, counter = 129, energy = -1.272164388952e+00, off by 8.444e-04\n",
      "In iTEBD, eps = 1.747e-03, counter = 130, energy = -1.272164359540e+00, off by 8.444e-04\n",
      "In iTEBD, eps = 1.730e-03, counter = 131, energy = -1.272164330627e+00, off by 8.445e-04\n",
      "In iTEBD, eps = 1.713e-03, counter = 132, energy = -1.272164302206e+00, off by 8.445e-04\n",
      "In iTEBD, eps = 1.696e-03, counter = 133, energy = -1.272164274267e+00, off by 8.445e-04\n",
      "In iTEBD, eps = 1.679e-03, counter = 134, energy = -1.272164246804e+00, off by 8.445e-04\n",
      "In iTEBD, eps = 1.662e-03, counter = 135, energy = -1.272164219809e+00, off by 8.446e-04\n",
      "In iTEBD, eps = 1.646e-03, counter = 136, energy = -1.272164193274e+00, off by 8.446e-04\n",
      "In iTEBD, eps = 1.629e-03, counter = 137, energy = -1.272164167190e+00, off by 8.446e-04\n",
      "In iTEBD, eps = 1.612e-03, counter = 138, energy = -1.272164141553e+00, off by 8.446e-04\n",
      "In iTEBD, eps = 1.595e-03, counter = 139, energy = -1.272164116353e+00, off by 8.446e-04\n",
      "In iTEBD, eps = 1.579e-03, counter = 140, energy = -1.272164091583e+00, off by 8.447e-04\n",
      "In iTEBD, eps = 1.562e-03, counter = 141, energy = -1.272164067238e+00, off by 8.447e-04\n",
      "In iTEBD, eps = 1.545e-03, counter = 142, energy = -1.272164043310e+00, off by 8.447e-04\n",
      "In iTEBD, eps = 1.529e-03, counter = 143, energy = -1.272164019792e+00, off by 8.447e-04\n",
      "In iTEBD, eps = 1.512e-03, counter = 144, energy = -1.272163996678e+00, off by 8.447e-04\n",
      "In iTEBD, eps = 1.496e-03, counter = 145, energy = -1.272163973961e+00, off by 8.448e-04\n",
      "In iTEBD, eps = 1.480e-03, counter = 146, energy = -1.272163951635e+00, off by 8.448e-04\n",
      "In iTEBD, eps = 1.463e-03, counter = 147, energy = -1.272163929693e+00, off by 8.448e-04\n",
      "In iTEBD, eps = 1.447e-03, counter = 148, energy = -1.272163908131e+00, off by 8.448e-04\n",
      "In iTEBD, eps = 1.431e-03, counter = 149, energy = -1.272163886942e+00, off by 8.448e-04\n",
      "In iTEBD, eps = 1.415e-03, counter = 150, energy = -1.272163866118e+00, off by 8.448e-04\n",
      "In iTEBD, evolving with τ = 5.000e-02.\n",
      "In iTEBD, eps = 8.752e-03, counter = 1, energy = -1.272969025716e+00, off by 2.125e-04\n",
      "In iTEBD, eps = 1.490e-03, counter = 2, energy = -1.272970260238e+00, off by 2.115e-04\n",
      "In iTEBD, eps = 1.234e-03, counter = 3, energy = -1.272970634615e+00, off by 2.112e-04\n",
      "In iTEBD, eps = 1.125e-03, counter = 4, energy = -1.272970890669e+00, off by 2.110e-04\n",
      "In iTEBD, eps = 1.066e-03, counter = 5, energy = -1.272971083921e+00, off by 2.108e-04\n",
      "In iTEBD, eps = 1.027e-03, counter = 6, energy = -1.272971238142e+00, off by 2.107e-04\n",
      "In iTEBD, eps = 9.961e-04, counter = 7, energy = -1.272971365790e+00, off by 2.106e-04\n",
      "In iTEBD, eps = 9.686e-04, counter = 8, energy = -1.272971474201e+00, off by 2.105e-04\n",
      "In iTEBD, eps = 9.432e-04, counter = 9, energy = -1.272971568060e+00, off by 2.105e-04\n",
      "In iTEBD, eps = 9.193e-04, counter = 10, energy = -1.272971650538e+00, off by 2.104e-04\n",
      "In iTEBD, eps = 8.968e-04, counter = 11, energy = -1.272971723881e+00, off by 2.103e-04\n",
      "In iTEBD, eps = 8.754e-04, counter = 12, energy = -1.272971789736e+00, off by 2.103e-04\n",
      "In iTEBD, eps = 8.551e-04, counter = 13, energy = -1.272971849348e+00, off by 2.102e-04\n",
      "In iTEBD, eps = 8.357e-04, counter = 14, energy = -1.272971903678e+00, off by 2.102e-04\n",
      "In iTEBD, eps = 8.173e-04, counter = 15, energy = -1.272971953486e+00, off by 2.102e-04\n",
      "In iTEBD, eps = 7.997e-04, counter = 16, energy = -1.272971999382e+00, off by 2.101e-04\n",
      "In iTEBD, eps = 7.830e-04, counter = 17, energy = -1.272972041861e+00, off by 2.101e-04\n",
      "In iTEBD, eps = 7.670e-04, counter = 18, energy = -1.272972081334e+00, off by 2.101e-04\n",
      "In iTEBD, eps = 7.516e-04, counter = 19, energy = -1.272972118141e+00, off by 2.100e-04\n",
      "In iTEBD, eps = 7.369e-04, counter = 20, energy = -1.272972152570e+00, off by 2.100e-04\n",
      "In iTEBD, eps = 7.229e-04, counter = 21, energy = -1.272972184867e+00, off by 2.100e-04\n",
      "In iTEBD, eps = 7.093e-04, counter = 22, energy = -1.272972215242e+00, off by 2.100e-04\n",
      "In iTEBD, eps = 6.964e-04, counter = 23, energy = -1.272972243876e+00, off by 2.099e-04\n",
      "In iTEBD, eps = 6.839e-04, counter = 24, energy = -1.272972270925e+00, off by 2.099e-04\n",
      "In iTEBD, eps = 6.718e-04, counter = 25, energy = -1.272972296530e+00, off by 2.099e-04\n",
      "In iTEBD, eps = 6.602e-04, counter = 26, energy = -1.272972320809e+00, off by 2.099e-04\n",
      "In iTEBD, eps = 6.491e-04, counter = 27, energy = -1.272972343871e+00, off by 2.099e-04\n",
      "In iTEBD, eps = 6.383e-04, counter = 28, energy = -1.272972365810e+00, off by 2.098e-04\n",
      "In iTEBD, eps = 6.278e-04, counter = 29, energy = -1.272972386712e+00, off by 2.098e-04\n",
      "In iTEBD, eps = 6.178e-04, counter = 30, energy = -1.272972406652e+00, off by 2.098e-04\n",
      "In iTEBD, eps = 6.081e-04, counter = 31, energy = -1.272972425698e+00, off by 2.098e-04\n",
      "In iTEBD, eps = 5.987e-04, counter = 32, energy = -1.272972443913e+00, off by 2.098e-04\n",
      "In iTEBD, eps = 5.896e-04, counter = 33, energy = -1.272972461351e+00, off by 2.098e-04\n",
      "In iTEBD, eps = 5.807e-04, counter = 34, energy = -1.272972478063e+00, off by 2.098e-04\n",
      "In iTEBD, eps = 5.722e-04, counter = 35, energy = -1.272972494095e+00, off by 2.097e-04\n",
      "In iTEBD, eps = 5.639e-04, counter = 36, energy = -1.272972509490e+00, off by 2.097e-04\n",
      "In iTEBD, eps = 5.558e-04, counter = 37, energy = -1.272972524284e+00, off by 2.097e-04\n",
      "In iTEBD, eps = 5.480e-04, counter = 38, energy = -1.272972538515e+00, off by 2.097e-04\n",
      "In iTEBD, eps = 5.405e-04, counter = 39, energy = -1.272972552213e+00, off by 2.097e-04\n",
      "In iTEBD, eps = 5.331e-04, counter = 40, energy = -1.272972565409e+00, off by 2.097e-04\n"
     ]
    },
    {
     "name": "stdout",
     "output_type": "stream",
     "text": [
      "In iTEBD, eps = 5.260e-04, counter = 41, energy = -1.272972578130e+00, off by 2.097e-04\n",
      "In iTEBD, eps = 5.190e-04, counter = 42, energy = -1.272972590402e+00, off by 2.097e-04\n",
      "In iTEBD, eps = 5.123e-04, counter = 43, energy = -1.272972602248e+00, off by 2.097e-04\n",
      "In iTEBD, eps = 5.057e-04, counter = 44, energy = -1.272972613690e+00, off by 2.096e-04\n",
      "In iTEBD, eps = 4.993e-04, counter = 45, energy = -1.272972624748e+00, off by 2.096e-04\n",
      "In iTEBD, eps = 4.931e-04, counter = 46, energy = -1.272972635442e+00, off by 2.096e-04\n",
      "In iTEBD, eps = 4.870e-04, counter = 47, energy = -1.272972645788e+00, off by 2.096e-04\n",
      "In iTEBD, eps = 4.812e-04, counter = 48, energy = -1.272972655804e+00, off by 2.096e-04\n",
      "In iTEBD, eps = 4.754e-04, counter = 49, energy = -1.272972665504e+00, off by 2.096e-04\n",
      "In iTEBD, eps = 4.698e-04, counter = 50, energy = -1.272972674904e+00, off by 2.096e-04\n",
      "In iTEBD, eps = 4.644e-04, counter = 51, energy = -1.272972684016e+00, off by 2.096e-04\n",
      "In iTEBD, eps = 4.591e-04, counter = 52, energy = -1.272972692854e+00, off by 2.096e-04\n",
      "In iTEBD, eps = 4.539e-04, counter = 53, energy = -1.272972701429e+00, off by 2.096e-04\n",
      "In iTEBD, eps = 4.489e-04, counter = 54, energy = -1.272972709752e+00, off by 2.096e-04\n",
      "In iTEBD, eps = 4.439e-04, counter = 55, energy = -1.272972717835e+00, off by 2.096e-04\n",
      "In iTEBD, eps = 4.391e-04, counter = 56, energy = -1.272972725686e+00, off by 2.096e-04\n",
      "In iTEBD, eps = 4.344e-04, counter = 57, energy = -1.272972733316e+00, off by 2.096e-04\n",
      "In iTEBD, eps = 4.299e-04, counter = 58, energy = -1.272972740733e+00, off by 2.095e-04\n",
      "In iTEBD, eps = 4.254e-04, counter = 59, energy = -1.272972747946e+00, off by 2.095e-04\n",
      "In iTEBD, eps = 4.211e-04, counter = 60, energy = -1.272972754962e+00, off by 2.095e-04\n",
      "In iTEBD, eps = 4.168e-04, counter = 61, energy = -1.272972761790e+00, off by 2.095e-04\n",
      "In iTEBD, eps = 4.127e-04, counter = 62, energy = -1.272972768436e+00, off by 2.095e-04\n",
      "In iTEBD, eps = 4.086e-04, counter = 63, energy = -1.272972774907e+00, off by 2.095e-04\n",
      "In iTEBD, eps = 4.046e-04, counter = 64, energy = -1.272972781210e+00, off by 2.095e-04\n",
      "In iTEBD, eps = 4.008e-04, counter = 65, energy = -1.272972787350e+00, off by 2.095e-04\n",
      "In iTEBD, eps = 3.970e-04, counter = 66, energy = -1.272972793334e+00, off by 2.095e-04\n",
      "In iTEBD, eps = 3.933e-04, counter = 67, energy = -1.272972799166e+00, off by 2.095e-04\n",
      "In iTEBD, eps = 3.897e-04, counter = 68, energy = -1.272972804853e+00, off by 2.095e-04\n",
      "In iTEBD, eps = 3.862e-04, counter = 69, energy = -1.272972810400e+00, off by 2.095e-04\n",
      "In iTEBD, eps = 3.827e-04, counter = 70, energy = -1.272972815810e+00, off by 2.095e-04\n",
      "In iTEBD, eps = 3.793e-04, counter = 71, energy = -1.272972821089e+00, off by 2.095e-04\n",
      "In iTEBD, eps = 3.760e-04, counter = 72, energy = -1.272972826241e+00, off by 2.095e-04\n",
      "In iTEBD, eps = 3.728e-04, counter = 73, energy = -1.272972831270e+00, off by 2.095e-04\n",
      "In iTEBD, eps = 3.697e-04, counter = 74, energy = -1.272972836180e+00, off by 2.095e-04\n",
      "In iTEBD, eps = 3.666e-04, counter = 75, energy = -1.272972840975e+00, off by 2.095e-04\n",
      "In iTEBD, eps = 3.636e-04, counter = 76, energy = -1.272972845659e+00, off by 2.095e-04\n",
      "In iTEBD, eps = 3.606e-04, counter = 77, energy = -1.272972850235e+00, off by 2.095e-04\n",
      "In iTEBD, eps = 3.577e-04, counter = 78, energy = -1.272972854706e+00, off by 2.095e-04\n",
      "In iTEBD, eps = 3.549e-04, counter = 79, energy = -1.272972859076e+00, off by 2.095e-04\n",
      "In iTEBD, eps = 3.521e-04, counter = 80, energy = -1.272972863348e+00, off by 2.095e-04\n",
      "In iTEBD, eps = 3.494e-04, counter = 81, energy = -1.272972867524e+00, off by 2.094e-04\n",
      "In iTEBD, eps = 3.468e-04, counter = 82, energy = -1.272972871608e+00, off by 2.094e-04\n",
      "In iTEBD, eps = 3.442e-04, counter = 83, energy = -1.272972875602e+00, off by 2.094e-04\n",
      "In iTEBD, eps = 3.416e-04, counter = 84, energy = -1.272972879509e+00, off by 2.094e-04\n",
      "In iTEBD, eps = 3.392e-04, counter = 85, energy = -1.272972883332e+00, off by 2.094e-04\n",
      "In iTEBD, eps = 3.367e-04, counter = 86, energy = -1.272972887072e+00, off by 2.094e-04\n",
      "In iTEBD, eps = 3.343e-04, counter = 87, energy = -1.272972890733e+00, off by 2.094e-04\n",
      "In iTEBD, eps = 3.320e-04, counter = 88, energy = -1.272972894316e+00, off by 2.094e-04\n",
      "In iTEBD, eps = 3.297e-04, counter = 89, energy = -1.272972897823e+00, off by 2.094e-04\n",
      "In iTEBD, eps = 3.275e-04, counter = 90, energy = -1.272972901257e+00, off by 2.094e-04\n",
      "In iTEBD, eps = 3.253e-04, counter = 91, energy = -1.272972904620e+00, off by 2.094e-04\n",
      "In iTEBD, eps = 3.232e-04, counter = 92, energy = -1.272972907913e+00, off by 2.094e-04\n",
      "In iTEBD, eps = 3.211e-04, counter = 93, energy = -1.272972911138e+00, off by 2.094e-04\n",
      "In iTEBD, eps = 3.190e-04, counter = 94, energy = -1.272972914298e+00, off by 2.094e-04\n",
      "In iTEBD, eps = 3.170e-04, counter = 95, energy = -1.272972917394e+00, off by 2.094e-04\n",
      "In iTEBD, eps = 3.150e-04, counter = 96, energy = -1.272972920427e+00, off by 2.094e-04\n",
      "In iTEBD, eps = 3.131e-04, counter = 97, energy = -1.272972923400e+00, off by 2.094e-04\n",
      "In iTEBD, eps = 3.112e-04, counter = 98, energy = -1.272972926313e+00, off by 2.094e-04\n",
      "In iTEBD, eps = 3.093e-04, counter = 99, energy = -1.272972929168e+00, off by 2.094e-04\n",
      "In iTEBD, eps = 3.075e-04, counter = 100, energy = -1.272972931968e+00, off by 2.094e-04\n",
      "In iTEBD, eps = 3.057e-04, counter = 101, energy = -1.272972934712e+00, off by 2.094e-04\n",
      "In iTEBD, eps = 3.040e-04, counter = 102, energy = -1.272972937403e+00, off by 2.094e-04\n",
      "In iTEBD, eps = 3.023e-04, counter = 103, energy = -1.272972940042e+00, off by 2.094e-04\n",
      "In iTEBD, eps = 3.006e-04, counter = 104, energy = -1.272972942630e+00, off by 2.094e-04\n",
      "In iTEBD, eps = 2.990e-04, counter = 105, energy = -1.272972945169e+00, off by 2.094e-04\n",
      "In iTEBD, eps = 2.973e-04, counter = 106, energy = -1.272972947659e+00, off by 2.094e-04\n",
      "In iTEBD, eps = 2.958e-04, counter = 107, energy = -1.272972950101e+00, off by 2.094e-04\n",
      "In iTEBD, eps = 2.942e-04, counter = 108, energy = -1.272972952498e+00, off by 2.094e-04\n",
      "In iTEBD, eps = 2.927e-04, counter = 109, energy = -1.272972954849e+00, off by 2.094e-04\n",
      "In iTEBD, eps = 2.912e-04, counter = 110, energy = -1.272972957156e+00, off by 2.094e-04\n",
      "In iTEBD, eps = 2.898e-04, counter = 111, energy = -1.272972959421e+00, off by 2.094e-04\n",
      "In iTEBD, eps = 2.883e-04, counter = 112, energy = -1.272972961643e+00, off by 2.094e-04\n",
      "In iTEBD, eps = 2.869e-04, counter = 113, energy = -1.272972963824e+00, off by 2.094e-04\n",
      "In iTEBD, eps = 2.855e-04, counter = 114, energy = -1.272972965966e+00, off by 2.094e-04\n",
      "In iTEBD, eps = 2.842e-04, counter = 115, energy = -1.272972968068e+00, off by 2.094e-04\n",
      "In iTEBD, eps = 2.829e-04, counter = 116, energy = -1.272972970131e+00, off by 2.094e-04\n",
      "In iTEBD, eps = 2.816e-04, counter = 117, energy = -1.272972972158e+00, off by 2.094e-04\n",
      "In iTEBD, eps = 2.803e-04, counter = 118, energy = -1.272972974147e+00, off by 2.094e-04\n",
      "In iTEBD, eps = 2.791e-04, counter = 119, energy = -1.272972976101e+00, off by 2.094e-04\n",
      "In iTEBD, eps = 2.778e-04, counter = 120, energy = -1.272972978020e+00, off by 2.094e-04\n",
      "In iTEBD, eps = 2.766e-04, counter = 121, energy = -1.272972979904e+00, off by 2.094e-04\n",
      "In iTEBD, eps = 2.754e-04, counter = 122, energy = -1.272972981755e+00, off by 2.094e-04\n",
      "In iTEBD, eps = 2.743e-04, counter = 123, energy = -1.272972983573e+00, off by 2.094e-04\n",
      "In iTEBD, eps = 2.732e-04, counter = 124, energy = -1.272972985359e+00, off by 2.094e-04\n",
      "In iTEBD, eps = 2.720e-04, counter = 125, energy = -1.272972987113e+00, off by 2.094e-04\n",
      "In iTEBD, eps = 2.710e-04, counter = 126, energy = -1.272972988837e+00, off by 2.094e-04\n",
      "In iTEBD, eps = 2.699e-04, counter = 127, energy = -1.272972990530e+00, off by 2.094e-04\n",
      "In iTEBD, eps = 2.688e-04, counter = 128, energy = -1.272972992194e+00, off by 2.093e-04\n",
      "In iTEBD, eps = 2.678e-04, counter = 129, energy = -1.272972993829e+00, off by 2.093e-04\n",
      "In iTEBD, eps = 2.668e-04, counter = 130, energy = -1.272972995436e+00, off by 2.093e-04\n",
      "In iTEBD, eps = 2.658e-04, counter = 131, energy = -1.272972997015e+00, off by 2.093e-04\n",
      "In iTEBD, eps = 2.648e-04, counter = 132, energy = -1.272972998567e+00, off by 2.093e-04\n",
      "In iTEBD, eps = 2.639e-04, counter = 133, energy = -1.272973000093e+00, off by 2.093e-04\n"
     ]
    },
    {
     "name": "stdout",
     "output_type": "stream",
     "text": [
      "In iTEBD, eps = 2.629e-04, counter = 134, energy = -1.272973001592e+00, off by 2.093e-04\n",
      "In iTEBD, eps = 2.620e-04, counter = 135, energy = -1.272973003066e+00, off by 2.093e-04\n",
      "In iTEBD, eps = 2.611e-04, counter = 136, energy = -1.272973004514e+00, off by 2.093e-04\n",
      "In iTEBD, eps = 2.602e-04, counter = 137, energy = -1.272973005938e+00, off by 2.093e-04\n",
      "In iTEBD, eps = 2.593e-04, counter = 138, energy = -1.272973007338e+00, off by 2.093e-04\n",
      "In iTEBD, eps = 2.585e-04, counter = 139, energy = -1.272973008715e+00, off by 2.093e-04\n",
      "In iTEBD, eps = 2.576e-04, counter = 140, energy = -1.272973010068e+00, off by 2.093e-04\n",
      "In iTEBD, eps = 2.568e-04, counter = 141, energy = -1.272973011399e+00, off by 2.093e-04\n",
      "In iTEBD, eps = 2.560e-04, counter = 142, energy = -1.272973012707e+00, off by 2.093e-04\n",
      "In iTEBD, eps = 2.552e-04, counter = 143, energy = -1.272973013994e+00, off by 2.093e-04\n",
      "In iTEBD, eps = 2.544e-04, counter = 144, energy = -1.272973015259e+00, off by 2.093e-04\n",
      "In iTEBD, eps = 2.536e-04, counter = 145, energy = -1.272973016504e+00, off by 2.093e-04\n",
      "In iTEBD, eps = 2.529e-04, counter = 146, energy = -1.272973017728e+00, off by 2.093e-04\n",
      "In iTEBD, eps = 2.521e-04, counter = 147, energy = -1.272973018931e+00, off by 2.093e-04\n",
      "In iTEBD, eps = 2.514e-04, counter = 148, energy = -1.272973020115e+00, off by 2.093e-04\n",
      "In iTEBD, eps = 2.507e-04, counter = 149, energy = -1.272973021280e+00, off by 2.093e-04\n",
      "In iTEBD, eps = 2.499e-04, counter = 150, energy = -1.272973022425e+00, off by 2.093e-04\n",
      "In iTEBD, evolving with τ = 2.500e-02.\n",
      "In iTEBD, eps = 3.894e-03, counter = 1, energy = -1.273168583982e+00, off by 5.573e-05\n",
      "In iTEBD, eps = 2.142e-04, counter = 2, energy = -1.273172659762e+00, off by 5.253e-05\n",
      "In iTEBD, eps = 1.725e-04, counter = 3, energy = -1.273172819622e+00, off by 5.241e-05\n",
      "In iTEBD, eps = 1.605e-04, counter = 4, energy = -1.273172842522e+00, off by 5.239e-05\n",
      "In iTEBD, eps = 1.551e-04, counter = 5, energy = -1.273172856528e+00, off by 5.238e-05\n",
      "In iTEBD, eps = 1.531e-04, counter = 6, energy = -1.273172867751e+00, off by 5.237e-05\n",
      "In iTEBD, eps = 1.530e-04, counter = 7, energy = -1.273172877196e+00, off by 5.236e-05\n",
      "In iTEBD, eps = 1.538e-04, counter = 8, energy = -1.273172885359e+00, off by 5.235e-05\n",
      "In iTEBD, eps = 1.552e-04, counter = 9, energy = -1.273172892552e+00, off by 5.235e-05\n",
      "In iTEBD, eps = 1.568e-04, counter = 10, energy = -1.273172898984e+00, off by 5.234e-05\n",
      "In iTEBD, eps = 1.583e-04, counter = 11, energy = -1.273172904804e+00, off by 5.234e-05\n",
      "In iTEBD, eps = 1.598e-04, counter = 12, energy = -1.273172910121e+00, off by 5.233e-05\n",
      "In iTEBD, eps = 1.612e-04, counter = 13, energy = -1.273172915017e+00, off by 5.233e-05\n",
      "In iTEBD, eps = 1.625e-04, counter = 14, energy = -1.273172919554e+00, off by 5.233e-05\n",
      "In iTEBD, eps = 1.636e-04, counter = 15, energy = -1.273172923784e+00, off by 5.232e-05\n",
      "In iTEBD, eps = 1.645e-04, counter = 16, energy = -1.273172927747e+00, off by 5.232e-05\n",
      "In iTEBD, eps = 1.653e-04, counter = 17, energy = -1.273172931475e+00, off by 5.232e-05\n",
      "In iTEBD, eps = 1.660e-04, counter = 18, energy = -1.273172934994e+00, off by 5.232e-05\n",
      "In iTEBD, eps = 1.665e-04, counter = 19, energy = -1.273172938329e+00, off by 5.231e-05\n",
      "In iTEBD, eps = 1.670e-04, counter = 20, energy = -1.273172941498e+00, off by 5.231e-05\n",
      "In iTEBD, eps = 1.673e-04, counter = 21, energy = -1.273172944516e+00, off by 5.231e-05\n",
      "In iTEBD, eps = 1.675e-04, counter = 22, energy = -1.273172947399e+00, off by 5.231e-05\n",
      "In iTEBD, eps = 1.677e-04, counter = 23, energy = -1.273172950158e+00, off by 5.230e-05\n",
      "In iTEBD, eps = 1.678e-04, counter = 24, energy = -1.273172952803e+00, off by 5.230e-05\n",
      "In iTEBD, eps = 1.678e-04, counter = 25, energy = -1.273172955344e+00, off by 5.230e-05\n",
      "In iTEBD, eps = 1.678e-04, counter = 26, energy = -1.273172957789e+00, off by 5.230e-05\n",
      "In iTEBD, eps = 1.678e-04, counter = 27, energy = -1.273172960145e+00, off by 5.230e-05\n",
      "In iTEBD, eps = 1.676e-04, counter = 28, energy = -1.273172962418e+00, off by 5.229e-05\n",
      "In iTEBD, eps = 1.675e-04, counter = 29, energy = -1.273172964615e+00, off by 5.229e-05\n",
      "In iTEBD, eps = 1.673e-04, counter = 30, energy = -1.273172966740e+00, off by 5.229e-05\n",
      "In iTEBD, eps = 1.670e-04, counter = 31, energy = -1.273172968797e+00, off by 5.229e-05\n",
      "In iTEBD, eps = 1.668e-04, counter = 32, energy = -1.273172970792e+00, off by 5.229e-05\n",
      "In iTEBD, eps = 1.665e-04, counter = 33, energy = -1.273172972728e+00, off by 5.229e-05\n",
      "In iTEBD, eps = 1.662e-04, counter = 34, energy = -1.273172974608e+00, off by 5.228e-05\n",
      "In iTEBD, eps = 1.659e-04, counter = 35, energy = -1.273172976435e+00, off by 5.228e-05\n",
      "In iTEBD, eps = 1.655e-04, counter = 36, energy = -1.273172978213e+00, off by 5.228e-05\n",
      "In iTEBD, eps = 1.651e-04, counter = 37, energy = -1.273172979943e+00, off by 5.228e-05\n",
      "In iTEBD, eps = 1.648e-04, counter = 38, energy = -1.273172981629e+00, off by 5.228e-05\n",
      "In iTEBD, eps = 1.644e-04, counter = 39, energy = -1.273172983273e+00, off by 5.228e-05\n",
      "In iTEBD, eps = 1.640e-04, counter = 40, energy = -1.273172984876e+00, off by 5.228e-05\n",
      "In iTEBD, eps = 1.635e-04, counter = 41, energy = -1.273172986441e+00, off by 5.227e-05\n",
      "In iTEBD, eps = 1.631e-04, counter = 42, energy = -1.273172987970e+00, off by 5.227e-05\n",
      "In iTEBD, eps = 1.627e-04, counter = 43, energy = -1.273172989464e+00, off by 5.227e-05\n",
      "In iTEBD, eps = 1.622e-04, counter = 44, energy = -1.273172990925e+00, off by 5.227e-05\n",
      "In iTEBD, eps = 1.618e-04, counter = 45, energy = -1.273172992354e+00, off by 5.227e-05\n",
      "In iTEBD, eps = 1.613e-04, counter = 46, energy = -1.273172993752e+00, off by 5.227e-05\n",
      "In iTEBD, eps = 1.608e-04, counter = 47, energy = -1.273172995121e+00, off by 5.227e-05\n",
      "In iTEBD, eps = 1.604e-04, counter = 48, energy = -1.273172996462e+00, off by 5.227e-05\n",
      "In iTEBD, eps = 1.599e-04, counter = 49, energy = -1.273172997777e+00, off by 5.227e-05\n",
      "In iTEBD, eps = 1.594e-04, counter = 50, energy = -1.273172999065e+00, off by 5.226e-05\n",
      "In iTEBD, eps = 1.589e-04, counter = 51, energy = -1.273173000328e+00, off by 5.226e-05\n",
      "In iTEBD, eps = 1.584e-04, counter = 52, energy = -1.273173001567e+00, off by 5.226e-05\n",
      "In iTEBD, eps = 1.579e-04, counter = 53, energy = -1.273173002784e+00, off by 5.226e-05\n",
      "In iTEBD, eps = 1.575e-04, counter = 54, energy = -1.273173003978e+00, off by 5.226e-05\n",
      "In iTEBD, eps = 1.570e-04, counter = 55, energy = -1.273173005150e+00, off by 5.226e-05\n",
      "In iTEBD, eps = 1.565e-04, counter = 56, energy = -1.273173006301e+00, off by 5.226e-05\n",
      "In iTEBD, eps = 1.560e-04, counter = 57, energy = -1.273173007433e+00, off by 5.226e-05\n",
      "In iTEBD, eps = 1.555e-04, counter = 58, energy = -1.273173008545e+00, off by 5.226e-05\n",
      "In iTEBD, eps = 1.550e-04, counter = 59, energy = -1.273173009638e+00, off by 5.226e-05\n",
      "In iTEBD, eps = 1.545e-04, counter = 60, energy = -1.273173010713e+00, off by 5.226e-05\n",
      "In iTEBD, eps = 1.540e-04, counter = 61, energy = -1.273173011771e+00, off by 5.225e-05\n",
      "In iTEBD, eps = 1.535e-04, counter = 62, energy = -1.273173012811e+00, off by 5.225e-05\n",
      "In iTEBD, eps = 1.530e-04, counter = 63, energy = -1.273173013835e+00, off by 5.225e-05\n",
      "In iTEBD, eps = 1.525e-04, counter = 64, energy = -1.273173014842e+00, off by 5.225e-05\n",
      "In iTEBD, eps = 1.520e-04, counter = 65, energy = -1.273173015834e+00, off by 5.225e-05\n",
      "In iTEBD, eps = 1.515e-04, counter = 66, energy = -1.273173016811e+00, off by 5.225e-05\n",
      "In iTEBD, eps = 1.510e-04, counter = 67, energy = -1.273173017773e+00, off by 5.225e-05\n",
      "In iTEBD, eps = 1.505e-04, counter = 68, energy = -1.273173018721e+00, off by 5.225e-05\n",
      "In iTEBD, eps = 1.500e-04, counter = 69, energy = -1.273173019655e+00, off by 5.225e-05\n",
      "In iTEBD, eps = 1.495e-04, counter = 70, energy = -1.273173020575e+00, off by 5.225e-05\n",
      "In iTEBD, eps = 1.490e-04, counter = 71, energy = -1.273173021483e+00, off by 5.225e-05\n",
      "In iTEBD, eps = 1.485e-04, counter = 72, energy = -1.273173022377e+00, off by 5.225e-05\n",
      "In iTEBD, eps = 1.480e-04, counter = 73, energy = -1.273173023259e+00, off by 5.225e-05\n",
      "In iTEBD, eps = 1.475e-04, counter = 74, energy = -1.273173024128e+00, off by 5.225e-05\n",
      "In iTEBD, eps = 1.470e-04, counter = 75, energy = -1.273173024986e+00, off by 5.224e-05\n",
      "In iTEBD, eps = 1.465e-04, counter = 76, energy = -1.273173025832e+00, off by 5.224e-05\n"
     ]
    },
    {
     "name": "stdout",
     "output_type": "stream",
     "text": [
      "In iTEBD, eps = 1.460e-04, counter = 77, energy = -1.273173026667e+00, off by 5.224e-05\n",
      "In iTEBD, eps = 1.456e-04, counter = 78, energy = -1.273173027491e+00, off by 5.224e-05\n",
      "In iTEBD, eps = 1.451e-04, counter = 79, energy = -1.273173028304e+00, off by 5.224e-05\n",
      "In iTEBD, eps = 1.446e-04, counter = 80, energy = -1.273173029106e+00, off by 5.224e-05\n",
      "In iTEBD, eps = 1.441e-04, counter = 81, energy = -1.273173029898e+00, off by 5.224e-05\n",
      "In iTEBD, eps = 1.436e-04, counter = 82, energy = -1.273173030680e+00, off by 5.224e-05\n",
      "In iTEBD, eps = 1.432e-04, counter = 83, energy = -1.273173031453e+00, off by 5.224e-05\n",
      "In iTEBD, eps = 1.427e-04, counter = 84, energy = -1.273173032215e+00, off by 5.224e-05\n",
      "In iTEBD, eps = 1.422e-04, counter = 85, energy = -1.273173032969e+00, off by 5.224e-05\n",
      "In iTEBD, eps = 1.417e-04, counter = 86, energy = -1.273173033713e+00, off by 5.224e-05\n",
      "In iTEBD, eps = 1.413e-04, counter = 87, energy = -1.273173034448e+00, off by 5.224e-05\n",
      "In iTEBD, eps = 1.408e-04, counter = 88, energy = -1.273173035174e+00, off by 5.224e-05\n",
      "In iTEBD, eps = 1.403e-04, counter = 89, energy = -1.273173035892e+00, off by 5.224e-05\n",
      "In iTEBD, eps = 1.399e-04, counter = 90, energy = -1.273173036602e+00, off by 5.224e-05\n",
      "In iTEBD, eps = 1.394e-04, counter = 91, energy = -1.273173037303e+00, off by 5.223e-05\n",
      "In iTEBD, eps = 1.389e-04, counter = 92, energy = -1.273173037996e+00, off by 5.223e-05\n",
      "In iTEBD, eps = 1.385e-04, counter = 93, energy = -1.273173038681e+00, off by 5.223e-05\n",
      "In iTEBD, eps = 1.380e-04, counter = 94, energy = -1.273173039358e+00, off by 5.223e-05\n",
      "In iTEBD, eps = 1.376e-04, counter = 95, energy = -1.273173040028e+00, off by 5.223e-05\n",
      "In iTEBD, eps = 1.371e-04, counter = 96, energy = -1.273173040690e+00, off by 5.223e-05\n",
      "In iTEBD, eps = 1.367e-04, counter = 97, energy = -1.273173041345e+00, off by 5.223e-05\n",
      "In iTEBD, eps = 1.362e-04, counter = 98, energy = -1.273173041993e+00, off by 5.223e-05\n",
      "In iTEBD, eps = 1.358e-04, counter = 99, energy = -1.273173042634e+00, off by 5.223e-05\n",
      "In iTEBD, eps = 1.353e-04, counter = 100, energy = -1.273173043267e+00, off by 5.223e-05\n",
      "In iTEBD, eps = 1.349e-04, counter = 101, energy = -1.273173043894e+00, off by 5.223e-05\n",
      "In iTEBD, eps = 1.344e-04, counter = 102, energy = -1.273173044515e+00, off by 5.223e-05\n",
      "In iTEBD, eps = 1.340e-04, counter = 103, energy = -1.273173045129e+00, off by 5.223e-05\n",
      "In iTEBD, eps = 1.336e-04, counter = 104, energy = -1.273173045736e+00, off by 5.223e-05\n",
      "In iTEBD, eps = 1.331e-04, counter = 105, energy = -1.273173046337e+00, off by 5.223e-05\n",
      "In iTEBD, eps = 1.327e-04, counter = 106, energy = -1.273173046932e+00, off by 5.223e-05\n",
      "In iTEBD, eps = 1.323e-04, counter = 107, energy = -1.273173047521e+00, off by 5.223e-05\n",
      "In iTEBD, eps = 1.318e-04, counter = 108, energy = -1.273173048104e+00, off by 5.223e-05\n",
      "In iTEBD, eps = 1.314e-04, counter = 109, energy = -1.273173048681e+00, off by 5.223e-05\n",
      "In iTEBD, eps = 1.310e-04, counter = 110, energy = -1.273173049252e+00, off by 5.223e-05\n",
      "In iTEBD, eps = 1.306e-04, counter = 111, energy = -1.273173049817e+00, off by 5.222e-05\n",
      "In iTEBD, eps = 1.302e-04, counter = 112, energy = -1.273173050377e+00, off by 5.222e-05\n",
      "In iTEBD, eps = 1.297e-04, counter = 113, energy = -1.273173050932e+00, off by 5.222e-05\n",
      "In iTEBD, eps = 1.293e-04, counter = 114, energy = -1.273173051481e+00, off by 5.222e-05\n",
      "In iTEBD, eps = 1.289e-04, counter = 115, energy = -1.273173052025e+00, off by 5.222e-05\n",
      "In iTEBD, eps = 1.285e-04, counter = 116, energy = -1.273173052563e+00, off by 5.222e-05\n",
      "In iTEBD, eps = 1.281e-04, counter = 117, energy = -1.273173053096e+00, off by 5.222e-05\n",
      "In iTEBD, eps = 1.277e-04, counter = 118, energy = -1.273173053625e+00, off by 5.222e-05\n",
      "In iTEBD, eps = 1.273e-04, counter = 119, energy = -1.273173054148e+00, off by 5.222e-05\n",
      "In iTEBD, eps = 1.269e-04, counter = 120, energy = -1.273173054666e+00, off by 5.222e-05\n",
      "In iTEBD, eps = 1.265e-04, counter = 121, energy = -1.273173055180e+00, off by 5.222e-05\n",
      "In iTEBD, eps = 1.261e-04, counter = 122, energy = -1.273173055689e+00, off by 5.222e-05\n",
      "In iTEBD, eps = 1.257e-04, counter = 123, energy = -1.273173056193e+00, off by 5.222e-05\n",
      "In iTEBD, eps = 1.253e-04, counter = 124, energy = -1.273173056692e+00, off by 5.222e-05\n",
      "In iTEBD, eps = 1.249e-04, counter = 125, energy = -1.273173057187e+00, off by 5.222e-05\n",
      "In iTEBD, eps = 1.245e-04, counter = 126, energy = -1.273173057678e+00, off by 5.222e-05\n",
      "In iTEBD, eps = 1.241e-04, counter = 127, energy = -1.273173058164e+00, off by 5.222e-05\n",
      "In iTEBD, eps = 1.237e-04, counter = 128, energy = -1.273173058646e+00, off by 5.222e-05\n",
      "In iTEBD, eps = 1.233e-04, counter = 129, energy = -1.273173059123e+00, off by 5.222e-05\n",
      "In iTEBD, eps = 1.229e-04, counter = 130, energy = -1.273173059596e+00, off by 5.222e-05\n",
      "In iTEBD, eps = 1.225e-04, counter = 131, energy = -1.273173060066e+00, off by 5.222e-05\n",
      "In iTEBD, eps = 1.222e-04, counter = 132, energy = -1.273173060531e+00, off by 5.222e-05\n",
      "In iTEBD, eps = 1.218e-04, counter = 133, energy = -1.273173060991e+00, off by 5.222e-05\n",
      "In iTEBD, eps = 1.214e-04, counter = 134, energy = -1.273173061448e+00, off by 5.222e-05\n",
      "In iTEBD, eps = 1.210e-04, counter = 135, energy = -1.273173061901e+00, off by 5.222e-05\n",
      "In iTEBD, eps = 1.206e-04, counter = 136, energy = -1.273173062351e+00, off by 5.222e-05\n",
      "In iTEBD, eps = 1.203e-04, counter = 137, energy = -1.273173062796e+00, off by 5.221e-05\n",
      "In iTEBD, eps = 1.199e-04, counter = 138, energy = -1.273173063238e+00, off by 5.221e-05\n",
      "In iTEBD, eps = 1.195e-04, counter = 139, energy = -1.273173063675e+00, off by 5.221e-05\n",
      "In iTEBD, eps = 1.192e-04, counter = 140, energy = -1.273173064110e+00, off by 5.221e-05\n",
      "In iTEBD, eps = 1.188e-04, counter = 141, energy = -1.273173064540e+00, off by 5.221e-05\n",
      "In iTEBD, eps = 1.184e-04, counter = 142, energy = -1.273173064967e+00, off by 5.221e-05\n",
      "In iTEBD, eps = 1.181e-04, counter = 143, energy = -1.273173065391e+00, off by 5.221e-05\n",
      "In iTEBD, eps = 1.177e-04, counter = 144, energy = -1.273173065811e+00, off by 5.221e-05\n",
      "In iTEBD, eps = 1.173e-04, counter = 145, energy = -1.273173066227e+00, off by 5.221e-05\n",
      "In iTEBD, eps = 1.170e-04, counter = 146, energy = -1.273173066641e+00, off by 5.221e-05\n",
      "In iTEBD, eps = 1.166e-04, counter = 147, energy = -1.273173067050e+00, off by 5.221e-05\n",
      "In iTEBD, eps = 1.163e-04, counter = 148, energy = -1.273173067457e+00, off by 5.221e-05\n",
      "In iTEBD, eps = 1.159e-04, counter = 149, energy = -1.273173067860e+00, off by 5.221e-05\n",
      "In iTEBD, eps = 1.156e-04, counter = 150, energy = -1.273173068260e+00, off by 5.221e-05\n",
      "In iTEBD, evolving with τ = 1.250e-02.\n",
      "In iTEBD, eps = 1.620e-03, counter = 1, energy = -1.273216624173e+00, off by 1.800e-05\n",
      "In iTEBD, eps = 2.885e-04, counter = 2, energy = -1.273221850361e+00, off by 1.390e-05\n",
      "In iTEBD, eps = 7.229e-05, counter = 3, energy = -1.273222705042e+00, off by 1.323e-05\n",
      "In iTEBD, eps = 5.516e-05, counter = 4, energy = -1.273222858445e+00, off by 1.311e-05\n",
      "In iTEBD, eps = 5.567e-05, counter = 5, energy = -1.273222887557e+00, off by 1.308e-05\n",
      "In iTEBD, eps = 5.677e-05, counter = 6, energy = -1.273222893715e+00, off by 1.308e-05\n",
      "In iTEBD, eps = 5.775e-05, counter = 7, energy = -1.273222895472e+00, off by 1.308e-05\n",
      "In iTEBD, eps = 5.859e-05, counter = 8, energy = -1.273222896324e+00, off by 1.308e-05\n",
      "In iTEBD, eps = 5.933e-05, counter = 9, energy = -1.273222896952e+00, off by 1.308e-05\n",
      "In iTEBD, eps = 5.997e-05, counter = 10, energy = -1.273222897498e+00, off by 1.307e-05\n",
      "In iTEBD, eps = 6.055e-05, counter = 11, energy = -1.273222897996e+00, off by 1.307e-05\n",
      "In iTEBD, eps = 6.106e-05, counter = 12, energy = -1.273222898460e+00, off by 1.307e-05\n",
      "In iTEBD, eps = 6.153e-05, counter = 13, energy = -1.273222898896e+00, off by 1.307e-05\n",
      "In iTEBD, eps = 6.194e-05, counter = 14, energy = -1.273222899308e+00, off by 1.307e-05\n",
      "In iTEBD, eps = 6.232e-05, counter = 15, energy = -1.273222899699e+00, off by 1.307e-05\n",
      "In iTEBD, eps = 6.267e-05, counter = 16, energy = -1.273222900073e+00, off by 1.307e-05\n",
      "In iTEBD, eps = 6.298e-05, counter = 17, energy = -1.273222900430e+00, off by 1.307e-05\n",
      "In iTEBD, eps = 6.327e-05, counter = 18, energy = -1.273222900774e+00, off by 1.307e-05\n"
     ]
    },
    {
     "name": "stdout",
     "output_type": "stream",
     "text": [
      "In iTEBD, eps = 6.353e-05, counter = 19, energy = -1.273222901105e+00, off by 1.307e-05\n",
      "In iTEBD, eps = 6.377e-05, counter = 20, energy = -1.273222901425e+00, off by 1.307e-05\n",
      "In iTEBD, eps = 6.399e-05, counter = 21, energy = -1.273222901735e+00, off by 1.307e-05\n",
      "In iTEBD, eps = 6.419e-05, counter = 22, energy = -1.273222902036e+00, off by 1.307e-05\n",
      "In iTEBD, eps = 6.437e-05, counter = 23, energy = -1.273222902328e+00, off by 1.307e-05\n",
      "In iTEBD, eps = 6.454e-05, counter = 24, energy = -1.273222902613e+00, off by 1.307e-05\n",
      "In iTEBD, eps = 6.469e-05, counter = 25, energy = -1.273222902890e+00, off by 1.307e-05\n",
      "In iTEBD, eps = 6.484e-05, counter = 26, energy = -1.273222903161e+00, off by 1.307e-05\n",
      "In iTEBD, eps = 6.497e-05, counter = 27, energy = -1.273222903425e+00, off by 1.307e-05\n",
      "In iTEBD, eps = 6.508e-05, counter = 28, energy = -1.273222903684e+00, off by 1.307e-05\n",
      "In iTEBD, eps = 6.519e-05, counter = 29, energy = -1.273222903937e+00, off by 1.307e-05\n",
      "In iTEBD, eps = 6.529e-05, counter = 30, energy = -1.273222904186e+00, off by 1.307e-05\n",
      "In iTEBD, eps = 6.538e-05, counter = 31, energy = -1.273222904429e+00, off by 1.307e-05\n",
      "In iTEBD, eps = 6.546e-05, counter = 32, energy = -1.273222904668e+00, off by 1.307e-05\n",
      "In iTEBD, eps = 6.553e-05, counter = 33, energy = -1.273222904903e+00, off by 1.307e-05\n",
      "In iTEBD, eps = 6.559e-05, counter = 34, energy = -1.273222905134e+00, off by 1.307e-05\n",
      "In iTEBD, eps = 6.565e-05, counter = 35, energy = -1.273222905361e+00, off by 1.307e-05\n",
      "In iTEBD, eps = 6.570e-05, counter = 36, energy = -1.273222905585e+00, off by 1.307e-05\n",
      "In iTEBD, eps = 6.575e-05, counter = 37, energy = -1.273222905805e+00, off by 1.307e-05\n",
      "In iTEBD, eps = 6.579e-05, counter = 38, energy = -1.273222906022e+00, off by 1.307e-05\n",
      "In iTEBD, eps = 6.582e-05, counter = 39, energy = -1.273222906236e+00, off by 1.307e-05\n",
      "In iTEBD, eps = 6.585e-05, counter = 40, energy = -1.273222906446e+00, off by 1.307e-05\n",
      "In iTEBD, eps = 6.588e-05, counter = 41, energy = -1.273222906654e+00, off by 1.307e-05\n",
      "In iTEBD, eps = 6.590e-05, counter = 42, energy = -1.273222906859e+00, off by 1.307e-05\n",
      "In iTEBD, eps = 6.591e-05, counter = 43, energy = -1.273222907062e+00, off by 1.307e-05\n",
      "In iTEBD, eps = 6.592e-05, counter = 44, energy = -1.273222907262e+00, off by 1.307e-05\n",
      "In iTEBD, eps = 6.593e-05, counter = 45, energy = -1.273222907459e+00, off by 1.307e-05\n",
      "In iTEBD, eps = 6.593e-05, counter = 46, energy = -1.273222907654e+00, off by 1.307e-05\n",
      "In iTEBD, eps = 6.593e-05, counter = 47, energy = -1.273222907847e+00, off by 1.307e-05\n",
      "In iTEBD, eps = 6.593e-05, counter = 48, energy = -1.273222908038e+00, off by 1.307e-05\n",
      "In iTEBD, eps = 6.593e-05, counter = 49, energy = -1.273222908226e+00, off by 1.307e-05\n",
      "In iTEBD, eps = 6.592e-05, counter = 50, energy = -1.273222908413e+00, off by 1.307e-05\n",
      "In iTEBD, eps = 6.591e-05, counter = 51, energy = -1.273222908597e+00, off by 1.307e-05\n",
      "In iTEBD, eps = 6.589e-05, counter = 52, energy = -1.273222908780e+00, off by 1.307e-05\n",
      "In iTEBD, eps = 6.587e-05, counter = 53, energy = -1.273222908961e+00, off by 1.307e-05\n",
      "In iTEBD, eps = 6.586e-05, counter = 54, energy = -1.273222909140e+00, off by 1.307e-05\n",
      "In iTEBD, eps = 6.583e-05, counter = 55, energy = -1.273222909317e+00, off by 1.307e-05\n",
      "In iTEBD, eps = 6.581e-05, counter = 56, energy = -1.273222909492e+00, off by 1.307e-05\n",
      "In iTEBD, eps = 6.579e-05, counter = 57, energy = -1.273222909666e+00, off by 1.307e-05\n",
      "In iTEBD, eps = 6.576e-05, counter = 58, energy = -1.273222909838e+00, off by 1.307e-05\n",
      "In iTEBD, eps = 6.573e-05, counter = 59, energy = -1.273222910009e+00, off by 1.306e-05\n",
      "In iTEBD, eps = 6.570e-05, counter = 60, energy = -1.273222910178e+00, off by 1.306e-05\n",
      "In iTEBD, eps = 6.567e-05, counter = 61, energy = -1.273222910346e+00, off by 1.306e-05\n",
      "In iTEBD, eps = 6.563e-05, counter = 62, energy = -1.273222910512e+00, off by 1.306e-05\n",
      "In iTEBD, eps = 6.560e-05, counter = 63, energy = -1.273222910676e+00, off by 1.306e-05\n",
      "In iTEBD, eps = 6.556e-05, counter = 64, energy = -1.273222910840e+00, off by 1.306e-05\n",
      "In iTEBD, eps = 6.552e-05, counter = 65, energy = -1.273222911002e+00, off by 1.306e-05\n",
      "In iTEBD, eps = 6.548e-05, counter = 66, energy = -1.273222911162e+00, off by 1.306e-05\n",
      "In iTEBD, eps = 6.544e-05, counter = 67, energy = -1.273222911322e+00, off by 1.306e-05\n",
      "In iTEBD, eps = 6.540e-05, counter = 68, energy = -1.273222911480e+00, off by 1.306e-05\n",
      "In iTEBD, eps = 6.535e-05, counter = 69, energy = -1.273222911636e+00, off by 1.306e-05\n",
      "In iTEBD, eps = 6.531e-05, counter = 70, energy = -1.273222911792e+00, off by 1.306e-05\n",
      "In iTEBD, eps = 6.526e-05, counter = 71, energy = -1.273222911946e+00, off by 1.306e-05\n",
      "In iTEBD, eps = 6.521e-05, counter = 72, energy = -1.273222912100e+00, off by 1.306e-05\n",
      "In iTEBD, eps = 6.517e-05, counter = 73, energy = -1.273222912252e+00, off by 1.306e-05\n",
      "In iTEBD, eps = 6.512e-05, counter = 74, energy = -1.273222912403e+00, off by 1.306e-05\n",
      "In iTEBD, eps = 6.507e-05, counter = 75, energy = -1.273222912553e+00, off by 1.306e-05\n",
      "In iTEBD, eps = 6.502e-05, counter = 76, energy = -1.273222912701e+00, off by 1.306e-05\n",
      "In iTEBD, eps = 6.497e-05, counter = 77, energy = -1.273222912849e+00, off by 1.306e-05\n",
      "In iTEBD, eps = 6.491e-05, counter = 78, energy = -1.273222912996e+00, off by 1.306e-05\n",
      "In iTEBD, eps = 6.486e-05, counter = 79, energy = -1.273222913141e+00, off by 1.306e-05\n",
      "In iTEBD, eps = 6.481e-05, counter = 80, energy = -1.273222913286e+00, off by 1.306e-05\n",
      "In iTEBD, eps = 6.475e-05, counter = 81, energy = -1.273222913430e+00, off by 1.306e-05\n",
      "In iTEBD, eps = 6.470e-05, counter = 82, energy = -1.273222913572e+00, off by 1.306e-05\n",
      "In iTEBD, eps = 6.464e-05, counter = 83, energy = -1.273222913714e+00, off by 1.306e-05\n",
      "In iTEBD, eps = 6.459e-05, counter = 84, energy = -1.273222913855e+00, off by 1.306e-05\n",
      "In iTEBD, eps = 6.453e-05, counter = 85, energy = -1.273222913995e+00, off by 1.306e-05\n",
      "In iTEBD, eps = 6.447e-05, counter = 86, energy = -1.273222914134e+00, off by 1.306e-05\n",
      "In iTEBD, eps = 6.441e-05, counter = 87, energy = -1.273222914272e+00, off by 1.306e-05\n",
      "In iTEBD, eps = 6.436e-05, counter = 88, energy = -1.273222914409e+00, off by 1.306e-05\n",
      "In iTEBD, eps = 6.430e-05, counter = 89, energy = -1.273222914545e+00, off by 1.306e-05\n",
      "In iTEBD, eps = 6.424e-05, counter = 90, energy = -1.273222914681e+00, off by 1.306e-05\n",
      "In iTEBD, eps = 6.418e-05, counter = 91, energy = -1.273222914815e+00, off by 1.306e-05\n",
      "In iTEBD, eps = 6.412e-05, counter = 92, energy = -1.273222914949e+00, off by 1.306e-05\n",
      "In iTEBD, eps = 6.406e-05, counter = 93, energy = -1.273222915082e+00, off by 1.306e-05\n",
      "In iTEBD, eps = 6.400e-05, counter = 94, energy = -1.273222915214e+00, off by 1.306e-05\n",
      "In iTEBD, eps = 6.393e-05, counter = 95, energy = -1.273222915345e+00, off by 1.306e-05\n",
      "In iTEBD, eps = 6.387e-05, counter = 96, energy = -1.273222915476e+00, off by 1.306e-05\n",
      "In iTEBD, eps = 6.381e-05, counter = 97, energy = -1.273222915606e+00, off by 1.306e-05\n",
      "In iTEBD, eps = 6.375e-05, counter = 98, energy = -1.273222915735e+00, off by 1.306e-05\n",
      "In iTEBD, eps = 6.368e-05, counter = 99, energy = -1.273222915863e+00, off by 1.306e-05\n",
      "In iTEBD, eps = 6.362e-05, counter = 100, energy = -1.273222915991e+00, off by 1.306e-05\n",
      "In iTEBD, eps = 6.356e-05, counter = 101, energy = -1.273222916117e+00, off by 1.306e-05\n",
      "In iTEBD, eps = 6.349e-05, counter = 102, energy = -1.273222916244e+00, off by 1.306e-05\n",
      "In iTEBD, eps = 6.343e-05, counter = 103, energy = -1.273222916369e+00, off by 1.306e-05\n",
      "In iTEBD, eps = 6.337e-05, counter = 104, energy = -1.273222916494e+00, off by 1.306e-05\n",
      "In iTEBD, eps = 6.330e-05, counter = 105, energy = -1.273222916618e+00, off by 1.306e-05\n",
      "In iTEBD, eps = 6.324e-05, counter = 106, energy = -1.273222916741e+00, off by 1.306e-05\n",
      "In iTEBD, eps = 6.317e-05, counter = 107, energy = -1.273222916863e+00, off by 1.306e-05\n",
      "In iTEBD, eps = 6.311e-05, counter = 108, energy = -1.273222916985e+00, off by 1.306e-05\n",
      "In iTEBD, eps = 6.304e-05, counter = 109, energy = -1.273222917106e+00, off by 1.306e-05\n",
      "In iTEBD, eps = 6.297e-05, counter = 110, energy = -1.273222917227e+00, off by 1.306e-05\n",
      "In iTEBD, eps = 6.291e-05, counter = 111, energy = -1.273222917347e+00, off by 1.306e-05\n"
     ]
    },
    {
     "name": "stdout",
     "output_type": "stream",
     "text": [
      "In iTEBD, eps = 6.284e-05, counter = 112, energy = -1.273222917466e+00, off by 1.306e-05\n",
      "In iTEBD, eps = 6.278e-05, counter = 113, energy = -1.273222917585e+00, off by 1.306e-05\n",
      "In iTEBD, eps = 6.271e-05, counter = 114, energy = -1.273222917703e+00, off by 1.306e-05\n",
      "In iTEBD, eps = 6.264e-05, counter = 115, energy = -1.273222917821e+00, off by 1.306e-05\n",
      "In iTEBD, eps = 6.258e-05, counter = 116, energy = -1.273222917937e+00, off by 1.306e-05\n",
      "In iTEBD, eps = 6.251e-05, counter = 117, energy = -1.273222918053e+00, off by 1.306e-05\n",
      "In iTEBD, eps = 6.244e-05, counter = 118, energy = -1.273222918169e+00, off by 1.306e-05\n",
      "In iTEBD, eps = 6.238e-05, counter = 119, energy = -1.273222918284e+00, off by 1.306e-05\n",
      "In iTEBD, eps = 6.231e-05, counter = 120, energy = -1.273222918399e+00, off by 1.306e-05\n",
      "In iTEBD, eps = 6.224e-05, counter = 121, energy = -1.273222918512e+00, off by 1.306e-05\n",
      "In iTEBD, eps = 6.217e-05, counter = 122, energy = -1.273222918626e+00, off by 1.306e-05\n",
      "In iTEBD, eps = 6.211e-05, counter = 123, energy = -1.273222918738e+00, off by 1.306e-05\n",
      "In iTEBD, eps = 6.204e-05, counter = 124, energy = -1.273222918850e+00, off by 1.306e-05\n",
      "In iTEBD, eps = 6.197e-05, counter = 125, energy = -1.273222918962e+00, off by 1.306e-05\n",
      "In iTEBD, eps = 6.190e-05, counter = 126, energy = -1.273222919073e+00, off by 1.306e-05\n",
      "In iTEBD, eps = 6.184e-05, counter = 127, energy = -1.273222919184e+00, off by 1.306e-05\n",
      "In iTEBD, eps = 6.177e-05, counter = 128, energy = -1.273222919294e+00, off by 1.306e-05\n",
      "In iTEBD, eps = 6.170e-05, counter = 129, energy = -1.273222919403e+00, off by 1.306e-05\n",
      "In iTEBD, eps = 6.163e-05, counter = 130, energy = -1.273222919512e+00, off by 1.306e-05\n",
      "In iTEBD, eps = 6.157e-05, counter = 131, energy = -1.273222919620e+00, off by 1.306e-05\n",
      "In iTEBD, eps = 6.150e-05, counter = 132, energy = -1.273222919728e+00, off by 1.306e-05\n",
      "In iTEBD, eps = 6.143e-05, counter = 133, energy = -1.273222919835e+00, off by 1.306e-05\n",
      "In iTEBD, eps = 6.136e-05, counter = 134, energy = -1.273222919942e+00, off by 1.306e-05\n",
      "In iTEBD, eps = 6.129e-05, counter = 135, energy = -1.273222920048e+00, off by 1.306e-05\n",
      "In iTEBD, eps = 6.122e-05, counter = 136, energy = -1.273222920154e+00, off by 1.306e-05\n",
      "In iTEBD, eps = 6.116e-05, counter = 137, energy = -1.273222920259e+00, off by 1.306e-05\n",
      "In iTEBD, eps = 6.109e-05, counter = 138, energy = -1.273222920364e+00, off by 1.306e-05\n",
      "In iTEBD, eps = 6.102e-05, counter = 139, energy = -1.273222920469e+00, off by 1.306e-05\n",
      "In iTEBD, eps = 6.095e-05, counter = 140, energy = -1.273222920572e+00, off by 1.306e-05\n",
      "In iTEBD, eps = 6.088e-05, counter = 141, energy = -1.273222920676e+00, off by 1.306e-05\n",
      "In iTEBD, eps = 6.081e-05, counter = 142, energy = -1.273222920779e+00, off by 1.306e-05\n",
      "In iTEBD, eps = 6.075e-05, counter = 143, energy = -1.273222920881e+00, off by 1.306e-05\n",
      "In iTEBD, eps = 6.068e-05, counter = 144, energy = -1.273222920983e+00, off by 1.306e-05\n",
      "In iTEBD, eps = 6.061e-05, counter = 145, energy = -1.273222921085e+00, off by 1.306e-05\n",
      "In iTEBD, eps = 6.054e-05, counter = 146, energy = -1.273222921185e+00, off by 1.306e-05\n",
      "In iTEBD, eps = 6.047e-05, counter = 147, energy = -1.273222921286e+00, off by 1.306e-05\n",
      "In iTEBD, eps = 6.040e-05, counter = 148, energy = -1.273222921386e+00, off by 1.306e-05\n",
      "In iTEBD, eps = 6.034e-05, counter = 149, energy = -1.273222921486e+00, off by 1.306e-05\n",
      "In iTEBD, eps = 6.027e-05, counter = 150, energy = -1.273222921585e+00, off by 1.306e-05\n",
      "In iTEBD, evolving with τ = 6.250e-03.\n",
      "In iTEBD, eps = 5.677e-04, counter = 1, energy = -1.273231208492e+00, off by 6.547e-06\n",
      "In iTEBD, eps = 2.372e-04, counter = 2, energy = -1.273233804116e+00, off by 4.509e-06\n",
      "In iTEBD, eps = 1.030e-04, counter = 3, energy = -1.273234741803e+00, off by 3.772e-06\n",
      "In iTEBD, eps = 5.095e-05, counter = 4, energy = -1.273235109353e+00, off by 3.484e-06\n",
      "In iTEBD, eps = 3.431e-05, counter = 5, energy = -1.273235259686e+00, off by 3.365e-06\n",
      "In iTEBD, eps = 3.042e-05, counter = 6, energy = -1.273235322594e+00, off by 3.316e-06\n",
      "In iTEBD, eps = 2.972e-05, counter = 7, energy = -1.273235349290e+00, off by 3.295e-06\n",
      "In iTEBD, eps = 2.968e-05, counter = 8, energy = -1.273235360740e+00, off by 3.286e-06\n",
      "In iTEBD, eps = 2.975e-05, counter = 9, energy = -1.273235365706e+00, off by 3.282e-06\n",
      "In iTEBD, eps = 2.983e-05, counter = 10, energy = -1.273235367892e+00, off by 3.280e-06\n",
      "In iTEBD, eps = 2.991e-05, counter = 11, energy = -1.273235368878e+00, off by 3.280e-06\n",
      "In iTEBD, eps = 2.999e-05, counter = 12, energy = -1.273235369343e+00, off by 3.279e-06\n",
      "In iTEBD, eps = 3.006e-05, counter = 13, energy = -1.273235369580e+00, off by 3.279e-06\n",
      "In iTEBD, eps = 3.012e-05, counter = 14, energy = -1.273235369716e+00, off by 3.279e-06\n",
      "In iTEBD, eps = 3.017e-05, counter = 15, energy = -1.273235369808e+00, off by 3.279e-06\n",
      "In iTEBD, eps = 3.022e-05, counter = 16, energy = -1.273235369880e+00, off by 3.279e-06\n",
      "In iTEBD, eps = 3.027e-05, counter = 17, energy = -1.273235369942e+00, off by 3.279e-06\n",
      "In iTEBD, eps = 3.031e-05, counter = 18, energy = -1.273235369999e+00, off by 3.279e-06\n",
      "In iTEBD, eps = 3.034e-05, counter = 19, energy = -1.273235370053e+00, off by 3.279e-06\n",
      "In iTEBD, eps = 3.038e-05, counter = 20, energy = -1.273235370106e+00, off by 3.279e-06\n",
      "In iTEBD, eps = 3.041e-05, counter = 21, energy = -1.273235370158e+00, off by 3.279e-06\n",
      "In iTEBD, eps = 3.044e-05, counter = 22, energy = -1.273235370210e+00, off by 3.279e-06\n",
      "In iTEBD, eps = 3.047e-05, counter = 23, energy = -1.273235370260e+00, off by 3.279e-06\n",
      "In iTEBD, eps = 3.049e-05, counter = 24, energy = -1.273235370310e+00, off by 3.279e-06\n",
      "In iTEBD, eps = 3.051e-05, counter = 25, energy = -1.273235370359e+00, off by 3.279e-06\n",
      "In iTEBD, eps = 3.053e-05, counter = 26, energy = -1.273235370408e+00, off by 3.279e-06\n",
      "In iTEBD, eps = 3.055e-05, counter = 27, energy = -1.273235370457e+00, off by 3.278e-06\n",
      "In iTEBD, eps = 3.057e-05, counter = 28, energy = -1.273235370505e+00, off by 3.278e-06\n",
      "In iTEBD, eps = 3.058e-05, counter = 29, energy = -1.273235370552e+00, off by 3.278e-06\n",
      "In iTEBD, eps = 3.060e-05, counter = 30, energy = -1.273235370600e+00, off by 3.278e-06\n",
      "In iTEBD, eps = 3.061e-05, counter = 31, energy = -1.273235370646e+00, off by 3.278e-06\n",
      "In iTEBD, eps = 3.062e-05, counter = 32, energy = -1.273235370693e+00, off by 3.278e-06\n",
      "In iTEBD, eps = 3.063e-05, counter = 33, energy = -1.273235370739e+00, off by 3.278e-06\n",
      "In iTEBD, eps = 3.064e-05, counter = 34, energy = -1.273235370785e+00, off by 3.278e-06\n",
      "In iTEBD, eps = 3.065e-05, counter = 35, energy = -1.273235370831e+00, off by 3.278e-06\n",
      "In iTEBD, eps = 3.066e-05, counter = 36, energy = -1.273235370876e+00, off by 3.278e-06\n",
      "In iTEBD, eps = 3.066e-05, counter = 37, energy = -1.273235370921e+00, off by 3.278e-06\n",
      "In iTEBD, eps = 3.067e-05, counter = 38, energy = -1.273235370966e+00, off by 3.278e-06\n",
      "In iTEBD, eps = 3.067e-05, counter = 39, energy = -1.273235371010e+00, off by 3.278e-06\n",
      "In iTEBD, eps = 3.068e-05, counter = 40, energy = -1.273235371054e+00, off by 3.278e-06\n",
      "In iTEBD, eps = 3.068e-05, counter = 41, energy = -1.273235371098e+00, off by 3.278e-06\n",
      "In iTEBD, eps = 3.068e-05, counter = 42, energy = -1.273235371142e+00, off by 3.278e-06\n",
      "In iTEBD, eps = 3.069e-05, counter = 43, energy = -1.273235371186e+00, off by 3.278e-06\n",
      "In iTEBD, eps = 3.069e-05, counter = 44, energy = -1.273235371229e+00, off by 3.278e-06\n",
      "In iTEBD, eps = 3.069e-05, counter = 45, energy = -1.273235371272e+00, off by 3.278e-06\n",
      "In iTEBD, eps = 3.069e-05, counter = 46, energy = -1.273235371315e+00, off by 3.278e-06\n",
      "In iTEBD, eps = 3.069e-05, counter = 47, energy = -1.273235371358e+00, off by 3.278e-06\n",
      "In iTEBD, eps = 3.069e-05, counter = 48, energy = -1.273235371400e+00, off by 3.278e-06\n",
      "In iTEBD, eps = 3.069e-05, counter = 49, energy = -1.273235371443e+00, off by 3.278e-06\n",
      "In iTEBD, eps = 3.069e-05, counter = 50, energy = -1.273235371485e+00, off by 3.278e-06\n",
      "In iTEBD, eps = 3.068e-05, counter = 51, energy = -1.273235371527e+00, off by 3.278e-06\n",
      "In iTEBD, eps = 3.068e-05, counter = 52, energy = -1.273235371569e+00, off by 3.278e-06\n",
      "In iTEBD, eps = 3.068e-05, counter = 53, energy = -1.273235371610e+00, off by 3.278e-06\n",
      "In iTEBD, eps = 3.068e-05, counter = 54, energy = -1.273235371652e+00, off by 3.278e-06\n"
     ]
    },
    {
     "name": "stdout",
     "output_type": "stream",
     "text": [
      "In iTEBD, eps = 3.067e-05, counter = 55, energy = -1.273235371693e+00, off by 3.277e-06\n",
      "In iTEBD, eps = 3.067e-05, counter = 56, energy = -1.273235371734e+00, off by 3.277e-06\n",
      "In iTEBD, eps = 3.067e-05, counter = 57, energy = -1.273235371775e+00, off by 3.277e-06\n",
      "In iTEBD, eps = 3.066e-05, counter = 58, energy = -1.273235371816e+00, off by 3.277e-06\n",
      "In iTEBD, eps = 3.066e-05, counter = 59, energy = -1.273235371857e+00, off by 3.277e-06\n",
      "In iTEBD, eps = 3.065e-05, counter = 60, energy = -1.273235371897e+00, off by 3.277e-06\n",
      "In iTEBD, eps = 3.065e-05, counter = 61, energy = -1.273235371937e+00, off by 3.277e-06\n",
      "In iTEBD, eps = 3.064e-05, counter = 62, energy = -1.273235371978e+00, off by 3.277e-06\n",
      "In iTEBD, eps = 3.063e-05, counter = 63, energy = -1.273235372018e+00, off by 3.277e-06\n",
      "In iTEBD, eps = 3.063e-05, counter = 64, energy = -1.273235372058e+00, off by 3.277e-06\n",
      "In iTEBD, eps = 3.062e-05, counter = 65, energy = -1.273235372098e+00, off by 3.277e-06\n",
      "In iTEBD, eps = 3.061e-05, counter = 66, energy = -1.273235372137e+00, off by 3.277e-06\n",
      "In iTEBD, eps = 3.061e-05, counter = 67, energy = -1.273235372177e+00, off by 3.277e-06\n",
      "In iTEBD, eps = 3.060e-05, counter = 68, energy = -1.273235372216e+00, off by 3.277e-06\n",
      "In iTEBD, eps = 3.059e-05, counter = 69, energy = -1.273235372255e+00, off by 3.277e-06\n",
      "In iTEBD, eps = 3.059e-05, counter = 70, energy = -1.273235372295e+00, off by 3.277e-06\n",
      "In iTEBD, eps = 3.058e-05, counter = 71, energy = -1.273235372334e+00, off by 3.277e-06\n",
      "In iTEBD, eps = 3.057e-05, counter = 72, energy = -1.273235372372e+00, off by 3.277e-06\n",
      "In iTEBD, eps = 3.056e-05, counter = 73, energy = -1.273235372411e+00, off by 3.277e-06\n",
      "In iTEBD, eps = 3.055e-05, counter = 74, energy = -1.273235372450e+00, off by 3.277e-06\n",
      "In iTEBD, eps = 3.055e-05, counter = 75, energy = -1.273235372488e+00, off by 3.277e-06\n",
      "In iTEBD, eps = 3.054e-05, counter = 76, energy = -1.273235372527e+00, off by 3.277e-06\n",
      "In iTEBD, eps = 3.053e-05, counter = 77, energy = -1.273235372565e+00, off by 3.277e-06\n",
      "In iTEBD, eps = 3.052e-05, counter = 78, energy = -1.273235372603e+00, off by 3.277e-06\n",
      "In iTEBD, eps = 3.051e-05, counter = 79, energy = -1.273235372641e+00, off by 3.277e-06\n",
      "In iTEBD, eps = 3.050e-05, counter = 80, energy = -1.273235372679e+00, off by 3.277e-06\n",
      "In iTEBD, eps = 3.049e-05, counter = 81, energy = -1.273235372717e+00, off by 3.277e-06\n",
      "In iTEBD, eps = 3.048e-05, counter = 82, energy = -1.273235372755e+00, off by 3.277e-06\n",
      "In iTEBD, eps = 3.047e-05, counter = 83, energy = -1.273235372792e+00, off by 3.277e-06\n",
      "In iTEBD, eps = 3.046e-05, counter = 84, energy = -1.273235372830e+00, off by 3.277e-06\n",
      "In iTEBD, eps = 3.045e-05, counter = 85, energy = -1.273235372867e+00, off by 3.277e-06\n",
      "In iTEBD, eps = 3.044e-05, counter = 86, energy = -1.273235372905e+00, off by 3.277e-06\n",
      "In iTEBD, eps = 3.043e-05, counter = 87, energy = -1.273235372942e+00, off by 3.277e-06\n",
      "In iTEBD, eps = 3.042e-05, counter = 88, energy = -1.273235372979e+00, off by 3.276e-06\n",
      "In iTEBD, eps = 3.041e-05, counter = 89, energy = -1.273235373016e+00, off by 3.276e-06\n",
      "In iTEBD, eps = 3.040e-05, counter = 90, energy = -1.273235373053e+00, off by 3.276e-06\n",
      "In iTEBD, eps = 3.039e-05, counter = 91, energy = -1.273235373090e+00, off by 3.276e-06\n",
      "In iTEBD, eps = 3.038e-05, counter = 92, energy = -1.273235373126e+00, off by 3.276e-06\n",
      "In iTEBD, eps = 3.037e-05, counter = 93, energy = -1.273235373163e+00, off by 3.276e-06\n",
      "In iTEBD, eps = 3.036e-05, counter = 94, energy = -1.273235373199e+00, off by 3.276e-06\n",
      "In iTEBD, eps = 3.035e-05, counter = 95, energy = -1.273235373236e+00, off by 3.276e-06\n",
      "In iTEBD, eps = 3.033e-05, counter = 96, energy = -1.273235373272e+00, off by 3.276e-06\n",
      "In iTEBD, eps = 3.032e-05, counter = 97, energy = -1.273235373308e+00, off by 3.276e-06\n",
      "In iTEBD, eps = 3.031e-05, counter = 98, energy = -1.273235373344e+00, off by 3.276e-06\n",
      "In iTEBD, eps = 3.030e-05, counter = 99, energy = -1.273235373380e+00, off by 3.276e-06\n",
      "In iTEBD, eps = 3.029e-05, counter = 100, energy = -1.273235373416e+00, off by 3.276e-06\n",
      "In iTEBD, eps = 3.028e-05, counter = 101, energy = -1.273235373452e+00, off by 3.276e-06\n",
      "In iTEBD, eps = 3.027e-05, counter = 102, energy = -1.273235373488e+00, off by 3.276e-06\n",
      "In iTEBD, eps = 3.025e-05, counter = 103, energy = -1.273235373523e+00, off by 3.276e-06\n",
      "In iTEBD, eps = 3.024e-05, counter = 104, energy = -1.273235373559e+00, off by 3.276e-06\n",
      "In iTEBD, eps = 3.023e-05, counter = 105, energy = -1.273235373594e+00, off by 3.276e-06\n",
      "In iTEBD, eps = 3.022e-05, counter = 106, energy = -1.273235373630e+00, off by 3.276e-06\n",
      "In iTEBD, eps = 3.021e-05, counter = 107, energy = -1.273235373665e+00, off by 3.276e-06\n",
      "In iTEBD, eps = 3.019e-05, counter = 108, energy = -1.273235373700e+00, off by 3.276e-06\n",
      "In iTEBD, eps = 3.018e-05, counter = 109, energy = -1.273235373735e+00, off by 3.276e-06\n",
      "In iTEBD, eps = 3.017e-05, counter = 110, energy = -1.273235373770e+00, off by 3.276e-06\n",
      "In iTEBD, eps = 3.016e-05, counter = 111, energy = -1.273235373805e+00, off by 3.276e-06\n",
      "In iTEBD, eps = 3.015e-05, counter = 112, energy = -1.273235373840e+00, off by 3.276e-06\n",
      "In iTEBD, eps = 3.013e-05, counter = 113, energy = -1.273235373875e+00, off by 3.276e-06\n",
      "In iTEBD, eps = 3.012e-05, counter = 114, energy = -1.273235373909e+00, off by 3.276e-06\n",
      "In iTEBD, eps = 3.011e-05, counter = 115, energy = -1.273235373944e+00, off by 3.276e-06\n",
      "In iTEBD, eps = 3.010e-05, counter = 116, energy = -1.273235373978e+00, off by 3.276e-06\n",
      "In iTEBD, eps = 3.008e-05, counter = 117, energy = -1.273235374013e+00, off by 3.276e-06\n",
      "In iTEBD, eps = 3.007e-05, counter = 118, energy = -1.273235374047e+00, off by 3.276e-06\n",
      "In iTEBD, eps = 3.006e-05, counter = 119, energy = -1.273235374081e+00, off by 3.276e-06\n",
      "In iTEBD, eps = 3.004e-05, counter = 120, energy = -1.273235374115e+00, off by 3.276e-06\n",
      "In iTEBD, eps = 3.003e-05, counter = 121, energy = -1.273235374149e+00, off by 3.276e-06\n",
      "In iTEBD, eps = 3.002e-05, counter = 122, energy = -1.273235374183e+00, off by 3.276e-06\n",
      "In iTEBD, eps = 3.001e-05, counter = 123, energy = -1.273235374217e+00, off by 3.276e-06\n",
      "In iTEBD, eps = 2.999e-05, counter = 124, energy = -1.273235374251e+00, off by 3.275e-06\n",
      "In iTEBD, eps = 2.998e-05, counter = 125, energy = -1.273235374285e+00, off by 3.275e-06\n",
      "In iTEBD, eps = 2.997e-05, counter = 126, energy = -1.273235374319e+00, off by 3.275e-06\n",
      "In iTEBD, eps = 2.995e-05, counter = 127, energy = -1.273235374352e+00, off by 3.275e-06\n",
      "In iTEBD, eps = 2.994e-05, counter = 128, energy = -1.273235374386e+00, off by 3.275e-06\n",
      "In iTEBD, eps = 2.993e-05, counter = 129, energy = -1.273235374419e+00, off by 3.275e-06\n",
      "In iTEBD, eps = 2.991e-05, counter = 130, energy = -1.273235374453e+00, off by 3.275e-06\n",
      "In iTEBD, eps = 2.990e-05, counter = 131, energy = -1.273235374486e+00, off by 3.275e-06\n",
      "In iTEBD, eps = 2.989e-05, counter = 132, energy = -1.273235374519e+00, off by 3.275e-06\n",
      "In iTEBD, eps = 2.987e-05, counter = 133, energy = -1.273235374552e+00, off by 3.275e-06\n",
      "In iTEBD, eps = 2.986e-05, counter = 134, energy = -1.273235374585e+00, off by 3.275e-06\n",
      "In iTEBD, eps = 2.985e-05, counter = 135, energy = -1.273235374618e+00, off by 3.275e-06\n",
      "In iTEBD, eps = 2.983e-05, counter = 136, energy = -1.273235374651e+00, off by 3.275e-06\n",
      "In iTEBD, eps = 2.982e-05, counter = 137, energy = -1.273235374684e+00, off by 3.275e-06\n",
      "In iTEBD, eps = 2.981e-05, counter = 138, energy = -1.273235374717e+00, off by 3.275e-06\n",
      "In iTEBD, eps = 2.979e-05, counter = 139, energy = -1.273235374749e+00, off by 3.275e-06\n",
      "In iTEBD, eps = 2.978e-05, counter = 140, energy = -1.273235374782e+00, off by 3.275e-06\n",
      "In iTEBD, eps = 2.977e-05, counter = 141, energy = -1.273235374814e+00, off by 3.275e-06\n",
      "In iTEBD, eps = 2.975e-05, counter = 142, energy = -1.273235374847e+00, off by 3.275e-06\n",
      "In iTEBD, eps = 2.974e-05, counter = 143, energy = -1.273235374879e+00, off by 3.275e-06\n",
      "In iTEBD, eps = 2.972e-05, counter = 144, energy = -1.273235374911e+00, off by 3.275e-06\n",
      "In iTEBD, eps = 2.971e-05, counter = 145, energy = -1.273235374944e+00, off by 3.275e-06\n",
      "In iTEBD, eps = 2.970e-05, counter = 146, energy = -1.273235374976e+00, off by 3.275e-06\n",
      "In iTEBD, eps = 2.968e-05, counter = 147, energy = -1.273235375008e+00, off by 3.275e-06\n"
     ]
    },
    {
     "name": "stdout",
     "output_type": "stream",
     "text": [
      "In iTEBD, eps = 2.967e-05, counter = 148, energy = -1.273235375040e+00, off by 3.275e-06\n",
      "In iTEBD, eps = 2.966e-05, counter = 149, energy = -1.273235375072e+00, off by 3.275e-06\n",
      "In iTEBD, eps = 2.964e-05, counter = 150, energy = -1.273235375104e+00, off by 3.275e-06\n",
      "In iTEBD, evolving with τ = 3.125e-03.\n",
      "In iTEBD, eps = 1.725e-04, counter = 1, energy = -1.273236721537e+00, off by 2.217e-06\n",
      "In iTEBD, eps = 1.114e-04, counter = 2, energy = -1.273237446475e+00, off by 1.648e-06\n",
      "In iTEBD, eps = 7.262e-05, counter = 3, energy = -1.273237855453e+00, off by 1.327e-06\n",
      "In iTEBD, eps = 4.823e-05, counter = 4, energy = -1.273238095251e+00, off by 1.138e-06\n",
      "In iTEBD, eps = 3.318e-05, counter = 5, energy = -1.273238240127e+00, off by 1.025e-06\n",
      "In iTEBD, eps = 2.426e-05, counter = 6, energy = -1.273238329624e+00, off by 9.543e-07\n",
      "In iTEBD, eps = 1.934e-05, counter = 7, energy = -1.273238385811e+00, off by 9.102e-07\n",
      "In iTEBD, eps = 1.684e-05, counter = 8, energy = -1.273238421496e+00, off by 8.822e-07\n",
      "In iTEBD, eps = 1.566e-05, counter = 9, energy = -1.273238444350e+00, off by 8.642e-07\n",
      "In iTEBD, eps = 1.513e-05, counter = 10, energy = -1.273238459078e+00, off by 8.527e-07\n",
      "In iTEBD, eps = 1.489e-05, counter = 11, energy = -1.273238468614e+00, off by 8.452e-07\n",
      "In iTEBD, eps = 1.479e-05, counter = 12, energy = -1.273238474811e+00, off by 8.403e-07\n",
      "In iTEBD, eps = 1.475e-05, counter = 13, energy = -1.273238478852e+00, off by 8.371e-07\n",
      "In iTEBD, eps = 1.474e-05, counter = 14, energy = -1.273238481495e+00, off by 8.351e-07\n",
      "In iTEBD, eps = 1.474e-05, counter = 15, energy = -1.273238483229e+00, off by 8.337e-07\n",
      "In iTEBD, eps = 1.474e-05, counter = 16, energy = -1.273238484370e+00, off by 8.328e-07\n",
      "In iTEBD, eps = 1.474e-05, counter = 17, energy = -1.273238485124e+00, off by 8.322e-07\n",
      "In iTEBD, eps = 1.474e-05, counter = 18, energy = -1.273238485624e+00, off by 8.318e-07\n",
      "In iTEBD, eps = 1.475e-05, counter = 19, energy = -1.273238485959e+00, off by 8.316e-07\n",
      "In iTEBD, eps = 1.475e-05, counter = 20, energy = -1.273238486185e+00, off by 8.314e-07\n",
      "In iTEBD, eps = 1.475e-05, counter = 21, energy = -1.273238486339e+00, off by 8.313e-07\n",
      "In iTEBD, eps = 1.475e-05, counter = 22, energy = -1.273238486446e+00, off by 8.312e-07\n",
      "In iTEBD, eps = 1.476e-05, counter = 23, energy = -1.273238486522e+00, off by 8.311e-07\n",
      "In iTEBD, eps = 1.476e-05, counter = 24, energy = -1.273238486577e+00, off by 8.311e-07\n",
      "In iTEBD, eps = 1.476e-05, counter = 25, energy = -1.273238486619e+00, off by 8.310e-07\n",
      "In iTEBD, eps = 1.476e-05, counter = 26, energy = -1.273238486652e+00, off by 8.310e-07\n",
      "In iTEBD, eps = 1.476e-05, counter = 27, energy = -1.273238486679e+00, off by 8.310e-07\n",
      "In iTEBD, eps = 1.476e-05, counter = 28, energy = -1.273238486702e+00, off by 8.310e-07\n",
      "In iTEBD, eps = 1.477e-05, counter = 29, energy = -1.273238486722e+00, off by 8.310e-07\n",
      "In iTEBD, eps = "
     ]
    }
   ],
   "source": [
    "magfield = 1.0\n",
    "exact_energy = -4/π\n",
    "h = build_ising_ham(magfield)\n",
    "h = reshape(h, (2,2,2,2))\n",
    "pars = Dict(\n",
    "    \"τ_min\"  => 5e-4,\n",
    "    \"τ_step\" => 1/2,\n",
    "    \"D\"      => 70,\n",
    "    \"max_iters\"       => 150,\n",
    "    \"convergence_eps\" => 1e-6,\n",
    "    \"inner_iters\"     => 30\n",
    ")\n",
    "\n",
    "# Print energy is a function that \n",
    "print_energy = (ΓA, λA, ΓB, λB) -> begin\n",
    "    energy = expect_twositelocal_dcan(ΓA, λA, ΓB, λB, h)\n",
    "    abs(imag(energy)) > 1e-12 && warn(\"Imaginary energy value: \", energy)\n",
    "    energy = real(energy)\n",
    "    error = abs(energy - exact_energy)/abs(exact_energy)\n",
    "    str = @sprintf(\", energy = %.12e, off by %.3e\", energy, error)\n",
    "end\n",
    "\n",
    "@time ΓA, λA, ΓB, λB = itebd_optimize(h, pars; evalfunc=print_energy)\n",
    ";"
   ]
  },
  {
   "cell_type": "markdown",
   "metadata": {},
   "source": [
    "## Evaluating the critical exponent η"
   ]
  },
  {
   "cell_type": "code",
   "execution_count": 106,
   "metadata": {},
   "outputs": [
    {
     "data": {
      "text/plain": [
       "correlator_twopoint_dcan (generic function with 1 method)"
      ]
     },
     "execution_count": 106,
     "metadata": {},
     "output_type": "execute_result"
    }
   ],
   "source": [
    "# Functions for transfer matrices and correlation functions.\n",
    "# These are like the functions we wrote above for the uniform\n",
    "# MPS, but now for the two-site translation invariant, canonical\n",
    "# form MPS ΓA, λA, ΓB, λB.\n",
    "#\n",
    "# The code tries to make as much use as possible of the old\n",
    "# functions for the uniform MPS.\n",
    "\n",
    "function tm_l_dcan(ΓA, λA, ΓB, λB, x)\n",
    "    y = tm_l(ΓA, x)\n",
    "    y = Diagonal(λA) * y * Diagonal(λA)\n",
    "    y = tm_l(ΓB, y)\n",
    "    y = Diagonal(λB) * y * Diagonal(λB)\n",
    "    return y\n",
    "end\n",
    "\n",
    "function tm_r_dcan(ΓA, λA, ΓB, λB, x)\n",
    "    y = Diagonal(λB) * x * Diagonal(λB)\n",
    "    y = tm_r(ΓB, y)\n",
    "    y = Diagonal(λA) * y * Diagonal(λA)\n",
    "    y = tm_r(ΓA, y)\n",
    "    return y\n",
    "end\n",
    "\n",
    "function expect_local_dcan(ΓA, λA, ΓB, λB, O)\n",
    "    λA_sqr = diagm(λA.^2)\n",
    "    λB_sqr = diagm(λB.^2)\n",
    "    expectation_A = expect_local(ΓA, O, λB_sqr, λA_sqr)\n",
    "    expectation_B = expect_local(ΓB, O, λA_sqr, λB_sqr)\n",
    "    expectation = (expectation_A + expectation_B)/2.\n",
    "    return expectation\n",
    "end\n",
    "\n",
    "function correlator_twopoint_dcan(ΓA, λA, ΓB, λB, O1, O2, m)\n",
    "    local_O1 = expect_local_dcan(ΓA, λA, ΓB, λB, O1)\n",
    "    local_O2 = expect_local_dcan(ΓA, λA, ΓB, λB, O2)\n",
    "    disconnected = local_O1 * local_O2\n",
    "    \n",
    "    l = diagm(λA.^2)\n",
    "    l = tm_l_op(ΓB, O1, l)\n",
    "    l = Diagonal(λB) * l * Diagonal(λB)\n",
    "    \n",
    "    r = diagm(λB.^2)\n",
    "    r = tm_r_op(ΓB, O1, r)\n",
    "    r = Diagonal(λA) * r * Diagonal(λA)\n",
    "    r = tm_r(ΓA, r)\n",
    "    \n",
    "    result = zeros(eltype(ΓA), m)\n",
    "    result[1] = vec(l)'*vec(r) - disconnected\n",
    "    for i in 1:m\n",
    "        r = tm_r_dcan(ΓA, λA, ΓB, λB, r)\n",
    "        result[i] = vec(l)'*vec(r) - disconnected\n",
    "    end\n",
    "    return result\n",
    "end"
   ]
  },
  {
   "cell_type": "code",
   "execution_count": 33,
   "metadata": {
    "collapsed": true
   },
   "outputs": [],
   "source": [
    "using PyPlot"
   ]
  },
  {
   "cell_type": "code",
   "execution_count": 134,
   "metadata": {},
   "outputs": [
    {
     "data": {
      "text/plain": [
       "3000-element Array{Complex{Float64},1}:\n",
       "   0.359779+1.39139e-25im\n",
       "   0.315998+1.57282e-25im\n",
       "   0.287412+1.3522e-25im \n",
       "   0.266573+1.47393e-25im\n",
       "   0.250368-8.22352e-25im\n",
       "   0.237218+3.60097e-26im\n",
       "   0.226219-1.07981e-26im\n",
       "   0.216809-2.35106e-25im\n",
       "   0.208617+3.24885e-25im\n",
       "   0.201384+3.36792e-25im\n",
       "   0.194925-4.16887e-26im\n",
       "   0.189102-6.7823e-26im \n",
       "    0.18381+7.57673e-26im\n",
       "           ⋮             \n",
       " 1.68987e-6+1.36219e-24im\n",
       "  1.6838e-6+1.40813e-24im\n",
       " 1.67776e-6+1.42194e-24im\n",
       " 1.67173e-6+1.36996e-24im\n",
       " 1.66572e-6+1.40263e-24im\n",
       " 1.65974e-6+1.43816e-24im\n",
       " 1.65378e-6+1.41295e-24im\n",
       " 1.64784e-6+1.40043e-24im\n",
       " 1.64192e-6+1.42553e-24im\n",
       " 1.63602e-6+1.411e-24im  \n",
       " 1.63014e-6+1.42016e-24im\n",
       " 1.62429e-6+1.42741e-24im"
      ]
     },
     "execution_count": 134,
     "metadata": {},
     "output_type": "execute_result"
    }
   ],
   "source": [
    "X = [0 1; 1 0]\n",
    "Z = [1 0; 0 -1]\n",
    "m = 3000\n",
    "Zcorrs = correlator_twopoint_dcan(ΓA, λA, ΓB, λB, Z, Z, m)\n",
    "Xcorrs = correlator_twopoint_dcan(ΓA, λA, ΓB, λB, X, X, m)"
   ]
  },
  {
   "cell_type": "code",
   "execution_count": 140,
   "metadata": {},
   "outputs": [
    {
     "data": {
      "image/png": "[encoded data removed]",
      "text/plain": [
       "PyPlot.Figure(PyObject <matplotlib.figure.Figure object at 0x7fd3b99433d0>)"
      ]
     },
     "metadata": {},
     "output_type": "display_data"
    },
    {
     "name": "stdout",
     "output_type": "stream",
     "text": [
      "(a, b) = (-0.6239685116470368, -0.335542752208752)\n"
     ]
    },
    {
     "data": {
      "text/plain": [
       "PyObject <matplotlib.legend.Legend object at 0x7fd3b9718610>"
      ]
     },
     "execution_count": 140,
     "metadata": {},
     "output_type": "execute_result"
    }
   ],
   "source": [
    "xpoints = vcat(1:2:2*m)\n",
    "\n",
    "# A simple linear fit\n",
    "n1, n2 = 5, 25  # The points to consider in the fit.\n",
    "logxsamples = log.(xpoints[n1:n2])\n",
    "logvaluesamples = log.(abs.(Xcorrs[n1:n2]))\n",
    "a, b = linreg(logxsamples, logvaluesamples)\n",
    "@show a, b\n",
    "fit = [exp(a) * i^b for i in xpoints]\n",
    "\n",
    "# Behold the polynomial decay of correlators, up to some finite\n",
    "# distance, after which the nature of the MPS state takes over\n",
    "# and leads to an exponential dive. Note how different this\n",
    "# behavior is from the one we observed before for a random MPS.\n",
    "# For the exact critical ground state, the polynomial decay should\n",
    "# continue indefinitely.\n",
    "loglog(xpoints, fit; label=\"fit\")\n",
    "loglog(xpoints, abs.(Xcorrs); marker=\"x\", ms=1, ls=\"\", label=\"XX\")\n",
    "loglog(xpoints, abs.(Zcorrs); marker=\"x\", ms=1, ls=\"\", label=\"ZZ\")\n",
    "legend()"
   ]
  },
  {
   "cell_type": "code",
   "execution_count": 138,
   "metadata": {},
   "outputs": [
    {
     "data": {
      "image/png": "[encoded data removed]",
      "text/plain": [
       "PyPlot.Figure(PyObject <matplotlib.figure.Figure object at 0x7fd3b9bc7b90>)"
      ]
     },
     "metadata": {},
     "output_type": "display_data"
    },
    {
     "data": {
      "text/plain": [
       "PyObject <matplotlib.legend.Legend object at 0x7fd3b9a2af50>"
      ]
     },
     "execution_count": 138,
     "metadata": {},
     "output_type": "execute_result"
    }
   ],
   "source": [
    "# The same in semilogy, to illustrate the exponential decay\n",
    "# after a point.\n",
    "semilogy(xpoints, fit; label=\"fit\")\n",
    "semilogy(xpoints, abs.(Xcorrs); marker=\"x\", ms=1, ls=\"\", label=\"XX\")\n",
    "semilogy(xpoints, abs.(Zcorrs); marker=\"x\", ms=1, ls=\"\", label=\"ZZ\")\n",
    "legend()"
   ]
  },
  {
   "cell_type": "code",
   "execution_count": null,
   "metadata": {
    "collapsed": true
   },
   "outputs": [],
   "source": []
  }
 ],
 "metadata": {
  "kernelspec": {
   "display_name": "Julia 0.6.0",
   "language": "julia",
   "name": "julia-0.6"
  },
  "language_info": {
   "file_extension": ".jl",
   "mimetype": "application/julia",
   "name": "julia",
   "version": "0.6.0"
  }
 },
 "nbformat": 4,
 "nbformat_minor": 2
}
